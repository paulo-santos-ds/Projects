{
  "nbformat": 4,
  "nbformat_minor": 0,
  "metadata": {
    "colab": {
      "provenance": [],
      "authorship_tag": "ABX9TyMnZE+eo34L9O/XmpPX5shB",
      "include_colab_link": true
    },
    "kernelspec": {
      "name": "python3",
      "display_name": "Python 3"
    },
    "language_info": {
      "name": "python"
    }
  },
  "cells": [
    {
      "cell_type": "markdown",
      "metadata": {
        "id": "view-in-github",
        "colab_type": "text"
      },
      "source": [
        "<a href=\"https://colab.research.google.com/github/paulo-santos-ds/Projects/blob/main/Chatbot.ipynb\" target=\"_parent\"><img src=\"https://colab.research.google.com/assets/colab-badge.svg\" alt=\"Open In Colab\"/></a>"
      ]
    },
    {
      "cell_type": "code",
      "execution_count": null,
      "metadata": {
        "colab": {
          "base_uri": "https://localhost:8080/"
        },
        "id": "FAu_A7Fy4knJ",
        "outputId": "a156aed0-13cf-45f8-a542-48e0c0551928"
      },
      "outputs": [
        {
          "output_type": "stream",
          "name": "stdout",
          "text": [
            "Bem-vindo ao nosso chatbot de atendimento! Como posso ajudá-lo hoje?\n"
          ]
        }
      ],
      "source": [
        "def chatbot():\n",
        "    print(\"Bem-vindo ao nosso chatbot de atendimento! Como posso ajudá-lo hoje?\")\n",
        "    while True:\n",
        "        user_input = input(\"Você: \")\n",
        "        if user_input.lower() in [\"sair\", \"tchau\", \"adeus\"]:\n",
        "            print(\"Chatbot: Até mais! Se precisar de ajuda, estarei aqui.\")\n",
        "            break\n",
        "        elif user_input.lower() == \"qual é o seu nome?\":\n",
        "            print(\"Chatbot: Meu nome é Chatbot. Em que posso ajudá-lo?\")\n",
        "        elif user_input.lower() == \"qual é o horário atual?\":\n",
        "            import datetime\n",
        "            current_time = datetime.datetime.now().time()\n",
        "            print(\"Chatbot: Agora são \" + str(current_time))\n",
        "        else:\n",
        "            print(\"Chatbot: Desculpe, não entendi. Por favor, poderia reformular sua pergunta?\")\n",
        "\n",
        "chatbot()\n"
      ]
    },
    {
      "cell_type": "code",
      "source": [],
      "metadata": {
        "id": "57tOaT6r44Hi"
      },
      "execution_count": null,
      "outputs": []
    }
  ]
}