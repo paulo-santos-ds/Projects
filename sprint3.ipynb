{
  "cells": [
    {
      "cell_type": "markdown",
      "metadata": {
        "id": "view-in-github",
        "colab_type": "text"
      },
      "source": [
        "<a href=\"https://colab.research.google.com/github/paulo-santos-ds/Projects/blob/main/sprint3.ipynb\" target=\"_parent\"><img src=\"https://colab.research.google.com/assets/colab-badge.svg\" alt=\"Open In Colab\"/></a>"
      ]
    },
    {
      "cell_type": "markdown",
      "id": "2031e96c",
      "metadata": {
        "id": "2031e96c"
      },
      "source": [
        "Olá, Paulo\n",
        "\n",
        "Meu nome é Ramon. Fico feliz em revisar seu projeto. Ao ao longo do texto farei algumas observações sobre melhorias no código e também farei comentários sobre suas percepções sobre o assunto. Estarei aberto a feedbacks e discussões sobre o tema.\n",
        "\n",
        "**Peço que mantenha e não altere os comentários que eu fizer por aqui para que possamos nos localizar posteriormente, ok?**\n",
        "\n",
        "Mais uma coisa, vamos utilizar um código de cores para você entender os meus feedbacks no seu notebook. Funciona assim:\n",
        "\n",
        "<div class=\"alert alert-block alert-success\">\n",
        "<b> Comentário do revisor: </b> <a class=\"tocSkip\"></a>\n",
        "\n",
        "Sucesso. Tudo foi feito corretamente.\n",
        "</div>\n",
        "\n",
        "<div class=\"alert alert-block alert-warning\">\n",
        "<b>Comentário do revisor: </b> <a class=\"tocSkip\"></a>\n",
        "\n",
        "Alerta não crítco, mas que pode ser corrigido para melhoria geral no seu código/análise\n",
        "</div>\n",
        "\n",
        "<div class=\"alert alert-block alert-danger\">\n",
        "\n",
        "<b>Comentário do revisor: </b> <a class=\"tocSkip\"></a>\n",
        "\n",
        "Erro que precisa ser consertado, caso contrário seu projeto **não** será aceito.\n",
        "</div>\n",
        "\n",
        "Você pode me responder usando isso:\n",
        "<div class=\"alert alert-block alert-info\">\n",
        "<b>Resposta do Aluno.</b> <a class=\"tocSkip\"></a>\n",
        "</div>\n",
        "\n",
        "###\n",
        "\n",
        "<div class=\"alert alert-block alert-success\">\n",
        "<b>Comentário Geral do Revisor</b> <a class=\"tocSkip\"></a>\n",
        "O projeto está vazio. Houve algum erro? Vou pedir a um tutor para entrar em contato contigo. Aguarde o contato dele.\n",
        "</div>\n"
      ]
    },
    {
      "cell_type": "markdown",
      "id": "f5d79859",
      "metadata": {
        "id": "f5d79859"
      },
      "source": [
        "<div class=\"alert alert-block alert-danger\">\n",
        "<b> Comentário Geral do revisor: </b> <a class=\"tocSkip\"></a>\n",
        "\n",
        "Projeto retornou vazio. Tutores entraram em contato contigo?\n",
        "    \n",
        "</div>"
      ]
    },
    {
      "cell_type": "markdown",
      "id": "3Xg_RQfnafXz",
      "metadata": {
        "id": "3Xg_RQfnafXz"
      },
      "source": [
        "\n",
        "\n",
        "\n",
        "# Vamos encher o carrinho!"
      ]
    },
    {
      "cell_type": "markdown",
      "id": "mhIvmmkW414q",
      "metadata": {
        "id": "mhIvmmkW414q"
      },
      "source": [
        "# Introdução\n",
        "\n",
        "A Instacart é uma plataforma de entrega de supermercado onde os clientes podem fazer um pedido de supermercado e receber a compra em casa, semelhante ao funcionamento do Uber Eats e do iFood. O conjunto de dados que fornecemos a você foi modificado do original. Reduzimos o tamanho do conjunto de dados para que seus cálculos sejam executados mais rapidamente e introduzimos valores ausentes e duplicados. Também tivemos o cuidado de preservar as distribuições dos dados originais quando fizemos as alterações.\n",
        "\n",
        "Você precisa completar três etapas. Para cada uma delas, escreva uma breve introdução descrevendo como você pretende concluir a etapa e justifique suas decisões em parágrafos explicativos intermédios a medida que você avança na solução. Escreva também uma conclusão para resumir suas conclusões e escolhas.\n",
        "\n"
      ]
    },
    {
      "cell_type": "markdown",
      "id": "3MbyzpOQZ5Or",
      "metadata": {
        "id": "3MbyzpOQZ5Or"
      },
      "source": [
        "## Dicionário de dados\n",
        "\n",
        "Há cinco tabelas no conjunto de dados, e você vai precisar usar todas elas para pré-processar os dados e fazer a AED. Abaixo está um dicionário que lista as colunas de cada tabela e descreve os dados contidos nelas.\n",
        "\n",
        "- `instacart_orders.csv`: cada linha corresponde a um pedido no aplicativo da Instacart\n",
        "    - `'order_id'`: é o número de identificação unívoco de cada pedido\n",
        "    - `'user_id'`: é o número de identificação unívoco da conta de cada cliente\n",
        "    - `'order_number'`: é o número de vezes que o cliente fez um pedido\n",
        "    - `'order_dow'`: é o dia da semana em que o pedido foi feito (0 é domingo)\n",
        "    - `'order_hour_of_day'`: é a hora do dia em que o pedido foi feito\n",
        "    - `'days_since_prior_order'`: é o número de dias desde que o cliente fez seu pedido anterior\n",
        "\n",
        "\n",
        "\n",
        "\n",
        "- `products.csv`: cada linha corresponde a um produto unívoco que os clientes podem comprar\n",
        "    - `'product_id'`: é o número de identificação unívoco de cada produto\n",
        "    - `'product_name'`: é o nome do produto\n",
        "    - `'aisle_id'`: é o número de identificação unívoco de cada categoria de seção do supermercado\n",
        "    - `'department_id'`: é o número de identificação unívoco de cada categoria de departamento do supermercado\n",
        "\n",
        "\n",
        "\n",
        "\n",
        "-\t`order_products.csv`: cada linha corresponde a um item incluído em um pedido\n",
        "    -\t`'order_id'`: é o número de identificação unívoco de cada pedido\n",
        "    -\t`'product_id'`: é o número de identificação unívoco de cada produto\n",
        "    -\t`'add_to_cart_order'`: é a ordem sequencial em que cada item foi colocado no carrinho\n",
        "    -\t`'reordered'`: 0 se o cliente nunca comprou o produto antes, 1 se já o comprou\n",
        "\n",
        "\n",
        "\n",
        "\n",
        "-\t`aisles.csv`\n",
        "    -\t`'aisle_id'`: é o número de identificação unívoco de cada categoria de seção do supermercado\n",
        "    -\t`'aisle'`: é o nome da seção\n",
        "\n",
        "\n",
        "\n",
        "-\t`departments.csv`\n",
        "    -\t`'department_id'`: é o número de identificação unívoco de cada categoria de departamento do supermercado\n",
        "    -\t`'department'`: é o nome do departamento\n"
      ]
    },
    {
      "cell_type": "markdown",
      "id": "n3Ha_cNSZ8lK",
      "metadata": {
        "id": "n3Ha_cNSZ8lK"
      },
      "source": [
        "# Etapa 1. Visão geral dos dados\n",
        "\n",
        "Leia os arquivos de dados (/datasets/instacart_orders.csv, /datasets/products.csv, /datasets/aisles.csv, /datasets/departments.csv e /datasets/order_products.csv) com `pd.read_csv()` usando os parâmetros apropriados para fazer isso corretamente. Verifique as informações para cada DataFrame criado.\n"
      ]
    },
    {
      "cell_type": "code",
      "source": [
        "from google.colab import drive\n",
        "drive.mount('/content/drive')"
      ],
      "metadata": {
        "id": "XgZiNbU5TFGt"
      },
      "id": "XgZiNbU5TFGt",
      "execution_count": 7,
      "outputs": []
    },
    {
      "cell_type": "markdown",
      "id": "OmlQPLlyaAfR",
      "metadata": {
        "id": "OmlQPLlyaAfR"
      },
      "source": [
        "## Plano de solução\n",
        "\n",
        "Escreva aqui seu plano para a Etapa 2. Visão geral dos dados"
      ]
    },
    {
      "cell_type": "code",
      "execution_count": 8,
      "id": "fbf1adab",
      "metadata": {
        "id": "fbf1adab"
      },
      "outputs": [],
      "source": [
        "# Importe as bibliotecas\n",
        "import pandas as pd"
      ]
    },
    {
      "cell_type": "code",
      "execution_count": 9,
      "id": "ad36396d",
      "metadata": {
        "id": "ad36396d",
        "colab": {
          "base_uri": "https://localhost:8080/",
          "height": 424
        },
        "outputId": "d5fa8764-074f-475a-854d-0105a5ced786"
      },
      "outputs": [
        {
          "output_type": "execute_result",
          "data": {
            "text/plain": [
              "        order_id  user_id  order_number  order_dow  order_hour_of_day  \\\n",
              "0        1515936   183418            11          6                 13   \n",
              "1        1690866   163593             5          5                 12   \n",
              "2        1454967    39980             4          5                 19   \n",
              "3        1768857    82516            56          0                 20   \n",
              "4        3007858   196724             2          4                 12   \n",
              "...          ...      ...           ...        ...                ...   \n",
              "478962   3210681     5617             5          1                 14   \n",
              "478963   3270802   112087             2          3                 13   \n",
              "478964    885349    82944            16          2                 11   \n",
              "478965    216274     4391             3          3                  8   \n",
              "478966   2071924     1730            18          1                 14   \n",
              "\n",
              "        days_since_prior_order  \n",
              "0                         30.0  \n",
              "1                          9.0  \n",
              "2                          2.0  \n",
              "3                         10.0  \n",
              "4                         17.0  \n",
              "...                        ...  \n",
              "478962                     7.0  \n",
              "478963                     6.0  \n",
              "478964                     6.0  \n",
              "478965                     8.0  \n",
              "478966                    15.0  \n",
              "\n",
              "[478967 rows x 6 columns]"
            ],
            "text/html": [
              "\n",
              "  <div id=\"df-55c81fb1-bbb7-435b-be04-71600b776cdc\" class=\"colab-df-container\">\n",
              "    <div>\n",
              "<style scoped>\n",
              "    .dataframe tbody tr th:only-of-type {\n",
              "        vertical-align: middle;\n",
              "    }\n",
              "\n",
              "    .dataframe tbody tr th {\n",
              "        vertical-align: top;\n",
              "    }\n",
              "\n",
              "    .dataframe thead th {\n",
              "        text-align: right;\n",
              "    }\n",
              "</style>\n",
              "<table border=\"1\" class=\"dataframe\">\n",
              "  <thead>\n",
              "    <tr style=\"text-align: right;\">\n",
              "      <th></th>\n",
              "      <th>order_id</th>\n",
              "      <th>user_id</th>\n",
              "      <th>order_number</th>\n",
              "      <th>order_dow</th>\n",
              "      <th>order_hour_of_day</th>\n",
              "      <th>days_since_prior_order</th>\n",
              "    </tr>\n",
              "  </thead>\n",
              "  <tbody>\n",
              "    <tr>\n",
              "      <th>0</th>\n",
              "      <td>1515936</td>\n",
              "      <td>183418</td>\n",
              "      <td>11</td>\n",
              "      <td>6</td>\n",
              "      <td>13</td>\n",
              "      <td>30.0</td>\n",
              "    </tr>\n",
              "    <tr>\n",
              "      <th>1</th>\n",
              "      <td>1690866</td>\n",
              "      <td>163593</td>\n",
              "      <td>5</td>\n",
              "      <td>5</td>\n",
              "      <td>12</td>\n",
              "      <td>9.0</td>\n",
              "    </tr>\n",
              "    <tr>\n",
              "      <th>2</th>\n",
              "      <td>1454967</td>\n",
              "      <td>39980</td>\n",
              "      <td>4</td>\n",
              "      <td>5</td>\n",
              "      <td>19</td>\n",
              "      <td>2.0</td>\n",
              "    </tr>\n",
              "    <tr>\n",
              "      <th>3</th>\n",
              "      <td>1768857</td>\n",
              "      <td>82516</td>\n",
              "      <td>56</td>\n",
              "      <td>0</td>\n",
              "      <td>20</td>\n",
              "      <td>10.0</td>\n",
              "    </tr>\n",
              "    <tr>\n",
              "      <th>4</th>\n",
              "      <td>3007858</td>\n",
              "      <td>196724</td>\n",
              "      <td>2</td>\n",
              "      <td>4</td>\n",
              "      <td>12</td>\n",
              "      <td>17.0</td>\n",
              "    </tr>\n",
              "    <tr>\n",
              "      <th>...</th>\n",
              "      <td>...</td>\n",
              "      <td>...</td>\n",
              "      <td>...</td>\n",
              "      <td>...</td>\n",
              "      <td>...</td>\n",
              "      <td>...</td>\n",
              "    </tr>\n",
              "    <tr>\n",
              "      <th>478962</th>\n",
              "      <td>3210681</td>\n",
              "      <td>5617</td>\n",
              "      <td>5</td>\n",
              "      <td>1</td>\n",
              "      <td>14</td>\n",
              "      <td>7.0</td>\n",
              "    </tr>\n",
              "    <tr>\n",
              "      <th>478963</th>\n",
              "      <td>3270802</td>\n",
              "      <td>112087</td>\n",
              "      <td>2</td>\n",
              "      <td>3</td>\n",
              "      <td>13</td>\n",
              "      <td>6.0</td>\n",
              "    </tr>\n",
              "    <tr>\n",
              "      <th>478964</th>\n",
              "      <td>885349</td>\n",
              "      <td>82944</td>\n",
              "      <td>16</td>\n",
              "      <td>2</td>\n",
              "      <td>11</td>\n",
              "      <td>6.0</td>\n",
              "    </tr>\n",
              "    <tr>\n",
              "      <th>478965</th>\n",
              "      <td>216274</td>\n",
              "      <td>4391</td>\n",
              "      <td>3</td>\n",
              "      <td>3</td>\n",
              "      <td>8</td>\n",
              "      <td>8.0</td>\n",
              "    </tr>\n",
              "    <tr>\n",
              "      <th>478966</th>\n",
              "      <td>2071924</td>\n",
              "      <td>1730</td>\n",
              "      <td>18</td>\n",
              "      <td>1</td>\n",
              "      <td>14</td>\n",
              "      <td>15.0</td>\n",
              "    </tr>\n",
              "  </tbody>\n",
              "</table>\n",
              "<p>478967 rows × 6 columns</p>\n",
              "</div>\n",
              "    <div class=\"colab-df-buttons\">\n",
              "\n",
              "  <div class=\"colab-df-container\">\n",
              "    <button class=\"colab-df-convert\" onclick=\"convertToInteractive('df-55c81fb1-bbb7-435b-be04-71600b776cdc')\"\n",
              "            title=\"Convert this dataframe to an interactive table.\"\n",
              "            style=\"display:none;\">\n",
              "\n",
              "  <svg xmlns=\"http://www.w3.org/2000/svg\" height=\"24px\" viewBox=\"0 -960 960 960\">\n",
              "    <path d=\"M120-120v-720h720v720H120Zm60-500h600v-160H180v160Zm220 220h160v-160H400v160Zm0 220h160v-160H400v160ZM180-400h160v-160H180v160Zm440 0h160v-160H620v160ZM180-180h160v-160H180v160Zm440 0h160v-160H620v160Z\"/>\n",
              "  </svg>\n",
              "    </button>\n",
              "\n",
              "  <style>\n",
              "    .colab-df-container {\n",
              "      display:flex;\n",
              "      gap: 12px;\n",
              "    }\n",
              "\n",
              "    .colab-df-convert {\n",
              "      background-color: #E8F0FE;\n",
              "      border: none;\n",
              "      border-radius: 50%;\n",
              "      cursor: pointer;\n",
              "      display: none;\n",
              "      fill: #1967D2;\n",
              "      height: 32px;\n",
              "      padding: 0 0 0 0;\n",
              "      width: 32px;\n",
              "    }\n",
              "\n",
              "    .colab-df-convert:hover {\n",
              "      background-color: #E2EBFA;\n",
              "      box-shadow: 0px 1px 2px rgba(60, 64, 67, 0.3), 0px 1px 3px 1px rgba(60, 64, 67, 0.15);\n",
              "      fill: #174EA6;\n",
              "    }\n",
              "\n",
              "    .colab-df-buttons div {\n",
              "      margin-bottom: 4px;\n",
              "    }\n",
              "\n",
              "    [theme=dark] .colab-df-convert {\n",
              "      background-color: #3B4455;\n",
              "      fill: #D2E3FC;\n",
              "    }\n",
              "\n",
              "    [theme=dark] .colab-df-convert:hover {\n",
              "      background-color: #434B5C;\n",
              "      box-shadow: 0px 1px 3px 1px rgba(0, 0, 0, 0.15);\n",
              "      filter: drop-shadow(0px 1px 2px rgba(0, 0, 0, 0.3));\n",
              "      fill: #FFFFFF;\n",
              "    }\n",
              "  </style>\n",
              "\n",
              "    <script>\n",
              "      const buttonEl =\n",
              "        document.querySelector('#df-55c81fb1-bbb7-435b-be04-71600b776cdc button.colab-df-convert');\n",
              "      buttonEl.style.display =\n",
              "        google.colab.kernel.accessAllowed ? 'block' : 'none';\n",
              "\n",
              "      async function convertToInteractive(key) {\n",
              "        const element = document.querySelector('#df-55c81fb1-bbb7-435b-be04-71600b776cdc');\n",
              "        const dataTable =\n",
              "          await google.colab.kernel.invokeFunction('convertToInteractive',\n",
              "                                                    [key], {});\n",
              "        if (!dataTable) return;\n",
              "\n",
              "        const docLinkHtml = 'Like what you see? Visit the ' +\n",
              "          '<a target=\"_blank\" href=https://colab.research.google.com/notebooks/data_table.ipynb>data table notebook</a>'\n",
              "          + ' to learn more about interactive tables.';\n",
              "        element.innerHTML = '';\n",
              "        dataTable['output_type'] = 'display_data';\n",
              "        await google.colab.output.renderOutput(dataTable, element);\n",
              "        const docLink = document.createElement('div');\n",
              "        docLink.innerHTML = docLinkHtml;\n",
              "        element.appendChild(docLink);\n",
              "      }\n",
              "    </script>\n",
              "  </div>\n",
              "\n",
              "\n",
              "<div id=\"df-1fdaae0b-fe84-41d4-b7d3-1a307e14f6fe\">\n",
              "  <button class=\"colab-df-quickchart\" onclick=\"quickchart('df-1fdaae0b-fe84-41d4-b7d3-1a307e14f6fe')\"\n",
              "            title=\"Suggest charts\"\n",
              "            style=\"display:none;\">\n",
              "\n",
              "<svg xmlns=\"http://www.w3.org/2000/svg\" height=\"24px\"viewBox=\"0 0 24 24\"\n",
              "     width=\"24px\">\n",
              "    <g>\n",
              "        <path d=\"M19 3H5c-1.1 0-2 .9-2 2v14c0 1.1.9 2 2 2h14c1.1 0 2-.9 2-2V5c0-1.1-.9-2-2-2zM9 17H7v-7h2v7zm4 0h-2V7h2v10zm4 0h-2v-4h2v4z\"/>\n",
              "    </g>\n",
              "</svg>\n",
              "  </button>\n",
              "\n",
              "<style>\n",
              "  .colab-df-quickchart {\n",
              "      --bg-color: #E8F0FE;\n",
              "      --fill-color: #1967D2;\n",
              "      --hover-bg-color: #E2EBFA;\n",
              "      --hover-fill-color: #174EA6;\n",
              "      --disabled-fill-color: #AAA;\n",
              "      --disabled-bg-color: #DDD;\n",
              "  }\n",
              "\n",
              "  [theme=dark] .colab-df-quickchart {\n",
              "      --bg-color: #3B4455;\n",
              "      --fill-color: #D2E3FC;\n",
              "      --hover-bg-color: #434B5C;\n",
              "      --hover-fill-color: #FFFFFF;\n",
              "      --disabled-bg-color: #3B4455;\n",
              "      --disabled-fill-color: #666;\n",
              "  }\n",
              "\n",
              "  .colab-df-quickchart {\n",
              "    background-color: var(--bg-color);\n",
              "    border: none;\n",
              "    border-radius: 50%;\n",
              "    cursor: pointer;\n",
              "    display: none;\n",
              "    fill: var(--fill-color);\n",
              "    height: 32px;\n",
              "    padding: 0;\n",
              "    width: 32px;\n",
              "  }\n",
              "\n",
              "  .colab-df-quickchart:hover {\n",
              "    background-color: var(--hover-bg-color);\n",
              "    box-shadow: 0 1px 2px rgba(60, 64, 67, 0.3), 0 1px 3px 1px rgba(60, 64, 67, 0.15);\n",
              "    fill: var(--button-hover-fill-color);\n",
              "  }\n",
              "\n",
              "  .colab-df-quickchart-complete:disabled,\n",
              "  .colab-df-quickchart-complete:disabled:hover {\n",
              "    background-color: var(--disabled-bg-color);\n",
              "    fill: var(--disabled-fill-color);\n",
              "    box-shadow: none;\n",
              "  }\n",
              "\n",
              "  .colab-df-spinner {\n",
              "    border: 2px solid var(--fill-color);\n",
              "    border-color: transparent;\n",
              "    border-bottom-color: var(--fill-color);\n",
              "    animation:\n",
              "      spin 1s steps(1) infinite;\n",
              "  }\n",
              "\n",
              "  @keyframes spin {\n",
              "    0% {\n",
              "      border-color: transparent;\n",
              "      border-bottom-color: var(--fill-color);\n",
              "      border-left-color: var(--fill-color);\n",
              "    }\n",
              "    20% {\n",
              "      border-color: transparent;\n",
              "      border-left-color: var(--fill-color);\n",
              "      border-top-color: var(--fill-color);\n",
              "    }\n",
              "    30% {\n",
              "      border-color: transparent;\n",
              "      border-left-color: var(--fill-color);\n",
              "      border-top-color: var(--fill-color);\n",
              "      border-right-color: var(--fill-color);\n",
              "    }\n",
              "    40% {\n",
              "      border-color: transparent;\n",
              "      border-right-color: var(--fill-color);\n",
              "      border-top-color: var(--fill-color);\n",
              "    }\n",
              "    60% {\n",
              "      border-color: transparent;\n",
              "      border-right-color: var(--fill-color);\n",
              "    }\n",
              "    80% {\n",
              "      border-color: transparent;\n",
              "      border-right-color: var(--fill-color);\n",
              "      border-bottom-color: var(--fill-color);\n",
              "    }\n",
              "    90% {\n",
              "      border-color: transparent;\n",
              "      border-bottom-color: var(--fill-color);\n",
              "    }\n",
              "  }\n",
              "</style>\n",
              "\n",
              "  <script>\n",
              "    async function quickchart(key) {\n",
              "      const quickchartButtonEl =\n",
              "        document.querySelector('#' + key + ' button');\n",
              "      quickchartButtonEl.disabled = true;  // To prevent multiple clicks.\n",
              "      quickchartButtonEl.classList.add('colab-df-spinner');\n",
              "      try {\n",
              "        const charts = await google.colab.kernel.invokeFunction(\n",
              "            'suggestCharts', [key], {});\n",
              "      } catch (error) {\n",
              "        console.error('Error during call to suggestCharts:', error);\n",
              "      }\n",
              "      quickchartButtonEl.classList.remove('colab-df-spinner');\n",
              "      quickchartButtonEl.classList.add('colab-df-quickchart-complete');\n",
              "    }\n",
              "    (() => {\n",
              "      let quickchartButtonEl =\n",
              "        document.querySelector('#df-1fdaae0b-fe84-41d4-b7d3-1a307e14f6fe button');\n",
              "      quickchartButtonEl.style.display =\n",
              "        google.colab.kernel.accessAllowed ? 'block' : 'none';\n",
              "    })();\n",
              "  </script>\n",
              "</div>\n",
              "\n",
              "  <div id=\"id_a30307b6-7354-4cf8-a8e6-f9847e4604a2\">\n",
              "    <style>\n",
              "      .colab-df-generate {\n",
              "        background-color: #E8F0FE;\n",
              "        border: none;\n",
              "        border-radius: 50%;\n",
              "        cursor: pointer;\n",
              "        display: none;\n",
              "        fill: #1967D2;\n",
              "        height: 32px;\n",
              "        padding: 0 0 0 0;\n",
              "        width: 32px;\n",
              "      }\n",
              "\n",
              "      .colab-df-generate:hover {\n",
              "        background-color: #E2EBFA;\n",
              "        box-shadow: 0px 1px 2px rgba(60, 64, 67, 0.3), 0px 1px 3px 1px rgba(60, 64, 67, 0.15);\n",
              "        fill: #174EA6;\n",
              "      }\n",
              "\n",
              "      [theme=dark] .colab-df-generate {\n",
              "        background-color: #3B4455;\n",
              "        fill: #D2E3FC;\n",
              "      }\n",
              "\n",
              "      [theme=dark] .colab-df-generate:hover {\n",
              "        background-color: #434B5C;\n",
              "        box-shadow: 0px 1px 3px 1px rgba(0, 0, 0, 0.15);\n",
              "        filter: drop-shadow(0px 1px 2px rgba(0, 0, 0, 0.3));\n",
              "        fill: #FFFFFF;\n",
              "      }\n",
              "    </style>\n",
              "    <button class=\"colab-df-generate\" onclick=\"generateWithVariable('df_instacart_orders')\"\n",
              "            title=\"Generate code using this dataframe.\"\n",
              "            style=\"display:none;\">\n",
              "\n",
              "  <svg xmlns=\"http://www.w3.org/2000/svg\" height=\"24px\"viewBox=\"0 0 24 24\"\n",
              "       width=\"24px\">\n",
              "    <path d=\"M7,19H8.4L18.45,9,17,7.55,7,17.6ZM5,21V16.75L18.45,3.32a2,2,0,0,1,2.83,0l1.4,1.43a1.91,1.91,0,0,1,.58,1.4,1.91,1.91,0,0,1-.58,1.4L9.25,21ZM18.45,9,17,7.55Zm-12,3A5.31,5.31,0,0,0,4.9,8.1,5.31,5.31,0,0,0,1,6.5,5.31,5.31,0,0,0,4.9,4.9,5.31,5.31,0,0,0,6.5,1,5.31,5.31,0,0,0,8.1,4.9,5.31,5.31,0,0,0,12,6.5,5.46,5.46,0,0,0,6.5,12Z\"/>\n",
              "  </svg>\n",
              "    </button>\n",
              "    <script>\n",
              "      (() => {\n",
              "      const buttonEl =\n",
              "        document.querySelector('#id_a30307b6-7354-4cf8-a8e6-f9847e4604a2 button.colab-df-generate');\n",
              "      buttonEl.style.display =\n",
              "        google.colab.kernel.accessAllowed ? 'block' : 'none';\n",
              "\n",
              "      buttonEl.onclick = () => {\n",
              "        google.colab.notebook.generateWithVariable('df_instacart_orders');\n",
              "      }\n",
              "      })();\n",
              "    </script>\n",
              "  </div>\n",
              "\n",
              "    </div>\n",
              "  </div>\n"
            ],
            "application/vnd.google.colaboratory.intrinsic+json": {
              "type": "dataframe",
              "variable_name": "df_instacart_orders"
            }
          },
          "metadata": {},
          "execution_count": 9
        }
      ],
      "source": [
        "# leia os conjuntos de dados em DataFrames (inscart)\n",
        "df_instacart_orders = pd.read_csv('/content/drive/MyDrive/Tripleten/sprit3/dataset/instacart_orders.csv',sep=';')\n",
        "df_instacart_orders"
      ]
    },
    {
      "cell_type": "code",
      "source": [
        "# leia os conjuntos de dados em DataFrames (products)\n",
        "df_products = pd.read_csv('/content/drive/MyDrive/Tripleten/sprit3/dataset/products.csv',sep=';')\n",
        "df_products"
      ],
      "metadata": {
        "colab": {
          "base_uri": "https://localhost:8080/",
          "height": 424
        },
        "id": "ygTRUaVZItnb",
        "outputId": "19eeaa78-0d8e-4af2-dea6-e7a212afe745"
      },
      "id": "ygTRUaVZItnb",
      "execution_count": 10,
      "outputs": [
        {
          "output_type": "execute_result",
          "data": {
            "text/plain": [
              "       product_id                                       product_name  \\\n",
              "0               1                         Chocolate Sandwich Cookies   \n",
              "1               2                                   All-Seasons Salt   \n",
              "2               3               Robust Golden Unsweetened Oolong Tea   \n",
              "3               4  Smart Ones Classic Favorites Mini Rigatoni Wit...   \n",
              "4               5                          Green Chile Anytime Sauce   \n",
              "...           ...                                                ...   \n",
              "49689       49690                      HIGH PERFORMANCE ENERGY DRINK   \n",
              "49690       49691                      ORIGINAL PANCAKE & WAFFLE MIX   \n",
              "49691       49692    ORGANIC INSTANT OATMEAL LIGHT MAPLE BROWN SUGAR   \n",
              "49692       49693                             SPRING WATER BODY WASH   \n",
              "49693       49694                            BURRITO- STEAK & CHEESE   \n",
              "\n",
              "       aisle_id  department_id  \n",
              "0            61             19  \n",
              "1           104             13  \n",
              "2            94              7  \n",
              "3            38              1  \n",
              "4             5             13  \n",
              "...         ...            ...  \n",
              "49689        64              7  \n",
              "49690       130             14  \n",
              "49691       130             14  \n",
              "49692       127             11  \n",
              "49693        38              1  \n",
              "\n",
              "[49694 rows x 4 columns]"
            ],
            "text/html": [
              "\n",
              "  <div id=\"df-677776b0-2198-4596-a658-66aeda9399f2\" class=\"colab-df-container\">\n",
              "    <div>\n",
              "<style scoped>\n",
              "    .dataframe tbody tr th:only-of-type {\n",
              "        vertical-align: middle;\n",
              "    }\n",
              "\n",
              "    .dataframe tbody tr th {\n",
              "        vertical-align: top;\n",
              "    }\n",
              "\n",
              "    .dataframe thead th {\n",
              "        text-align: right;\n",
              "    }\n",
              "</style>\n",
              "<table border=\"1\" class=\"dataframe\">\n",
              "  <thead>\n",
              "    <tr style=\"text-align: right;\">\n",
              "      <th></th>\n",
              "      <th>product_id</th>\n",
              "      <th>product_name</th>\n",
              "      <th>aisle_id</th>\n",
              "      <th>department_id</th>\n",
              "    </tr>\n",
              "  </thead>\n",
              "  <tbody>\n",
              "    <tr>\n",
              "      <th>0</th>\n",
              "      <td>1</td>\n",
              "      <td>Chocolate Sandwich Cookies</td>\n",
              "      <td>61</td>\n",
              "      <td>19</td>\n",
              "    </tr>\n",
              "    <tr>\n",
              "      <th>1</th>\n",
              "      <td>2</td>\n",
              "      <td>All-Seasons Salt</td>\n",
              "      <td>104</td>\n",
              "      <td>13</td>\n",
              "    </tr>\n",
              "    <tr>\n",
              "      <th>2</th>\n",
              "      <td>3</td>\n",
              "      <td>Robust Golden Unsweetened Oolong Tea</td>\n",
              "      <td>94</td>\n",
              "      <td>7</td>\n",
              "    </tr>\n",
              "    <tr>\n",
              "      <th>3</th>\n",
              "      <td>4</td>\n",
              "      <td>Smart Ones Classic Favorites Mini Rigatoni Wit...</td>\n",
              "      <td>38</td>\n",
              "      <td>1</td>\n",
              "    </tr>\n",
              "    <tr>\n",
              "      <th>4</th>\n",
              "      <td>5</td>\n",
              "      <td>Green Chile Anytime Sauce</td>\n",
              "      <td>5</td>\n",
              "      <td>13</td>\n",
              "    </tr>\n",
              "    <tr>\n",
              "      <th>...</th>\n",
              "      <td>...</td>\n",
              "      <td>...</td>\n",
              "      <td>...</td>\n",
              "      <td>...</td>\n",
              "    </tr>\n",
              "    <tr>\n",
              "      <th>49689</th>\n",
              "      <td>49690</td>\n",
              "      <td>HIGH PERFORMANCE ENERGY DRINK</td>\n",
              "      <td>64</td>\n",
              "      <td>7</td>\n",
              "    </tr>\n",
              "    <tr>\n",
              "      <th>49690</th>\n",
              "      <td>49691</td>\n",
              "      <td>ORIGINAL PANCAKE &amp; WAFFLE MIX</td>\n",
              "      <td>130</td>\n",
              "      <td>14</td>\n",
              "    </tr>\n",
              "    <tr>\n",
              "      <th>49691</th>\n",
              "      <td>49692</td>\n",
              "      <td>ORGANIC INSTANT OATMEAL LIGHT MAPLE BROWN SUGAR</td>\n",
              "      <td>130</td>\n",
              "      <td>14</td>\n",
              "    </tr>\n",
              "    <tr>\n",
              "      <th>49692</th>\n",
              "      <td>49693</td>\n",
              "      <td>SPRING WATER BODY WASH</td>\n",
              "      <td>127</td>\n",
              "      <td>11</td>\n",
              "    </tr>\n",
              "    <tr>\n",
              "      <th>49693</th>\n",
              "      <td>49694</td>\n",
              "      <td>BURRITO- STEAK &amp; CHEESE</td>\n",
              "      <td>38</td>\n",
              "      <td>1</td>\n",
              "    </tr>\n",
              "  </tbody>\n",
              "</table>\n",
              "<p>49694 rows × 4 columns</p>\n",
              "</div>\n",
              "    <div class=\"colab-df-buttons\">\n",
              "\n",
              "  <div class=\"colab-df-container\">\n",
              "    <button class=\"colab-df-convert\" onclick=\"convertToInteractive('df-677776b0-2198-4596-a658-66aeda9399f2')\"\n",
              "            title=\"Convert this dataframe to an interactive table.\"\n",
              "            style=\"display:none;\">\n",
              "\n",
              "  <svg xmlns=\"http://www.w3.org/2000/svg\" height=\"24px\" viewBox=\"0 -960 960 960\">\n",
              "    <path d=\"M120-120v-720h720v720H120Zm60-500h600v-160H180v160Zm220 220h160v-160H400v160Zm0 220h160v-160H400v160ZM180-400h160v-160H180v160Zm440 0h160v-160H620v160ZM180-180h160v-160H180v160Zm440 0h160v-160H620v160Z\"/>\n",
              "  </svg>\n",
              "    </button>\n",
              "\n",
              "  <style>\n",
              "    .colab-df-container {\n",
              "      display:flex;\n",
              "      gap: 12px;\n",
              "    }\n",
              "\n",
              "    .colab-df-convert {\n",
              "      background-color: #E8F0FE;\n",
              "      border: none;\n",
              "      border-radius: 50%;\n",
              "      cursor: pointer;\n",
              "      display: none;\n",
              "      fill: #1967D2;\n",
              "      height: 32px;\n",
              "      padding: 0 0 0 0;\n",
              "      width: 32px;\n",
              "    }\n",
              "\n",
              "    .colab-df-convert:hover {\n",
              "      background-color: #E2EBFA;\n",
              "      box-shadow: 0px 1px 2px rgba(60, 64, 67, 0.3), 0px 1px 3px 1px rgba(60, 64, 67, 0.15);\n",
              "      fill: #174EA6;\n",
              "    }\n",
              "\n",
              "    .colab-df-buttons div {\n",
              "      margin-bottom: 4px;\n",
              "    }\n",
              "\n",
              "    [theme=dark] .colab-df-convert {\n",
              "      background-color: #3B4455;\n",
              "      fill: #D2E3FC;\n",
              "    }\n",
              "\n",
              "    [theme=dark] .colab-df-convert:hover {\n",
              "      background-color: #434B5C;\n",
              "      box-shadow: 0px 1px 3px 1px rgba(0, 0, 0, 0.15);\n",
              "      filter: drop-shadow(0px 1px 2px rgba(0, 0, 0, 0.3));\n",
              "      fill: #FFFFFF;\n",
              "    }\n",
              "  </style>\n",
              "\n",
              "    <script>\n",
              "      const buttonEl =\n",
              "        document.querySelector('#df-677776b0-2198-4596-a658-66aeda9399f2 button.colab-df-convert');\n",
              "      buttonEl.style.display =\n",
              "        google.colab.kernel.accessAllowed ? 'block' : 'none';\n",
              "\n",
              "      async function convertToInteractive(key) {\n",
              "        const element = document.querySelector('#df-677776b0-2198-4596-a658-66aeda9399f2');\n",
              "        const dataTable =\n",
              "          await google.colab.kernel.invokeFunction('convertToInteractive',\n",
              "                                                    [key], {});\n",
              "        if (!dataTable) return;\n",
              "\n",
              "        const docLinkHtml = 'Like what you see? Visit the ' +\n",
              "          '<a target=\"_blank\" href=https://colab.research.google.com/notebooks/data_table.ipynb>data table notebook</a>'\n",
              "          + ' to learn more about interactive tables.';\n",
              "        element.innerHTML = '';\n",
              "        dataTable['output_type'] = 'display_data';\n",
              "        await google.colab.output.renderOutput(dataTable, element);\n",
              "        const docLink = document.createElement('div');\n",
              "        docLink.innerHTML = docLinkHtml;\n",
              "        element.appendChild(docLink);\n",
              "      }\n",
              "    </script>\n",
              "  </div>\n",
              "\n",
              "\n",
              "<div id=\"df-953524a5-0ac4-46ba-983a-57bbbd157937\">\n",
              "  <button class=\"colab-df-quickchart\" onclick=\"quickchart('df-953524a5-0ac4-46ba-983a-57bbbd157937')\"\n",
              "            title=\"Suggest charts\"\n",
              "            style=\"display:none;\">\n",
              "\n",
              "<svg xmlns=\"http://www.w3.org/2000/svg\" height=\"24px\"viewBox=\"0 0 24 24\"\n",
              "     width=\"24px\">\n",
              "    <g>\n",
              "        <path d=\"M19 3H5c-1.1 0-2 .9-2 2v14c0 1.1.9 2 2 2h14c1.1 0 2-.9 2-2V5c0-1.1-.9-2-2-2zM9 17H7v-7h2v7zm4 0h-2V7h2v10zm4 0h-2v-4h2v4z\"/>\n",
              "    </g>\n",
              "</svg>\n",
              "  </button>\n",
              "\n",
              "<style>\n",
              "  .colab-df-quickchart {\n",
              "      --bg-color: #E8F0FE;\n",
              "      --fill-color: #1967D2;\n",
              "      --hover-bg-color: #E2EBFA;\n",
              "      --hover-fill-color: #174EA6;\n",
              "      --disabled-fill-color: #AAA;\n",
              "      --disabled-bg-color: #DDD;\n",
              "  }\n",
              "\n",
              "  [theme=dark] .colab-df-quickchart {\n",
              "      --bg-color: #3B4455;\n",
              "      --fill-color: #D2E3FC;\n",
              "      --hover-bg-color: #434B5C;\n",
              "      --hover-fill-color: #FFFFFF;\n",
              "      --disabled-bg-color: #3B4455;\n",
              "      --disabled-fill-color: #666;\n",
              "  }\n",
              "\n",
              "  .colab-df-quickchart {\n",
              "    background-color: var(--bg-color);\n",
              "    border: none;\n",
              "    border-radius: 50%;\n",
              "    cursor: pointer;\n",
              "    display: none;\n",
              "    fill: var(--fill-color);\n",
              "    height: 32px;\n",
              "    padding: 0;\n",
              "    width: 32px;\n",
              "  }\n",
              "\n",
              "  .colab-df-quickchart:hover {\n",
              "    background-color: var(--hover-bg-color);\n",
              "    box-shadow: 0 1px 2px rgba(60, 64, 67, 0.3), 0 1px 3px 1px rgba(60, 64, 67, 0.15);\n",
              "    fill: var(--button-hover-fill-color);\n",
              "  }\n",
              "\n",
              "  .colab-df-quickchart-complete:disabled,\n",
              "  .colab-df-quickchart-complete:disabled:hover {\n",
              "    background-color: var(--disabled-bg-color);\n",
              "    fill: var(--disabled-fill-color);\n",
              "    box-shadow: none;\n",
              "  }\n",
              "\n",
              "  .colab-df-spinner {\n",
              "    border: 2px solid var(--fill-color);\n",
              "    border-color: transparent;\n",
              "    border-bottom-color: var(--fill-color);\n",
              "    animation:\n",
              "      spin 1s steps(1) infinite;\n",
              "  }\n",
              "\n",
              "  @keyframes spin {\n",
              "    0% {\n",
              "      border-color: transparent;\n",
              "      border-bottom-color: var(--fill-color);\n",
              "      border-left-color: var(--fill-color);\n",
              "    }\n",
              "    20% {\n",
              "      border-color: transparent;\n",
              "      border-left-color: var(--fill-color);\n",
              "      border-top-color: var(--fill-color);\n",
              "    }\n",
              "    30% {\n",
              "      border-color: transparent;\n",
              "      border-left-color: var(--fill-color);\n",
              "      border-top-color: var(--fill-color);\n",
              "      border-right-color: var(--fill-color);\n",
              "    }\n",
              "    40% {\n",
              "      border-color: transparent;\n",
              "      border-right-color: var(--fill-color);\n",
              "      border-top-color: var(--fill-color);\n",
              "    }\n",
              "    60% {\n",
              "      border-color: transparent;\n",
              "      border-right-color: var(--fill-color);\n",
              "    }\n",
              "    80% {\n",
              "      border-color: transparent;\n",
              "      border-right-color: var(--fill-color);\n",
              "      border-bottom-color: var(--fill-color);\n",
              "    }\n",
              "    90% {\n",
              "      border-color: transparent;\n",
              "      border-bottom-color: var(--fill-color);\n",
              "    }\n",
              "  }\n",
              "</style>\n",
              "\n",
              "  <script>\n",
              "    async function quickchart(key) {\n",
              "      const quickchartButtonEl =\n",
              "        document.querySelector('#' + key + ' button');\n",
              "      quickchartButtonEl.disabled = true;  // To prevent multiple clicks.\n",
              "      quickchartButtonEl.classList.add('colab-df-spinner');\n",
              "      try {\n",
              "        const charts = await google.colab.kernel.invokeFunction(\n",
              "            'suggestCharts', [key], {});\n",
              "      } catch (error) {\n",
              "        console.error('Error during call to suggestCharts:', error);\n",
              "      }\n",
              "      quickchartButtonEl.classList.remove('colab-df-spinner');\n",
              "      quickchartButtonEl.classList.add('colab-df-quickchart-complete');\n",
              "    }\n",
              "    (() => {\n",
              "      let quickchartButtonEl =\n",
              "        document.querySelector('#df-953524a5-0ac4-46ba-983a-57bbbd157937 button');\n",
              "      quickchartButtonEl.style.display =\n",
              "        google.colab.kernel.accessAllowed ? 'block' : 'none';\n",
              "    })();\n",
              "  </script>\n",
              "</div>\n",
              "\n",
              "  <div id=\"id_436f64f0-6a08-445a-a2d7-58de382f8e32\">\n",
              "    <style>\n",
              "      .colab-df-generate {\n",
              "        background-color: #E8F0FE;\n",
              "        border: none;\n",
              "        border-radius: 50%;\n",
              "        cursor: pointer;\n",
              "        display: none;\n",
              "        fill: #1967D2;\n",
              "        height: 32px;\n",
              "        padding: 0 0 0 0;\n",
              "        width: 32px;\n",
              "      }\n",
              "\n",
              "      .colab-df-generate:hover {\n",
              "        background-color: #E2EBFA;\n",
              "        box-shadow: 0px 1px 2px rgba(60, 64, 67, 0.3), 0px 1px 3px 1px rgba(60, 64, 67, 0.15);\n",
              "        fill: #174EA6;\n",
              "      }\n",
              "\n",
              "      [theme=dark] .colab-df-generate {\n",
              "        background-color: #3B4455;\n",
              "        fill: #D2E3FC;\n",
              "      }\n",
              "\n",
              "      [theme=dark] .colab-df-generate:hover {\n",
              "        background-color: #434B5C;\n",
              "        box-shadow: 0px 1px 3px 1px rgba(0, 0, 0, 0.15);\n",
              "        filter: drop-shadow(0px 1px 2px rgba(0, 0, 0, 0.3));\n",
              "        fill: #FFFFFF;\n",
              "      }\n",
              "    </style>\n",
              "    <button class=\"colab-df-generate\" onclick=\"generateWithVariable('df_products')\"\n",
              "            title=\"Generate code using this dataframe.\"\n",
              "            style=\"display:none;\">\n",
              "\n",
              "  <svg xmlns=\"http://www.w3.org/2000/svg\" height=\"24px\"viewBox=\"0 0 24 24\"\n",
              "       width=\"24px\">\n",
              "    <path d=\"M7,19H8.4L18.45,9,17,7.55,7,17.6ZM5,21V16.75L18.45,3.32a2,2,0,0,1,2.83,0l1.4,1.43a1.91,1.91,0,0,1,.58,1.4,1.91,1.91,0,0,1-.58,1.4L9.25,21ZM18.45,9,17,7.55Zm-12,3A5.31,5.31,0,0,0,4.9,8.1,5.31,5.31,0,0,0,1,6.5,5.31,5.31,0,0,0,4.9,4.9,5.31,5.31,0,0,0,6.5,1,5.31,5.31,0,0,0,8.1,4.9,5.31,5.31,0,0,0,12,6.5,5.46,5.46,0,0,0,6.5,12Z\"/>\n",
              "  </svg>\n",
              "    </button>\n",
              "    <script>\n",
              "      (() => {\n",
              "      const buttonEl =\n",
              "        document.querySelector('#id_436f64f0-6a08-445a-a2d7-58de382f8e32 button.colab-df-generate');\n",
              "      buttonEl.style.display =\n",
              "        google.colab.kernel.accessAllowed ? 'block' : 'none';\n",
              "\n",
              "      buttonEl.onclick = () => {\n",
              "        google.colab.notebook.generateWithVariable('df_products');\n",
              "      }\n",
              "      })();\n",
              "    </script>\n",
              "  </div>\n",
              "\n",
              "    </div>\n",
              "  </div>\n"
            ],
            "application/vnd.google.colaboratory.intrinsic+json": {
              "type": "dataframe",
              "variable_name": "df_products",
              "summary": "{\n  \"name\": \"df_products\",\n  \"rows\": 49694,\n  \"fields\": [\n    {\n      \"column\": \"product_id\",\n      \"properties\": {\n        \"dtype\": \"number\",\n        \"std\": 14345,\n        \"min\": 1,\n        \"max\": 49694,\n        \"num_unique_values\": 49694,\n        \"samples\": [\n          11903,\n          4163,\n          17737\n        ],\n        \"semantic_type\": \"\",\n        \"description\": \"\"\n      }\n    },\n    {\n      \"column\": \"product_name\",\n      \"properties\": {\n        \"dtype\": \"string\",\n        \"num_unique_values\": 48436,\n        \"samples\": [\n          \"Giant White Sliced Bread\",\n          \"BV Coastal Estates Merlot\",\n          \"Rich & Creamy Mocha Coffee Beverage\"\n        ],\n        \"semantic_type\": \"\",\n        \"description\": \"\"\n      }\n    },\n    {\n      \"column\": \"aisle_id\",\n      \"properties\": {\n        \"dtype\": \"number\",\n        \"std\": 38,\n        \"min\": 1,\n        \"max\": 134,\n        \"num_unique_values\": 134,\n        \"samples\": [\n          18,\n          13,\n          85\n        ],\n        \"semantic_type\": \"\",\n        \"description\": \"\"\n      }\n    },\n    {\n      \"column\": \"department_id\",\n      \"properties\": {\n        \"dtype\": \"number\",\n        \"std\": 5,\n        \"min\": 1,\n        \"max\": 21,\n        \"num_unique_values\": 21,\n        \"samples\": [\n          19,\n          5,\n          6\n        ],\n        \"semantic_type\": \"\",\n        \"description\": \"\"\n      }\n    }\n  ]\n}"
            }
          },
          "metadata": {},
          "execution_count": 10
        }
      ]
    },
    {
      "cell_type": "code",
      "source": [
        "# leia os conjuntos de dados em DataFrames (order_products)\n",
        "df_order_products = pd.read_csv('/content/drive/MyDrive/Tripleten/sprit3/dataset/order_products.csv', sep=';')\n",
        "df_order_products"
      ],
      "metadata": {
        "colab": {
          "base_uri": "https://localhost:8080/",
          "height": 424
        },
        "id": "pjEI5wkTItOS",
        "outputId": "e04d604c-bf04-4486-b6af-e74eefbf1e37"
      },
      "id": "pjEI5wkTItOS",
      "execution_count": 11,
      "outputs": [
        {
          "output_type": "execute_result",
          "data": {
            "text/plain": [
              "         order_id  product_id  add_to_cart_order  reordered\n",
              "0         2141543       11440               17.0          0\n",
              "1          567889        1560                1.0          1\n",
              "2         2261212       26683                1.0          1\n",
              "3          491251        8670               35.0          1\n",
              "4         2571142        1940                5.0          1\n",
              "...           ...         ...                ...        ...\n",
              "4545002    577211       15290               12.0          1\n",
              "4545003   1219554       21914                9.0          0\n",
              "4545004    692640       47766                4.0          1\n",
              "4545005    319435         691                8.0          1\n",
              "4545006   1398151       28733                9.0          0\n",
              "\n",
              "[4545007 rows x 4 columns]"
            ],
            "text/html": [
              "\n",
              "  <div id=\"df-b8f02d06-2007-4a39-b7bf-2802104c1fe2\" class=\"colab-df-container\">\n",
              "    <div>\n",
              "<style scoped>\n",
              "    .dataframe tbody tr th:only-of-type {\n",
              "        vertical-align: middle;\n",
              "    }\n",
              "\n",
              "    .dataframe tbody tr th {\n",
              "        vertical-align: top;\n",
              "    }\n",
              "\n",
              "    .dataframe thead th {\n",
              "        text-align: right;\n",
              "    }\n",
              "</style>\n",
              "<table border=\"1\" class=\"dataframe\">\n",
              "  <thead>\n",
              "    <tr style=\"text-align: right;\">\n",
              "      <th></th>\n",
              "      <th>order_id</th>\n",
              "      <th>product_id</th>\n",
              "      <th>add_to_cart_order</th>\n",
              "      <th>reordered</th>\n",
              "    </tr>\n",
              "  </thead>\n",
              "  <tbody>\n",
              "    <tr>\n",
              "      <th>0</th>\n",
              "      <td>2141543</td>\n",
              "      <td>11440</td>\n",
              "      <td>17.0</td>\n",
              "      <td>0</td>\n",
              "    </tr>\n",
              "    <tr>\n",
              "      <th>1</th>\n",
              "      <td>567889</td>\n",
              "      <td>1560</td>\n",
              "      <td>1.0</td>\n",
              "      <td>1</td>\n",
              "    </tr>\n",
              "    <tr>\n",
              "      <th>2</th>\n",
              "      <td>2261212</td>\n",
              "      <td>26683</td>\n",
              "      <td>1.0</td>\n",
              "      <td>1</td>\n",
              "    </tr>\n",
              "    <tr>\n",
              "      <th>3</th>\n",
              "      <td>491251</td>\n",
              "      <td>8670</td>\n",
              "      <td>35.0</td>\n",
              "      <td>1</td>\n",
              "    </tr>\n",
              "    <tr>\n",
              "      <th>4</th>\n",
              "      <td>2571142</td>\n",
              "      <td>1940</td>\n",
              "      <td>5.0</td>\n",
              "      <td>1</td>\n",
              "    </tr>\n",
              "    <tr>\n",
              "      <th>...</th>\n",
              "      <td>...</td>\n",
              "      <td>...</td>\n",
              "      <td>...</td>\n",
              "      <td>...</td>\n",
              "    </tr>\n",
              "    <tr>\n",
              "      <th>4545002</th>\n",
              "      <td>577211</td>\n",
              "      <td>15290</td>\n",
              "      <td>12.0</td>\n",
              "      <td>1</td>\n",
              "    </tr>\n",
              "    <tr>\n",
              "      <th>4545003</th>\n",
              "      <td>1219554</td>\n",
              "      <td>21914</td>\n",
              "      <td>9.0</td>\n",
              "      <td>0</td>\n",
              "    </tr>\n",
              "    <tr>\n",
              "      <th>4545004</th>\n",
              "      <td>692640</td>\n",
              "      <td>47766</td>\n",
              "      <td>4.0</td>\n",
              "      <td>1</td>\n",
              "    </tr>\n",
              "    <tr>\n",
              "      <th>4545005</th>\n",
              "      <td>319435</td>\n",
              "      <td>691</td>\n",
              "      <td>8.0</td>\n",
              "      <td>1</td>\n",
              "    </tr>\n",
              "    <tr>\n",
              "      <th>4545006</th>\n",
              "      <td>1398151</td>\n",
              "      <td>28733</td>\n",
              "      <td>9.0</td>\n",
              "      <td>0</td>\n",
              "    </tr>\n",
              "  </tbody>\n",
              "</table>\n",
              "<p>4545007 rows × 4 columns</p>\n",
              "</div>\n",
              "    <div class=\"colab-df-buttons\">\n",
              "\n",
              "  <div class=\"colab-df-container\">\n",
              "    <button class=\"colab-df-convert\" onclick=\"convertToInteractive('df-b8f02d06-2007-4a39-b7bf-2802104c1fe2')\"\n",
              "            title=\"Convert this dataframe to an interactive table.\"\n",
              "            style=\"display:none;\">\n",
              "\n",
              "  <svg xmlns=\"http://www.w3.org/2000/svg\" height=\"24px\" viewBox=\"0 -960 960 960\">\n",
              "    <path d=\"M120-120v-720h720v720H120Zm60-500h600v-160H180v160Zm220 220h160v-160H400v160Zm0 220h160v-160H400v160ZM180-400h160v-160H180v160Zm440 0h160v-160H620v160ZM180-180h160v-160H180v160Zm440 0h160v-160H620v160Z\"/>\n",
              "  </svg>\n",
              "    </button>\n",
              "\n",
              "  <style>\n",
              "    .colab-df-container {\n",
              "      display:flex;\n",
              "      gap: 12px;\n",
              "    }\n",
              "\n",
              "    .colab-df-convert {\n",
              "      background-color: #E8F0FE;\n",
              "      border: none;\n",
              "      border-radius: 50%;\n",
              "      cursor: pointer;\n",
              "      display: none;\n",
              "      fill: #1967D2;\n",
              "      height: 32px;\n",
              "      padding: 0 0 0 0;\n",
              "      width: 32px;\n",
              "    }\n",
              "\n",
              "    .colab-df-convert:hover {\n",
              "      background-color: #E2EBFA;\n",
              "      box-shadow: 0px 1px 2px rgba(60, 64, 67, 0.3), 0px 1px 3px 1px rgba(60, 64, 67, 0.15);\n",
              "      fill: #174EA6;\n",
              "    }\n",
              "\n",
              "    .colab-df-buttons div {\n",
              "      margin-bottom: 4px;\n",
              "    }\n",
              "\n",
              "    [theme=dark] .colab-df-convert {\n",
              "      background-color: #3B4455;\n",
              "      fill: #D2E3FC;\n",
              "    }\n",
              "\n",
              "    [theme=dark] .colab-df-convert:hover {\n",
              "      background-color: #434B5C;\n",
              "      box-shadow: 0px 1px 3px 1px rgba(0, 0, 0, 0.15);\n",
              "      filter: drop-shadow(0px 1px 2px rgba(0, 0, 0, 0.3));\n",
              "      fill: #FFFFFF;\n",
              "    }\n",
              "  </style>\n",
              "\n",
              "    <script>\n",
              "      const buttonEl =\n",
              "        document.querySelector('#df-b8f02d06-2007-4a39-b7bf-2802104c1fe2 button.colab-df-convert');\n",
              "      buttonEl.style.display =\n",
              "        google.colab.kernel.accessAllowed ? 'block' : 'none';\n",
              "\n",
              "      async function convertToInteractive(key) {\n",
              "        const element = document.querySelector('#df-b8f02d06-2007-4a39-b7bf-2802104c1fe2');\n",
              "        const dataTable =\n",
              "          await google.colab.kernel.invokeFunction('convertToInteractive',\n",
              "                                                    [key], {});\n",
              "        if (!dataTable) return;\n",
              "\n",
              "        const docLinkHtml = 'Like what you see? Visit the ' +\n",
              "          '<a target=\"_blank\" href=https://colab.research.google.com/notebooks/data_table.ipynb>data table notebook</a>'\n",
              "          + ' to learn more about interactive tables.';\n",
              "        element.innerHTML = '';\n",
              "        dataTable['output_type'] = 'display_data';\n",
              "        await google.colab.output.renderOutput(dataTable, element);\n",
              "        const docLink = document.createElement('div');\n",
              "        docLink.innerHTML = docLinkHtml;\n",
              "        element.appendChild(docLink);\n",
              "      }\n",
              "    </script>\n",
              "  </div>\n",
              "\n",
              "\n",
              "<div id=\"df-0e0286a7-424e-4658-a410-d6297afdb3a7\">\n",
              "  <button class=\"colab-df-quickchart\" onclick=\"quickchart('df-0e0286a7-424e-4658-a410-d6297afdb3a7')\"\n",
              "            title=\"Suggest charts\"\n",
              "            style=\"display:none;\">\n",
              "\n",
              "<svg xmlns=\"http://www.w3.org/2000/svg\" height=\"24px\"viewBox=\"0 0 24 24\"\n",
              "     width=\"24px\">\n",
              "    <g>\n",
              "        <path d=\"M19 3H5c-1.1 0-2 .9-2 2v14c0 1.1.9 2 2 2h14c1.1 0 2-.9 2-2V5c0-1.1-.9-2-2-2zM9 17H7v-7h2v7zm4 0h-2V7h2v10zm4 0h-2v-4h2v4z\"/>\n",
              "    </g>\n",
              "</svg>\n",
              "  </button>\n",
              "\n",
              "<style>\n",
              "  .colab-df-quickchart {\n",
              "      --bg-color: #E8F0FE;\n",
              "      --fill-color: #1967D2;\n",
              "      --hover-bg-color: #E2EBFA;\n",
              "      --hover-fill-color: #174EA6;\n",
              "      --disabled-fill-color: #AAA;\n",
              "      --disabled-bg-color: #DDD;\n",
              "  }\n",
              "\n",
              "  [theme=dark] .colab-df-quickchart {\n",
              "      --bg-color: #3B4455;\n",
              "      --fill-color: #D2E3FC;\n",
              "      --hover-bg-color: #434B5C;\n",
              "      --hover-fill-color: #FFFFFF;\n",
              "      --disabled-bg-color: #3B4455;\n",
              "      --disabled-fill-color: #666;\n",
              "  }\n",
              "\n",
              "  .colab-df-quickchart {\n",
              "    background-color: var(--bg-color);\n",
              "    border: none;\n",
              "    border-radius: 50%;\n",
              "    cursor: pointer;\n",
              "    display: none;\n",
              "    fill: var(--fill-color);\n",
              "    height: 32px;\n",
              "    padding: 0;\n",
              "    width: 32px;\n",
              "  }\n",
              "\n",
              "  .colab-df-quickchart:hover {\n",
              "    background-color: var(--hover-bg-color);\n",
              "    box-shadow: 0 1px 2px rgba(60, 64, 67, 0.3), 0 1px 3px 1px rgba(60, 64, 67, 0.15);\n",
              "    fill: var(--button-hover-fill-color);\n",
              "  }\n",
              "\n",
              "  .colab-df-quickchart-complete:disabled,\n",
              "  .colab-df-quickchart-complete:disabled:hover {\n",
              "    background-color: var(--disabled-bg-color);\n",
              "    fill: var(--disabled-fill-color);\n",
              "    box-shadow: none;\n",
              "  }\n",
              "\n",
              "  .colab-df-spinner {\n",
              "    border: 2px solid var(--fill-color);\n",
              "    border-color: transparent;\n",
              "    border-bottom-color: var(--fill-color);\n",
              "    animation:\n",
              "      spin 1s steps(1) infinite;\n",
              "  }\n",
              "\n",
              "  @keyframes spin {\n",
              "    0% {\n",
              "      border-color: transparent;\n",
              "      border-bottom-color: var(--fill-color);\n",
              "      border-left-color: var(--fill-color);\n",
              "    }\n",
              "    20% {\n",
              "      border-color: transparent;\n",
              "      border-left-color: var(--fill-color);\n",
              "      border-top-color: var(--fill-color);\n",
              "    }\n",
              "    30% {\n",
              "      border-color: transparent;\n",
              "      border-left-color: var(--fill-color);\n",
              "      border-top-color: var(--fill-color);\n",
              "      border-right-color: var(--fill-color);\n",
              "    }\n",
              "    40% {\n",
              "      border-color: transparent;\n",
              "      border-right-color: var(--fill-color);\n",
              "      border-top-color: var(--fill-color);\n",
              "    }\n",
              "    60% {\n",
              "      border-color: transparent;\n",
              "      border-right-color: var(--fill-color);\n",
              "    }\n",
              "    80% {\n",
              "      border-color: transparent;\n",
              "      border-right-color: var(--fill-color);\n",
              "      border-bottom-color: var(--fill-color);\n",
              "    }\n",
              "    90% {\n",
              "      border-color: transparent;\n",
              "      border-bottom-color: var(--fill-color);\n",
              "    }\n",
              "  }\n",
              "</style>\n",
              "\n",
              "  <script>\n",
              "    async function quickchart(key) {\n",
              "      const quickchartButtonEl =\n",
              "        document.querySelector('#' + key + ' button');\n",
              "      quickchartButtonEl.disabled = true;  // To prevent multiple clicks.\n",
              "      quickchartButtonEl.classList.add('colab-df-spinner');\n",
              "      try {\n",
              "        const charts = await google.colab.kernel.invokeFunction(\n",
              "            'suggestCharts', [key], {});\n",
              "      } catch (error) {\n",
              "        console.error('Error during call to suggestCharts:', error);\n",
              "      }\n",
              "      quickchartButtonEl.classList.remove('colab-df-spinner');\n",
              "      quickchartButtonEl.classList.add('colab-df-quickchart-complete');\n",
              "    }\n",
              "    (() => {\n",
              "      let quickchartButtonEl =\n",
              "        document.querySelector('#df-0e0286a7-424e-4658-a410-d6297afdb3a7 button');\n",
              "      quickchartButtonEl.style.display =\n",
              "        google.colab.kernel.accessAllowed ? 'block' : 'none';\n",
              "    })();\n",
              "  </script>\n",
              "</div>\n",
              "\n",
              "  <div id=\"id_42dc9b48-5e6f-41df-a7a4-42c12e1cb65a\">\n",
              "    <style>\n",
              "      .colab-df-generate {\n",
              "        background-color: #E8F0FE;\n",
              "        border: none;\n",
              "        border-radius: 50%;\n",
              "        cursor: pointer;\n",
              "        display: none;\n",
              "        fill: #1967D2;\n",
              "        height: 32px;\n",
              "        padding: 0 0 0 0;\n",
              "        width: 32px;\n",
              "      }\n",
              "\n",
              "      .colab-df-generate:hover {\n",
              "        background-color: #E2EBFA;\n",
              "        box-shadow: 0px 1px 2px rgba(60, 64, 67, 0.3), 0px 1px 3px 1px rgba(60, 64, 67, 0.15);\n",
              "        fill: #174EA6;\n",
              "      }\n",
              "\n",
              "      [theme=dark] .colab-df-generate {\n",
              "        background-color: #3B4455;\n",
              "        fill: #D2E3FC;\n",
              "      }\n",
              "\n",
              "      [theme=dark] .colab-df-generate:hover {\n",
              "        background-color: #434B5C;\n",
              "        box-shadow: 0px 1px 3px 1px rgba(0, 0, 0, 0.15);\n",
              "        filter: drop-shadow(0px 1px 2px rgba(0, 0, 0, 0.3));\n",
              "        fill: #FFFFFF;\n",
              "      }\n",
              "    </style>\n",
              "    <button class=\"colab-df-generate\" onclick=\"generateWithVariable('df_order_products')\"\n",
              "            title=\"Generate code using this dataframe.\"\n",
              "            style=\"display:none;\">\n",
              "\n",
              "  <svg xmlns=\"http://www.w3.org/2000/svg\" height=\"24px\"viewBox=\"0 0 24 24\"\n",
              "       width=\"24px\">\n",
              "    <path d=\"M7,19H8.4L18.45,9,17,7.55,7,17.6ZM5,21V16.75L18.45,3.32a2,2,0,0,1,2.83,0l1.4,1.43a1.91,1.91,0,0,1,.58,1.4,1.91,1.91,0,0,1-.58,1.4L9.25,21ZM18.45,9,17,7.55Zm-12,3A5.31,5.31,0,0,0,4.9,8.1,5.31,5.31,0,0,0,1,6.5,5.31,5.31,0,0,0,4.9,4.9,5.31,5.31,0,0,0,6.5,1,5.31,5.31,0,0,0,8.1,4.9,5.31,5.31,0,0,0,12,6.5,5.46,5.46,0,0,0,6.5,12Z\"/>\n",
              "  </svg>\n",
              "    </button>\n",
              "    <script>\n",
              "      (() => {\n",
              "      const buttonEl =\n",
              "        document.querySelector('#id_42dc9b48-5e6f-41df-a7a4-42c12e1cb65a button.colab-df-generate');\n",
              "      buttonEl.style.display =\n",
              "        google.colab.kernel.accessAllowed ? 'block' : 'none';\n",
              "\n",
              "      buttonEl.onclick = () => {\n",
              "        google.colab.notebook.generateWithVariable('df_order_products');\n",
              "      }\n",
              "      })();\n",
              "    </script>\n",
              "  </div>\n",
              "\n",
              "    </div>\n",
              "  </div>\n"
            ],
            "application/vnd.google.colaboratory.intrinsic+json": {
              "type": "dataframe",
              "variable_name": "df_order_products"
            }
          },
          "metadata": {},
          "execution_count": 11
        }
      ]
    },
    {
      "cell_type": "code",
      "source": [
        "# leia os conjuntos de dados em DataFrames (aisles)\n",
        "df_aisles = pd.read_csv('/content/drive/MyDrive/Tripleten/sprit3/dataset/aisles.csv', sep=';')\n",
        "df_aisles"
      ],
      "metadata": {
        "colab": {
          "base_uri": "https://localhost:8080/",
          "height": 424
        },
        "id": "WGkO93pjItAg",
        "outputId": "d7e8189b-5629-4210-cbed-c143dbe9db02"
      },
      "id": "WGkO93pjItAg",
      "execution_count": 12,
      "outputs": [
        {
          "output_type": "execute_result",
          "data": {
            "text/plain": [
              "     aisle_id                       aisle\n",
              "0           1       prepared soups salads\n",
              "1           2           specialty cheeses\n",
              "2           3         energy granola bars\n",
              "3           4               instant foods\n",
              "4           5  marinades meat preparation\n",
              "..        ...                         ...\n",
              "129       130    hot cereal pancake mixes\n",
              "130       131                   dry pasta\n",
              "131       132                      beauty\n",
              "132       133  muscles joints pain relief\n",
              "133       134  specialty wines champagnes\n",
              "\n",
              "[134 rows x 2 columns]"
            ],
            "text/html": [
              "\n",
              "  <div id=\"df-bc5a2489-3061-4489-a570-21707b26ce77\" class=\"colab-df-container\">\n",
              "    <div>\n",
              "<style scoped>\n",
              "    .dataframe tbody tr th:only-of-type {\n",
              "        vertical-align: middle;\n",
              "    }\n",
              "\n",
              "    .dataframe tbody tr th {\n",
              "        vertical-align: top;\n",
              "    }\n",
              "\n",
              "    .dataframe thead th {\n",
              "        text-align: right;\n",
              "    }\n",
              "</style>\n",
              "<table border=\"1\" class=\"dataframe\">\n",
              "  <thead>\n",
              "    <tr style=\"text-align: right;\">\n",
              "      <th></th>\n",
              "      <th>aisle_id</th>\n",
              "      <th>aisle</th>\n",
              "    </tr>\n",
              "  </thead>\n",
              "  <tbody>\n",
              "    <tr>\n",
              "      <th>0</th>\n",
              "      <td>1</td>\n",
              "      <td>prepared soups salads</td>\n",
              "    </tr>\n",
              "    <tr>\n",
              "      <th>1</th>\n",
              "      <td>2</td>\n",
              "      <td>specialty cheeses</td>\n",
              "    </tr>\n",
              "    <tr>\n",
              "      <th>2</th>\n",
              "      <td>3</td>\n",
              "      <td>energy granola bars</td>\n",
              "    </tr>\n",
              "    <tr>\n",
              "      <th>3</th>\n",
              "      <td>4</td>\n",
              "      <td>instant foods</td>\n",
              "    </tr>\n",
              "    <tr>\n",
              "      <th>4</th>\n",
              "      <td>5</td>\n",
              "      <td>marinades meat preparation</td>\n",
              "    </tr>\n",
              "    <tr>\n",
              "      <th>...</th>\n",
              "      <td>...</td>\n",
              "      <td>...</td>\n",
              "    </tr>\n",
              "    <tr>\n",
              "      <th>129</th>\n",
              "      <td>130</td>\n",
              "      <td>hot cereal pancake mixes</td>\n",
              "    </tr>\n",
              "    <tr>\n",
              "      <th>130</th>\n",
              "      <td>131</td>\n",
              "      <td>dry pasta</td>\n",
              "    </tr>\n",
              "    <tr>\n",
              "      <th>131</th>\n",
              "      <td>132</td>\n",
              "      <td>beauty</td>\n",
              "    </tr>\n",
              "    <tr>\n",
              "      <th>132</th>\n",
              "      <td>133</td>\n",
              "      <td>muscles joints pain relief</td>\n",
              "    </tr>\n",
              "    <tr>\n",
              "      <th>133</th>\n",
              "      <td>134</td>\n",
              "      <td>specialty wines champagnes</td>\n",
              "    </tr>\n",
              "  </tbody>\n",
              "</table>\n",
              "<p>134 rows × 2 columns</p>\n",
              "</div>\n",
              "    <div class=\"colab-df-buttons\">\n",
              "\n",
              "  <div class=\"colab-df-container\">\n",
              "    <button class=\"colab-df-convert\" onclick=\"convertToInteractive('df-bc5a2489-3061-4489-a570-21707b26ce77')\"\n",
              "            title=\"Convert this dataframe to an interactive table.\"\n",
              "            style=\"display:none;\">\n",
              "\n",
              "  <svg xmlns=\"http://www.w3.org/2000/svg\" height=\"24px\" viewBox=\"0 -960 960 960\">\n",
              "    <path d=\"M120-120v-720h720v720H120Zm60-500h600v-160H180v160Zm220 220h160v-160H400v160Zm0 220h160v-160H400v160ZM180-400h160v-160H180v160Zm440 0h160v-160H620v160ZM180-180h160v-160H180v160Zm440 0h160v-160H620v160Z\"/>\n",
              "  </svg>\n",
              "    </button>\n",
              "\n",
              "  <style>\n",
              "    .colab-df-container {\n",
              "      display:flex;\n",
              "      gap: 12px;\n",
              "    }\n",
              "\n",
              "    .colab-df-convert {\n",
              "      background-color: #E8F0FE;\n",
              "      border: none;\n",
              "      border-radius: 50%;\n",
              "      cursor: pointer;\n",
              "      display: none;\n",
              "      fill: #1967D2;\n",
              "      height: 32px;\n",
              "      padding: 0 0 0 0;\n",
              "      width: 32px;\n",
              "    }\n",
              "\n",
              "    .colab-df-convert:hover {\n",
              "      background-color: #E2EBFA;\n",
              "      box-shadow: 0px 1px 2px rgba(60, 64, 67, 0.3), 0px 1px 3px 1px rgba(60, 64, 67, 0.15);\n",
              "      fill: #174EA6;\n",
              "    }\n",
              "\n",
              "    .colab-df-buttons div {\n",
              "      margin-bottom: 4px;\n",
              "    }\n",
              "\n",
              "    [theme=dark] .colab-df-convert {\n",
              "      background-color: #3B4455;\n",
              "      fill: #D2E3FC;\n",
              "    }\n",
              "\n",
              "    [theme=dark] .colab-df-convert:hover {\n",
              "      background-color: #434B5C;\n",
              "      box-shadow: 0px 1px 3px 1px rgba(0, 0, 0, 0.15);\n",
              "      filter: drop-shadow(0px 1px 2px rgba(0, 0, 0, 0.3));\n",
              "      fill: #FFFFFF;\n",
              "    }\n",
              "  </style>\n",
              "\n",
              "    <script>\n",
              "      const buttonEl =\n",
              "        document.querySelector('#df-bc5a2489-3061-4489-a570-21707b26ce77 button.colab-df-convert');\n",
              "      buttonEl.style.display =\n",
              "        google.colab.kernel.accessAllowed ? 'block' : 'none';\n",
              "\n",
              "      async function convertToInteractive(key) {\n",
              "        const element = document.querySelector('#df-bc5a2489-3061-4489-a570-21707b26ce77');\n",
              "        const dataTable =\n",
              "          await google.colab.kernel.invokeFunction('convertToInteractive',\n",
              "                                                    [key], {});\n",
              "        if (!dataTable) return;\n",
              "\n",
              "        const docLinkHtml = 'Like what you see? Visit the ' +\n",
              "          '<a target=\"_blank\" href=https://colab.research.google.com/notebooks/data_table.ipynb>data table notebook</a>'\n",
              "          + ' to learn more about interactive tables.';\n",
              "        element.innerHTML = '';\n",
              "        dataTable['output_type'] = 'display_data';\n",
              "        await google.colab.output.renderOutput(dataTable, element);\n",
              "        const docLink = document.createElement('div');\n",
              "        docLink.innerHTML = docLinkHtml;\n",
              "        element.appendChild(docLink);\n",
              "      }\n",
              "    </script>\n",
              "  </div>\n",
              "\n",
              "\n",
              "<div id=\"df-a23159f8-e5b9-476e-b20c-c3f699ba9df4\">\n",
              "  <button class=\"colab-df-quickchart\" onclick=\"quickchart('df-a23159f8-e5b9-476e-b20c-c3f699ba9df4')\"\n",
              "            title=\"Suggest charts\"\n",
              "            style=\"display:none;\">\n",
              "\n",
              "<svg xmlns=\"http://www.w3.org/2000/svg\" height=\"24px\"viewBox=\"0 0 24 24\"\n",
              "     width=\"24px\">\n",
              "    <g>\n",
              "        <path d=\"M19 3H5c-1.1 0-2 .9-2 2v14c0 1.1.9 2 2 2h14c1.1 0 2-.9 2-2V5c0-1.1-.9-2-2-2zM9 17H7v-7h2v7zm4 0h-2V7h2v10zm4 0h-2v-4h2v4z\"/>\n",
              "    </g>\n",
              "</svg>\n",
              "  </button>\n",
              "\n",
              "<style>\n",
              "  .colab-df-quickchart {\n",
              "      --bg-color: #E8F0FE;\n",
              "      --fill-color: #1967D2;\n",
              "      --hover-bg-color: #E2EBFA;\n",
              "      --hover-fill-color: #174EA6;\n",
              "      --disabled-fill-color: #AAA;\n",
              "      --disabled-bg-color: #DDD;\n",
              "  }\n",
              "\n",
              "  [theme=dark] .colab-df-quickchart {\n",
              "      --bg-color: #3B4455;\n",
              "      --fill-color: #D2E3FC;\n",
              "      --hover-bg-color: #434B5C;\n",
              "      --hover-fill-color: #FFFFFF;\n",
              "      --disabled-bg-color: #3B4455;\n",
              "      --disabled-fill-color: #666;\n",
              "  }\n",
              "\n",
              "  .colab-df-quickchart {\n",
              "    background-color: var(--bg-color);\n",
              "    border: none;\n",
              "    border-radius: 50%;\n",
              "    cursor: pointer;\n",
              "    display: none;\n",
              "    fill: var(--fill-color);\n",
              "    height: 32px;\n",
              "    padding: 0;\n",
              "    width: 32px;\n",
              "  }\n",
              "\n",
              "  .colab-df-quickchart:hover {\n",
              "    background-color: var(--hover-bg-color);\n",
              "    box-shadow: 0 1px 2px rgba(60, 64, 67, 0.3), 0 1px 3px 1px rgba(60, 64, 67, 0.15);\n",
              "    fill: var(--button-hover-fill-color);\n",
              "  }\n",
              "\n",
              "  .colab-df-quickchart-complete:disabled,\n",
              "  .colab-df-quickchart-complete:disabled:hover {\n",
              "    background-color: var(--disabled-bg-color);\n",
              "    fill: var(--disabled-fill-color);\n",
              "    box-shadow: none;\n",
              "  }\n",
              "\n",
              "  .colab-df-spinner {\n",
              "    border: 2px solid var(--fill-color);\n",
              "    border-color: transparent;\n",
              "    border-bottom-color: var(--fill-color);\n",
              "    animation:\n",
              "      spin 1s steps(1) infinite;\n",
              "  }\n",
              "\n",
              "  @keyframes spin {\n",
              "    0% {\n",
              "      border-color: transparent;\n",
              "      border-bottom-color: var(--fill-color);\n",
              "      border-left-color: var(--fill-color);\n",
              "    }\n",
              "    20% {\n",
              "      border-color: transparent;\n",
              "      border-left-color: var(--fill-color);\n",
              "      border-top-color: var(--fill-color);\n",
              "    }\n",
              "    30% {\n",
              "      border-color: transparent;\n",
              "      border-left-color: var(--fill-color);\n",
              "      border-top-color: var(--fill-color);\n",
              "      border-right-color: var(--fill-color);\n",
              "    }\n",
              "    40% {\n",
              "      border-color: transparent;\n",
              "      border-right-color: var(--fill-color);\n",
              "      border-top-color: var(--fill-color);\n",
              "    }\n",
              "    60% {\n",
              "      border-color: transparent;\n",
              "      border-right-color: var(--fill-color);\n",
              "    }\n",
              "    80% {\n",
              "      border-color: transparent;\n",
              "      border-right-color: var(--fill-color);\n",
              "      border-bottom-color: var(--fill-color);\n",
              "    }\n",
              "    90% {\n",
              "      border-color: transparent;\n",
              "      border-bottom-color: var(--fill-color);\n",
              "    }\n",
              "  }\n",
              "</style>\n",
              "\n",
              "  <script>\n",
              "    async function quickchart(key) {\n",
              "      const quickchartButtonEl =\n",
              "        document.querySelector('#' + key + ' button');\n",
              "      quickchartButtonEl.disabled = true;  // To prevent multiple clicks.\n",
              "      quickchartButtonEl.classList.add('colab-df-spinner');\n",
              "      try {\n",
              "        const charts = await google.colab.kernel.invokeFunction(\n",
              "            'suggestCharts', [key], {});\n",
              "      } catch (error) {\n",
              "        console.error('Error during call to suggestCharts:', error);\n",
              "      }\n",
              "      quickchartButtonEl.classList.remove('colab-df-spinner');\n",
              "      quickchartButtonEl.classList.add('colab-df-quickchart-complete');\n",
              "    }\n",
              "    (() => {\n",
              "      let quickchartButtonEl =\n",
              "        document.querySelector('#df-a23159f8-e5b9-476e-b20c-c3f699ba9df4 button');\n",
              "      quickchartButtonEl.style.display =\n",
              "        google.colab.kernel.accessAllowed ? 'block' : 'none';\n",
              "    })();\n",
              "  </script>\n",
              "</div>\n",
              "\n",
              "  <div id=\"id_b1a88974-904e-43a0-bf0b-0f331c300f75\">\n",
              "    <style>\n",
              "      .colab-df-generate {\n",
              "        background-color: #E8F0FE;\n",
              "        border: none;\n",
              "        border-radius: 50%;\n",
              "        cursor: pointer;\n",
              "        display: none;\n",
              "        fill: #1967D2;\n",
              "        height: 32px;\n",
              "        padding: 0 0 0 0;\n",
              "        width: 32px;\n",
              "      }\n",
              "\n",
              "      .colab-df-generate:hover {\n",
              "        background-color: #E2EBFA;\n",
              "        box-shadow: 0px 1px 2px rgba(60, 64, 67, 0.3), 0px 1px 3px 1px rgba(60, 64, 67, 0.15);\n",
              "        fill: #174EA6;\n",
              "      }\n",
              "\n",
              "      [theme=dark] .colab-df-generate {\n",
              "        background-color: #3B4455;\n",
              "        fill: #D2E3FC;\n",
              "      }\n",
              "\n",
              "      [theme=dark] .colab-df-generate:hover {\n",
              "        background-color: #434B5C;\n",
              "        box-shadow: 0px 1px 3px 1px rgba(0, 0, 0, 0.15);\n",
              "        filter: drop-shadow(0px 1px 2px rgba(0, 0, 0, 0.3));\n",
              "        fill: #FFFFFF;\n",
              "      }\n",
              "    </style>\n",
              "    <button class=\"colab-df-generate\" onclick=\"generateWithVariable('df_aisles')\"\n",
              "            title=\"Generate code using this dataframe.\"\n",
              "            style=\"display:none;\">\n",
              "\n",
              "  <svg xmlns=\"http://www.w3.org/2000/svg\" height=\"24px\"viewBox=\"0 0 24 24\"\n",
              "       width=\"24px\">\n",
              "    <path d=\"M7,19H8.4L18.45,9,17,7.55,7,17.6ZM5,21V16.75L18.45,3.32a2,2,0,0,1,2.83,0l1.4,1.43a1.91,1.91,0,0,1,.58,1.4,1.91,1.91,0,0,1-.58,1.4L9.25,21ZM18.45,9,17,7.55Zm-12,3A5.31,5.31,0,0,0,4.9,8.1,5.31,5.31,0,0,0,1,6.5,5.31,5.31,0,0,0,4.9,4.9,5.31,5.31,0,0,0,6.5,1,5.31,5.31,0,0,0,8.1,4.9,5.31,5.31,0,0,0,12,6.5,5.46,5.46,0,0,0,6.5,12Z\"/>\n",
              "  </svg>\n",
              "    </button>\n",
              "    <script>\n",
              "      (() => {\n",
              "      const buttonEl =\n",
              "        document.querySelector('#id_b1a88974-904e-43a0-bf0b-0f331c300f75 button.colab-df-generate');\n",
              "      buttonEl.style.display =\n",
              "        google.colab.kernel.accessAllowed ? 'block' : 'none';\n",
              "\n",
              "      buttonEl.onclick = () => {\n",
              "        google.colab.notebook.generateWithVariable('df_aisles');\n",
              "      }\n",
              "      })();\n",
              "    </script>\n",
              "  </div>\n",
              "\n",
              "    </div>\n",
              "  </div>\n"
            ],
            "application/vnd.google.colaboratory.intrinsic+json": {
              "type": "dataframe",
              "variable_name": "df_aisles",
              "summary": "{\n  \"name\": \"df_aisles\",\n  \"rows\": 134,\n  \"fields\": [\n    {\n      \"column\": \"aisle_id\",\n      \"properties\": {\n        \"dtype\": \"number\",\n        \"std\": 38,\n        \"min\": 1,\n        \"max\": 134,\n        \"num_unique_values\": 134,\n        \"samples\": [\n          128,\n          67,\n          105\n        ],\n        \"semantic_type\": \"\",\n        \"description\": \"\"\n      }\n    },\n    {\n      \"column\": \"aisle\",\n      \"properties\": {\n        \"dtype\": \"string\",\n        \"num_unique_values\": 134,\n        \"samples\": [\n          \"tortillas flat bread\",\n          \"fresh dips tapenades\",\n          \"doughs gelatins bake mixes\"\n        ],\n        \"semantic_type\": \"\",\n        \"description\": \"\"\n      }\n    }\n  ]\n}"
            }
          },
          "metadata": {},
          "execution_count": 12
        }
      ]
    },
    {
      "cell_type": "code",
      "source": [
        "# leia os conjuntos de dados em DataFrames (departments)\n",
        "df_departments = pd.read_csv('/content/drive/MyDrive/Tripleten/sprit3/dataset/departments.csv', sep=';')\n",
        "df_aisles"
      ],
      "metadata": {
        "colab": {
          "base_uri": "https://localhost:8080/",
          "height": 424
        },
        "id": "x3SI3JaIK_6a",
        "outputId": "deef1908-5c98-45bd-816d-ef5b644a49cc"
      },
      "id": "x3SI3JaIK_6a",
      "execution_count": 13,
      "outputs": [
        {
          "output_type": "execute_result",
          "data": {
            "text/plain": [
              "     aisle_id                       aisle\n",
              "0           1       prepared soups salads\n",
              "1           2           specialty cheeses\n",
              "2           3         energy granola bars\n",
              "3           4               instant foods\n",
              "4           5  marinades meat preparation\n",
              "..        ...                         ...\n",
              "129       130    hot cereal pancake mixes\n",
              "130       131                   dry pasta\n",
              "131       132                      beauty\n",
              "132       133  muscles joints pain relief\n",
              "133       134  specialty wines champagnes\n",
              "\n",
              "[134 rows x 2 columns]"
            ],
            "text/html": [
              "\n",
              "  <div id=\"df-094c7bf3-61ee-4021-b924-49ee7580ef7e\" class=\"colab-df-container\">\n",
              "    <div>\n",
              "<style scoped>\n",
              "    .dataframe tbody tr th:only-of-type {\n",
              "        vertical-align: middle;\n",
              "    }\n",
              "\n",
              "    .dataframe tbody tr th {\n",
              "        vertical-align: top;\n",
              "    }\n",
              "\n",
              "    .dataframe thead th {\n",
              "        text-align: right;\n",
              "    }\n",
              "</style>\n",
              "<table border=\"1\" class=\"dataframe\">\n",
              "  <thead>\n",
              "    <tr style=\"text-align: right;\">\n",
              "      <th></th>\n",
              "      <th>aisle_id</th>\n",
              "      <th>aisle</th>\n",
              "    </tr>\n",
              "  </thead>\n",
              "  <tbody>\n",
              "    <tr>\n",
              "      <th>0</th>\n",
              "      <td>1</td>\n",
              "      <td>prepared soups salads</td>\n",
              "    </tr>\n",
              "    <tr>\n",
              "      <th>1</th>\n",
              "      <td>2</td>\n",
              "      <td>specialty cheeses</td>\n",
              "    </tr>\n",
              "    <tr>\n",
              "      <th>2</th>\n",
              "      <td>3</td>\n",
              "      <td>energy granola bars</td>\n",
              "    </tr>\n",
              "    <tr>\n",
              "      <th>3</th>\n",
              "      <td>4</td>\n",
              "      <td>instant foods</td>\n",
              "    </tr>\n",
              "    <tr>\n",
              "      <th>4</th>\n",
              "      <td>5</td>\n",
              "      <td>marinades meat preparation</td>\n",
              "    </tr>\n",
              "    <tr>\n",
              "      <th>...</th>\n",
              "      <td>...</td>\n",
              "      <td>...</td>\n",
              "    </tr>\n",
              "    <tr>\n",
              "      <th>129</th>\n",
              "      <td>130</td>\n",
              "      <td>hot cereal pancake mixes</td>\n",
              "    </tr>\n",
              "    <tr>\n",
              "      <th>130</th>\n",
              "      <td>131</td>\n",
              "      <td>dry pasta</td>\n",
              "    </tr>\n",
              "    <tr>\n",
              "      <th>131</th>\n",
              "      <td>132</td>\n",
              "      <td>beauty</td>\n",
              "    </tr>\n",
              "    <tr>\n",
              "      <th>132</th>\n",
              "      <td>133</td>\n",
              "      <td>muscles joints pain relief</td>\n",
              "    </tr>\n",
              "    <tr>\n",
              "      <th>133</th>\n",
              "      <td>134</td>\n",
              "      <td>specialty wines champagnes</td>\n",
              "    </tr>\n",
              "  </tbody>\n",
              "</table>\n",
              "<p>134 rows × 2 columns</p>\n",
              "</div>\n",
              "    <div class=\"colab-df-buttons\">\n",
              "\n",
              "  <div class=\"colab-df-container\">\n",
              "    <button class=\"colab-df-convert\" onclick=\"convertToInteractive('df-094c7bf3-61ee-4021-b924-49ee7580ef7e')\"\n",
              "            title=\"Convert this dataframe to an interactive table.\"\n",
              "            style=\"display:none;\">\n",
              "\n",
              "  <svg xmlns=\"http://www.w3.org/2000/svg\" height=\"24px\" viewBox=\"0 -960 960 960\">\n",
              "    <path d=\"M120-120v-720h720v720H120Zm60-500h600v-160H180v160Zm220 220h160v-160H400v160Zm0 220h160v-160H400v160ZM180-400h160v-160H180v160Zm440 0h160v-160H620v160ZM180-180h160v-160H180v160Zm440 0h160v-160H620v160Z\"/>\n",
              "  </svg>\n",
              "    </button>\n",
              "\n",
              "  <style>\n",
              "    .colab-df-container {\n",
              "      display:flex;\n",
              "      gap: 12px;\n",
              "    }\n",
              "\n",
              "    .colab-df-convert {\n",
              "      background-color: #E8F0FE;\n",
              "      border: none;\n",
              "      border-radius: 50%;\n",
              "      cursor: pointer;\n",
              "      display: none;\n",
              "      fill: #1967D2;\n",
              "      height: 32px;\n",
              "      padding: 0 0 0 0;\n",
              "      width: 32px;\n",
              "    }\n",
              "\n",
              "    .colab-df-convert:hover {\n",
              "      background-color: #E2EBFA;\n",
              "      box-shadow: 0px 1px 2px rgba(60, 64, 67, 0.3), 0px 1px 3px 1px rgba(60, 64, 67, 0.15);\n",
              "      fill: #174EA6;\n",
              "    }\n",
              "\n",
              "    .colab-df-buttons div {\n",
              "      margin-bottom: 4px;\n",
              "    }\n",
              "\n",
              "    [theme=dark] .colab-df-convert {\n",
              "      background-color: #3B4455;\n",
              "      fill: #D2E3FC;\n",
              "    }\n",
              "\n",
              "    [theme=dark] .colab-df-convert:hover {\n",
              "      background-color: #434B5C;\n",
              "      box-shadow: 0px 1px 3px 1px rgba(0, 0, 0, 0.15);\n",
              "      filter: drop-shadow(0px 1px 2px rgba(0, 0, 0, 0.3));\n",
              "      fill: #FFFFFF;\n",
              "    }\n",
              "  </style>\n",
              "\n",
              "    <script>\n",
              "      const buttonEl =\n",
              "        document.querySelector('#df-094c7bf3-61ee-4021-b924-49ee7580ef7e button.colab-df-convert');\n",
              "      buttonEl.style.display =\n",
              "        google.colab.kernel.accessAllowed ? 'block' : 'none';\n",
              "\n",
              "      async function convertToInteractive(key) {\n",
              "        const element = document.querySelector('#df-094c7bf3-61ee-4021-b924-49ee7580ef7e');\n",
              "        const dataTable =\n",
              "          await google.colab.kernel.invokeFunction('convertToInteractive',\n",
              "                                                    [key], {});\n",
              "        if (!dataTable) return;\n",
              "\n",
              "        const docLinkHtml = 'Like what you see? Visit the ' +\n",
              "          '<a target=\"_blank\" href=https://colab.research.google.com/notebooks/data_table.ipynb>data table notebook</a>'\n",
              "          + ' to learn more about interactive tables.';\n",
              "        element.innerHTML = '';\n",
              "        dataTable['output_type'] = 'display_data';\n",
              "        await google.colab.output.renderOutput(dataTable, element);\n",
              "        const docLink = document.createElement('div');\n",
              "        docLink.innerHTML = docLinkHtml;\n",
              "        element.appendChild(docLink);\n",
              "      }\n",
              "    </script>\n",
              "  </div>\n",
              "\n",
              "\n",
              "<div id=\"df-4888fb5c-66d3-45b3-9547-d036d6396227\">\n",
              "  <button class=\"colab-df-quickchart\" onclick=\"quickchart('df-4888fb5c-66d3-45b3-9547-d036d6396227')\"\n",
              "            title=\"Suggest charts\"\n",
              "            style=\"display:none;\">\n",
              "\n",
              "<svg xmlns=\"http://www.w3.org/2000/svg\" height=\"24px\"viewBox=\"0 0 24 24\"\n",
              "     width=\"24px\">\n",
              "    <g>\n",
              "        <path d=\"M19 3H5c-1.1 0-2 .9-2 2v14c0 1.1.9 2 2 2h14c1.1 0 2-.9 2-2V5c0-1.1-.9-2-2-2zM9 17H7v-7h2v7zm4 0h-2V7h2v10zm4 0h-2v-4h2v4z\"/>\n",
              "    </g>\n",
              "</svg>\n",
              "  </button>\n",
              "\n",
              "<style>\n",
              "  .colab-df-quickchart {\n",
              "      --bg-color: #E8F0FE;\n",
              "      --fill-color: #1967D2;\n",
              "      --hover-bg-color: #E2EBFA;\n",
              "      --hover-fill-color: #174EA6;\n",
              "      --disabled-fill-color: #AAA;\n",
              "      --disabled-bg-color: #DDD;\n",
              "  }\n",
              "\n",
              "  [theme=dark] .colab-df-quickchart {\n",
              "      --bg-color: #3B4455;\n",
              "      --fill-color: #D2E3FC;\n",
              "      --hover-bg-color: #434B5C;\n",
              "      --hover-fill-color: #FFFFFF;\n",
              "      --disabled-bg-color: #3B4455;\n",
              "      --disabled-fill-color: #666;\n",
              "  }\n",
              "\n",
              "  .colab-df-quickchart {\n",
              "    background-color: var(--bg-color);\n",
              "    border: none;\n",
              "    border-radius: 50%;\n",
              "    cursor: pointer;\n",
              "    display: none;\n",
              "    fill: var(--fill-color);\n",
              "    height: 32px;\n",
              "    padding: 0;\n",
              "    width: 32px;\n",
              "  }\n",
              "\n",
              "  .colab-df-quickchart:hover {\n",
              "    background-color: var(--hover-bg-color);\n",
              "    box-shadow: 0 1px 2px rgba(60, 64, 67, 0.3), 0 1px 3px 1px rgba(60, 64, 67, 0.15);\n",
              "    fill: var(--button-hover-fill-color);\n",
              "  }\n",
              "\n",
              "  .colab-df-quickchart-complete:disabled,\n",
              "  .colab-df-quickchart-complete:disabled:hover {\n",
              "    background-color: var(--disabled-bg-color);\n",
              "    fill: var(--disabled-fill-color);\n",
              "    box-shadow: none;\n",
              "  }\n",
              "\n",
              "  .colab-df-spinner {\n",
              "    border: 2px solid var(--fill-color);\n",
              "    border-color: transparent;\n",
              "    border-bottom-color: var(--fill-color);\n",
              "    animation:\n",
              "      spin 1s steps(1) infinite;\n",
              "  }\n",
              "\n",
              "  @keyframes spin {\n",
              "    0% {\n",
              "      border-color: transparent;\n",
              "      border-bottom-color: var(--fill-color);\n",
              "      border-left-color: var(--fill-color);\n",
              "    }\n",
              "    20% {\n",
              "      border-color: transparent;\n",
              "      border-left-color: var(--fill-color);\n",
              "      border-top-color: var(--fill-color);\n",
              "    }\n",
              "    30% {\n",
              "      border-color: transparent;\n",
              "      border-left-color: var(--fill-color);\n",
              "      border-top-color: var(--fill-color);\n",
              "      border-right-color: var(--fill-color);\n",
              "    }\n",
              "    40% {\n",
              "      border-color: transparent;\n",
              "      border-right-color: var(--fill-color);\n",
              "      border-top-color: var(--fill-color);\n",
              "    }\n",
              "    60% {\n",
              "      border-color: transparent;\n",
              "      border-right-color: var(--fill-color);\n",
              "    }\n",
              "    80% {\n",
              "      border-color: transparent;\n",
              "      border-right-color: var(--fill-color);\n",
              "      border-bottom-color: var(--fill-color);\n",
              "    }\n",
              "    90% {\n",
              "      border-color: transparent;\n",
              "      border-bottom-color: var(--fill-color);\n",
              "    }\n",
              "  }\n",
              "</style>\n",
              "\n",
              "  <script>\n",
              "    async function quickchart(key) {\n",
              "      const quickchartButtonEl =\n",
              "        document.querySelector('#' + key + ' button');\n",
              "      quickchartButtonEl.disabled = true;  // To prevent multiple clicks.\n",
              "      quickchartButtonEl.classList.add('colab-df-spinner');\n",
              "      try {\n",
              "        const charts = await google.colab.kernel.invokeFunction(\n",
              "            'suggestCharts', [key], {});\n",
              "      } catch (error) {\n",
              "        console.error('Error during call to suggestCharts:', error);\n",
              "      }\n",
              "      quickchartButtonEl.classList.remove('colab-df-spinner');\n",
              "      quickchartButtonEl.classList.add('colab-df-quickchart-complete');\n",
              "    }\n",
              "    (() => {\n",
              "      let quickchartButtonEl =\n",
              "        document.querySelector('#df-4888fb5c-66d3-45b3-9547-d036d6396227 button');\n",
              "      quickchartButtonEl.style.display =\n",
              "        google.colab.kernel.accessAllowed ? 'block' : 'none';\n",
              "    })();\n",
              "  </script>\n",
              "</div>\n",
              "\n",
              "  <div id=\"id_b42b445c-2ffc-45bd-94d8-5ce20240679e\">\n",
              "    <style>\n",
              "      .colab-df-generate {\n",
              "        background-color: #E8F0FE;\n",
              "        border: none;\n",
              "        border-radius: 50%;\n",
              "        cursor: pointer;\n",
              "        display: none;\n",
              "        fill: #1967D2;\n",
              "        height: 32px;\n",
              "        padding: 0 0 0 0;\n",
              "        width: 32px;\n",
              "      }\n",
              "\n",
              "      .colab-df-generate:hover {\n",
              "        background-color: #E2EBFA;\n",
              "        box-shadow: 0px 1px 2px rgba(60, 64, 67, 0.3), 0px 1px 3px 1px rgba(60, 64, 67, 0.15);\n",
              "        fill: #174EA6;\n",
              "      }\n",
              "\n",
              "      [theme=dark] .colab-df-generate {\n",
              "        background-color: #3B4455;\n",
              "        fill: #D2E3FC;\n",
              "      }\n",
              "\n",
              "      [theme=dark] .colab-df-generate:hover {\n",
              "        background-color: #434B5C;\n",
              "        box-shadow: 0px 1px 3px 1px rgba(0, 0, 0, 0.15);\n",
              "        filter: drop-shadow(0px 1px 2px rgba(0, 0, 0, 0.3));\n",
              "        fill: #FFFFFF;\n",
              "      }\n",
              "    </style>\n",
              "    <button class=\"colab-df-generate\" onclick=\"generateWithVariable('df_aisles')\"\n",
              "            title=\"Generate code using this dataframe.\"\n",
              "            style=\"display:none;\">\n",
              "\n",
              "  <svg xmlns=\"http://www.w3.org/2000/svg\" height=\"24px\"viewBox=\"0 0 24 24\"\n",
              "       width=\"24px\">\n",
              "    <path d=\"M7,19H8.4L18.45,9,17,7.55,7,17.6ZM5,21V16.75L18.45,3.32a2,2,0,0,1,2.83,0l1.4,1.43a1.91,1.91,0,0,1,.58,1.4,1.91,1.91,0,0,1-.58,1.4L9.25,21ZM18.45,9,17,7.55Zm-12,3A5.31,5.31,0,0,0,4.9,8.1,5.31,5.31,0,0,0,1,6.5,5.31,5.31,0,0,0,4.9,4.9,5.31,5.31,0,0,0,6.5,1,5.31,5.31,0,0,0,8.1,4.9,5.31,5.31,0,0,0,12,6.5,5.46,5.46,0,0,0,6.5,12Z\"/>\n",
              "  </svg>\n",
              "    </button>\n",
              "    <script>\n",
              "      (() => {\n",
              "      const buttonEl =\n",
              "        document.querySelector('#id_b42b445c-2ffc-45bd-94d8-5ce20240679e button.colab-df-generate');\n",
              "      buttonEl.style.display =\n",
              "        google.colab.kernel.accessAllowed ? 'block' : 'none';\n",
              "\n",
              "      buttonEl.onclick = () => {\n",
              "        google.colab.notebook.generateWithVariable('df_aisles');\n",
              "      }\n",
              "      })();\n",
              "    </script>\n",
              "  </div>\n",
              "\n",
              "    </div>\n",
              "  </div>\n"
            ],
            "application/vnd.google.colaboratory.intrinsic+json": {
              "type": "dataframe",
              "variable_name": "df_aisles",
              "summary": "{\n  \"name\": \"df_aisles\",\n  \"rows\": 134,\n  \"fields\": [\n    {\n      \"column\": \"aisle_id\",\n      \"properties\": {\n        \"dtype\": \"number\",\n        \"std\": 38,\n        \"min\": 1,\n        \"max\": 134,\n        \"num_unique_values\": 134,\n        \"samples\": [\n          128,\n          67,\n          105\n        ],\n        \"semantic_type\": \"\",\n        \"description\": \"\"\n      }\n    },\n    {\n      \"column\": \"aisle\",\n      \"properties\": {\n        \"dtype\": \"string\",\n        \"num_unique_values\": 134,\n        \"samples\": [\n          \"tortillas flat bread\",\n          \"fresh dips tapenades\",\n          \"doughs gelatins bake mixes\"\n        ],\n        \"semantic_type\": \"\",\n        \"description\": \"\"\n      }\n    }\n  ]\n}"
            }
          },
          "metadata": {},
          "execution_count": 13
        }
      ]
    },
    {
      "cell_type": "code",
      "execution_count": 14,
      "id": "ad6a1efa",
      "metadata": {
        "id": "ad6a1efa",
        "colab": {
          "base_uri": "https://localhost:8080/"
        },
        "outputId": "fd552d03-f168-49eb-aaff-94cdb94c67e7"
      },
      "outputs": [
        {
          "output_type": "stream",
          "name": "stdout",
          "text": [
            "<class 'pandas.core.frame.DataFrame'>\n",
            "RangeIndex: 478967 entries, 0 to 478966\n",
            "Data columns (total 6 columns):\n",
            " #   Column                  Non-Null Count   Dtype  \n",
            "---  ------                  --------------   -----  \n",
            " 0   order_id                478967 non-null  int64  \n",
            " 1   user_id                 478967 non-null  int64  \n",
            " 2   order_number            478967 non-null  int64  \n",
            " 3   order_dow               478967 non-null  int64  \n",
            " 4   order_hour_of_day       478967 non-null  int64  \n",
            " 5   days_since_prior_order  450148 non-null  float64\n",
            "dtypes: float64(1), int64(5)\n",
            "memory usage: 21.9 MB\n"
          ]
        }
      ],
      "source": [
        "# imprima as informações sobre o DataFrame\n",
        "df_instacart_orders.info()"
      ]
    },
    {
      "cell_type": "code",
      "execution_count": 15,
      "id": "5130e05e",
      "metadata": {
        "id": "5130e05e",
        "colab": {
          "base_uri": "https://localhost:8080/"
        },
        "outputId": "0498ae2f-a475-484d-8908-9af165eb7ff1"
      },
      "outputs": [
        {
          "output_type": "stream",
          "name": "stdout",
          "text": [
            "<class 'pandas.core.frame.DataFrame'>\n",
            "RangeIndex: 49694 entries, 0 to 49693\n",
            "Data columns (total 4 columns):\n",
            " #   Column         Non-Null Count  Dtype \n",
            "---  ------         --------------  ----- \n",
            " 0   product_id     49694 non-null  int64 \n",
            " 1   product_name   48436 non-null  object\n",
            " 2   aisle_id       49694 non-null  int64 \n",
            " 3   department_id  49694 non-null  int64 \n",
            "dtypes: int64(3), object(1)\n",
            "memory usage: 1.5+ MB\n"
          ]
        }
      ],
      "source": [
        "# imprima as informações sobre o DataFrame\n",
        "df_products.info()"
      ]
    },
    {
      "cell_type": "code",
      "execution_count": 16,
      "id": "d8370c05",
      "metadata": {
        "id": "d8370c05",
        "colab": {
          "base_uri": "https://localhost:8080/"
        },
        "outputId": "4b3994fc-bbd6-43ee-d1e1-de390b6b2e41"
      },
      "outputs": [
        {
          "output_type": "stream",
          "name": "stdout",
          "text": [
            "<class 'pandas.core.frame.DataFrame'>\n",
            "RangeIndex: 4545007 entries, 0 to 4545006\n",
            "Data columns (total 4 columns):\n",
            " #   Column             Dtype  \n",
            "---  ------             -----  \n",
            " 0   order_id           int64  \n",
            " 1   product_id         int64  \n",
            " 2   add_to_cart_order  float64\n",
            " 3   reordered          int64  \n",
            "dtypes: float64(1), int64(3)\n",
            "memory usage: 138.7 MB\n"
          ]
        }
      ],
      "source": [
        "# imprima as informações sobre o DataFrame\n",
        "df_order_products.info()"
      ]
    },
    {
      "cell_type": "code",
      "execution_count": 17,
      "id": "59e2090f",
      "metadata": {
        "id": "59e2090f",
        "colab": {
          "base_uri": "https://localhost:8080/"
        },
        "outputId": "a492c802-8e6a-44ef-dc57-5ab47a90e625"
      },
      "outputs": [
        {
          "output_type": "stream",
          "name": "stdout",
          "text": [
            "<class 'pandas.core.frame.DataFrame'>\n",
            "RangeIndex: 134 entries, 0 to 133\n",
            "Data columns (total 2 columns):\n",
            " #   Column    Non-Null Count  Dtype \n",
            "---  ------    --------------  ----- \n",
            " 0   aisle_id  134 non-null    int64 \n",
            " 1   aisle     134 non-null    object\n",
            "dtypes: int64(1), object(1)\n",
            "memory usage: 2.2+ KB\n"
          ]
        }
      ],
      "source": [
        "# imprima as informações sobre o DataFrame\n",
        "df_aisles.info()"
      ]
    },
    {
      "cell_type": "code",
      "execution_count": 18,
      "id": "6fc81694",
      "metadata": {
        "id": "6fc81694",
        "colab": {
          "base_uri": "https://localhost:8080/"
        },
        "outputId": "901fe5c0-0e55-4af2-a044-72ada62e36c0"
      },
      "outputs": [
        {
          "output_type": "stream",
          "name": "stdout",
          "text": [
            "<class 'pandas.core.frame.DataFrame'>\n",
            "RangeIndex: 21 entries, 0 to 20\n",
            "Data columns (total 2 columns):\n",
            " #   Column         Non-Null Count  Dtype \n",
            "---  ------         --------------  ----- \n",
            " 0   department_id  21 non-null     int64 \n",
            " 1   department     21 non-null     object\n",
            "dtypes: int64(1), object(1)\n",
            "memory usage: 464.0+ bytes\n"
          ]
        }
      ],
      "source": [
        "# imprima as informações sobre o DataFrame\n",
        "df_departments.info()"
      ]
    },
    {
      "cell_type": "markdown",
      "id": "t75BD19oaR5f",
      "metadata": {
        "id": "t75BD19oaR5f"
      },
      "source": [
        "## Conclusões\n",
        "\n",
        "Escreva aqui suas conclusões intermediárias da Etapa 1. Visão geral dos dados"
      ]
    },
    {
      "cell_type": "markdown",
      "source": [
        "###Observação de dados e extrema importancia para observar se os dados estão balanceados"
      ],
      "metadata": {
        "id": "Ai61qZ1xMckn"
      },
      "id": "Ai61qZ1xMckn"
    },
    {
      "cell_type": "markdown",
      "id": "8RJHqxVmaVsF",
      "metadata": {
        "id": "8RJHqxVmaVsF"
      },
      "source": [
        "# Etapa 2. Preparação de dados\n",
        "\n",
        "Faça o pré-processamento dos dados da seguinte maneira:\n",
        "\n",
        "-\tVerifique e corrija os tipos de dados (por exemplo, certifique-se de que as colunas de ID sejam números inteiros)\n",
        "-\tIdentifique e preencha valores ausentes\n",
        "-\tIdentifique e remova valores duplicados\n",
        "\n",
        "Certifique-se de explicar que tipos de valores ausentes e duplicados você encontrou, como você os preencheu ou removeu, por que escolheu esses métodos e por que você acha que esses valores ausentes e duplicados estavam presentes no conjunto de dados."
      ]
    },
    {
      "cell_type": "markdown",
      "id": "p6poABZQaZYb",
      "metadata": {
        "id": "p6poABZQaZYb"
      },
      "source": [
        "## Plano de solução\n",
        "\n",
        "Escreva aqui seu plano para a Etapa 2. Preparação de dados"
      ]
    },
    {
      "cell_type": "markdown",
      "id": "07357848-dc64-4156-9cc3-01ff4365226d",
      "metadata": {
        "id": "07357848-dc64-4156-9cc3-01ff4365226d"
      },
      "source": [
        "## Encontre e remova valores duplicados (e descreva por que você está fazendo suas escolhas)"
      ]
    },
    {
      "cell_type": "markdown",
      "id": "f179f0a9",
      "metadata": {
        "id": "f179f0a9"
      },
      "source": [
        "### DataFrame `orders`"
      ]
    },
    {
      "cell_type": "code",
      "execution_count": 19,
      "id": "b99297a5-405a-463d-8535-9adc3da4ad74",
      "metadata": {
        "id": "b99297a5-405a-463d-8535-9adc3da4ad74",
        "colab": {
          "base_uri": "https://localhost:8080/"
        },
        "outputId": "9762690e-6ea3-4e46-d1e8-8685564621fd"
      },
      "outputs": [
        {
          "output_type": "stream",
          "name": "stdout",
          "text": [
            "        order_id  user_id  order_number  order_dow  order_hour_of_day  \\\n",
            "145574    794638    50898            24          3                  2   \n",
            "223105   2160484   107525            16          3                  2   \n",
            "230807   1918001   188546            14          3                  2   \n",
            "266232   1782114   106752             1          3                  2   \n",
            "273805   1112182   202304            84          3                  2   \n",
            "284038   2845099    31189            11          3                  2   \n",
            "311713   1021560    53767             3          3                  2   \n",
            "321100    408114    68324             4          3                  2   \n",
            "323900   1919531   191501            32          3                  2   \n",
            "345917   2232988    82565             1          3                  2   \n",
            "371905    391768    57671            19          3                  2   \n",
            "394347    467134    63189            21          3                  2   \n",
            "411408   1286742   183220            48          3                  2   \n",
            "415163   2282673    86751            49          3                  2   \n",
            "441599   2125197    14050            48          3                  2   \n",
            "\n",
            "        days_since_prior_order  \n",
            "145574                     2.0  \n",
            "223105                    30.0  \n",
            "230807                    16.0  \n",
            "266232                     NaN  \n",
            "273805                     6.0  \n",
            "284038                     7.0  \n",
            "311713                     9.0  \n",
            "321100                    18.0  \n",
            "323900                     7.0  \n",
            "345917                     NaN  \n",
            "371905                    10.0  \n",
            "394347                     2.0  \n",
            "411408                     4.0  \n",
            "415163                     2.0  \n",
            "441599                     3.0  \n"
          ]
        }
      ],
      "source": [
        "# Verificar se há pedidos duplicados\n",
        "duplicados_instacart_orders= df_instacart_orders[df_instacart_orders.duplicated()]\n",
        "print(duplicados_instacart_orders)\n"
      ]
    },
    {
      "cell_type": "markdown",
      "id": "PEkwUX_gvt5A",
      "metadata": {
        "id": "PEkwUX_gvt5A"
      },
      "source": [
        "Há linhas duplicadas? Se sim, o que elas têm em comum?"
      ]
    },
    {
      "cell_type": "code",
      "execution_count": 20,
      "id": "0d44de5d",
      "metadata": {
        "id": "0d44de5d",
        "colab": {
          "base_uri": "https://localhost:8080/"
        },
        "outputId": "c142bc6c-203a-4107-9dd5-62655f635646"
      },
      "outputs": [
        {
          "output_type": "stream",
          "name": "stdout",
          "text": [
            "Empty DataFrame\n",
            "Columns: [order_id, user_id, order_number, order_dow, order_hour_of_day, days_since_prior_order]\n",
            "Index: []\n"
          ]
        }
      ],
      "source": [
        "# Com base nas suas conclusões,\n",
        "## sim, ha linhas duplicadas\n",
        "# verifique todos os pedidos feitos às 2h da manhã nas quartas-feiras\n",
        "dias_da_semana = {\n",
        "    0: 'Domingo',\n",
        "    1: 'Segunda-feira',\n",
        "    2: 'Terça-feira',\n",
        "    3: 'Quarta-feira',\n",
        "    4: 'Quinta-feira',\n",
        "    5: 'Sexta-feira',\n",
        "    6: 'Sábado'\n",
        "}\n",
        "pedidos_quarta_2_am = df_instacart_orders[\n",
        "    (df_instacart_orders['order_dow'] == 'Quarta-feira') &\n",
        "    (df_instacart_orders['order_hour_of_day'] == 2)\n",
        "]\n",
        "\n",
        "print(pedidos_quarta_2_am)\n"
      ]
    },
    {
      "cell_type": "markdown",
      "id": "vu2OWyoqwOx5",
      "metadata": {
        "id": "vu2OWyoqwOx5"
      },
      "source": [
        "O que esse resultado quer dizer?"
      ]
    },
    {
      "cell_type": "code",
      "execution_count": 21,
      "id": "480563c7",
      "metadata": {
        "id": "480563c7",
        "colab": {
          "base_uri": "https://localhost:8080/"
        },
        "outputId": "d72db8e3-4ab8-43ec-d38d-388b1a0bb5fc"
      },
      "outputs": [
        {
          "output_type": "stream",
          "name": "stdout",
          "text": [
            "\n",
            "DataFrame sem duplicatas:\n",
            "        order_id  user_id  order_number  order_dow  order_hour_of_day  \\\n",
            "0        1515936   183418            11          6                 13   \n",
            "1        1690866   163593             5          5                 12   \n",
            "2        1454967    39980             4          5                 19   \n",
            "3        1768857    82516            56          0                 20   \n",
            "4        3007858   196724             2          4                 12   \n",
            "...          ...      ...           ...        ...                ...   \n",
            "478962   3210681     5617             5          1                 14   \n",
            "478963   3270802   112087             2          3                 13   \n",
            "478964    885349    82944            16          2                 11   \n",
            "478965    216274     4391             3          3                  8   \n",
            "478966   2071924     1730            18          1                 14   \n",
            "\n",
            "        days_since_prior_order  \n",
            "0                         30.0  \n",
            "1                          9.0  \n",
            "2                          2.0  \n",
            "3                         10.0  \n",
            "4                         17.0  \n",
            "...                        ...  \n",
            "478962                     7.0  \n",
            "478963                     6.0  \n",
            "478964                     6.0  \n",
            "478965                     8.0  \n",
            "478966                    15.0  \n",
            "\n",
            "[478952 rows x 6 columns]\n"
          ]
        }
      ],
      "source": [
        "# Remova pedidos duplicados\n",
        "duplicados_instacart_orders = df_instacart_orders.drop_duplicates()\n",
        "print(\"\\nDataFrame sem duplicatas:\")\n",
        "print(duplicados_instacart_orders)\n"
      ]
    },
    {
      "cell_type": "code",
      "execution_count": 22,
      "id": "0b2396a2",
      "metadata": {
        "id": "0b2396a2",
        "colab": {
          "base_uri": "https://localhost:8080/"
        },
        "outputId": "ac41bd8f-9a50-4ea9-a12a-aa39595ca0ba"
      },
      "outputs": [
        {
          "output_type": "stream",
          "name": "stdout",
          "text": [
            "        order_id  user_id  order_number  order_dow  order_hour_of_day  \\\n",
            "145574    794638    50898            24          3                  2   \n",
            "223105   2160484   107525            16          3                  2   \n",
            "230807   1918001   188546            14          3                  2   \n",
            "266232   1782114   106752             1          3                  2   \n",
            "273805   1112182   202304            84          3                  2   \n",
            "284038   2845099    31189            11          3                  2   \n",
            "311713   1021560    53767             3          3                  2   \n",
            "321100    408114    68324             4          3                  2   \n",
            "323900   1919531   191501            32          3                  2   \n",
            "345917   2232988    82565             1          3                  2   \n",
            "371905    391768    57671            19          3                  2   \n",
            "394347    467134    63189            21          3                  2   \n",
            "411408   1286742   183220            48          3                  2   \n",
            "415163   2282673    86751            49          3                  2   \n",
            "441599   2125197    14050            48          3                  2   \n",
            "\n",
            "        days_since_prior_order  \n",
            "145574                     2.0  \n",
            "223105                    30.0  \n",
            "230807                    16.0  \n",
            "266232                     NaN  \n",
            "273805                     6.0  \n",
            "284038                     7.0  \n",
            "311713                     9.0  \n",
            "321100                    18.0  \n",
            "323900                     7.0  \n",
            "345917                     NaN  \n",
            "371905                    10.0  \n",
            "394347                     2.0  \n",
            "411408                     4.0  \n",
            "415163                     2.0  \n",
            "441599                     3.0  \n"
          ]
        }
      ],
      "source": [
        "# Verifique as linhas duplicadas mais uma vez\n",
        "duplicados_instacart_orders= df_instacart_orders[df_instacart_orders.duplicated()]\n",
        "print(duplicados_instacart_orders)"
      ]
    },
    {
      "cell_type": "code",
      "execution_count": 23,
      "id": "f6113ef1",
      "metadata": {
        "id": "f6113ef1",
        "colab": {
          "base_uri": "https://localhost:8080/"
        },
        "outputId": "1858a6b8-e76b-459d-8ad1-2ab6152a263b"
      },
      "outputs": [
        {
          "output_type": "stream",
          "name": "stdout",
          "text": [
            "        order_id  user_id  order_number  order_dow  order_hour_of_day  \\\n",
            "145574    794638    50898            24          3                  2   \n",
            "223105   2160484   107525            16          3                  2   \n",
            "230807   1918001   188546            14          3                  2   \n",
            "266232   1782114   106752             1          3                  2   \n",
            "273805   1112182   202304            84          3                  2   \n",
            "284038   2845099    31189            11          3                  2   \n",
            "311713   1021560    53767             3          3                  2   \n",
            "321100    408114    68324             4          3                  2   \n",
            "323900   1919531   191501            32          3                  2   \n",
            "345917   2232988    82565             1          3                  2   \n",
            "371905    391768    57671            19          3                  2   \n",
            "394347    467134    63189            21          3                  2   \n",
            "411408   1286742   183220            48          3                  2   \n",
            "415163   2282673    86751            49          3                  2   \n",
            "441599   2125197    14050            48          3                  2   \n",
            "\n",
            "        days_since_prior_order  \n",
            "145574                     2.0  \n",
            "223105                    30.0  \n",
            "230807                    16.0  \n",
            "266232                     NaN  \n",
            "273805                     6.0  \n",
            "284038                     7.0  \n",
            "311713                     9.0  \n",
            "321100                    18.0  \n",
            "323900                     7.0  \n",
            "345917                     NaN  \n",
            "371905                    10.0  \n",
            "394347                     2.0  \n",
            "411408                     4.0  \n",
            "415163                     2.0  \n",
            "441599                     3.0  \n"
          ]
        }
      ],
      "source": [
        "# Verifique novamente apenas os IDs de pedidos duplicados\n",
        "duplicados_order_ids = df_instacart_orders[df_instacart_orders.duplicated(subset=['order_id'])]\n",
        "\n",
        "# Imprima os IDs de pedidos duplicados\n",
        "print(duplicados_order_ids)\n"
      ]
    },
    {
      "cell_type": "markdown",
      "id": "5e8905ae",
      "metadata": {
        "id": "5e8905ae"
      },
      "source": [
        "\n",
        "\n",
        "Descreva brevemente suas conclusões e o que você fez com elas."
      ]
    },
    {
      "cell_type": "markdown",
      "id": "45e6bc46",
      "metadata": {
        "id": "45e6bc46"
      },
      "source": [
        "### DataFrame `products`"
      ]
    },
    {
      "cell_type": "code",
      "execution_count": 24,
      "id": "5f526b5b-8175-46fa-a0fd-441767d50e64",
      "metadata": {
        "id": "5f526b5b-8175-46fa-a0fd-441767d50e64",
        "colab": {
          "base_uri": "https://localhost:8080/"
        },
        "outputId": "6d404c1d-8715-451c-d8e2-cb9968488c1c"
      },
      "outputs": [
        {
          "output_type": "stream",
          "name": "stdout",
          "text": [
            "Empty DataFrame\n",
            "Columns: [product_id, product_name, aisle_id, department_id]\n",
            "Index: []\n"
          ]
        }
      ],
      "source": [
        "# Verifique se há linhas completamente duplicadas\n",
        "linhas_duplicadas_products = df_products[df_products.duplicated()]\n",
        "print(linhas_duplicadas_products)"
      ]
    },
    {
      "cell_type": "code",
      "execution_count": 25,
      "id": "88daa4f4",
      "metadata": {
        "id": "88daa4f4",
        "colab": {
          "base_uri": "https://localhost:8080/"
        },
        "outputId": "0390b833-3132-4dd3-9ade-360cf8fd720e"
      },
      "outputs": [
        {
          "output_type": "stream",
          "name": "stdout",
          "text": [
            "       product_id                                     product_name  aisle_id  \\\n",
            "4               5                        Green Chile Anytime Sauce         5   \n",
            "6               7                   Pure Coconut Water With Orange        98   \n",
            "7               8                Cut Russet Potatoes Steam N' Mash       116   \n",
            "9              10   Sparkling Orange Juice & Prickly Pear Beverage       115   \n",
            "10             11                                Peach Mango Juice        31   \n",
            "...           ...                                              ...       ...   \n",
            "49689       49690                    HIGH PERFORMANCE ENERGY DRINK        64   \n",
            "49690       49691                    ORIGINAL PANCAKE & WAFFLE MIX       130   \n",
            "49691       49692  ORGANIC INSTANT OATMEAL LIGHT MAPLE BROWN SUGAR       130   \n",
            "49692       49693                           SPRING WATER BODY WASH       127   \n",
            "49693       49694                          BURRITO- STEAK & CHEESE        38   \n",
            "\n",
            "       department_id  \n",
            "4                 13  \n",
            "6                  7  \n",
            "7                  1  \n",
            "9                  7  \n",
            "10                 7  \n",
            "...              ...  \n",
            "49689              7  \n",
            "49690             14  \n",
            "49691             14  \n",
            "49692             11  \n",
            "49693              1  \n",
            "\n",
            "[49673 rows x 4 columns]\n"
          ]
        }
      ],
      "source": [
        "# Verifique apenas se há IDs de departamentos duplicados\n",
        "duplicados_department_ids = df_products[df_products.duplicated(subset=['department_id'])]\n",
        "print(duplicados_department_ids)"
      ]
    },
    {
      "cell_type": "code",
      "execution_count": 26,
      "id": "c773f0bf",
      "metadata": {
        "id": "c773f0bf",
        "colab": {
          "base_uri": "https://localhost:8080/"
        },
        "outputId": "fd6189e2-3ee2-4d25-9363-1a44c25117ee"
      },
      "outputs": [
        {
          "output_type": "stream",
          "name": "stdout",
          "text": [
            "       product_id                                     product_name  aisle_id  \\\n",
            "71             72                                              NaN       100   \n",
            "109           110                                              NaN       100   \n",
            "296           297                                              NaN       100   \n",
            "416           417                                              NaN       100   \n",
            "436           437                                              NaN       100   \n",
            "...           ...                                              ...       ...   \n",
            "49689       49690                    HIGH PERFORMANCE ENERGY DRINK        64   \n",
            "49690       49691                    ORIGINAL PANCAKE & WAFFLE MIX       130   \n",
            "49691       49692  ORGANIC INSTANT OATMEAL LIGHT MAPLE BROWN SUGAR       130   \n",
            "49692       49693                           SPRING WATER BODY WASH       127   \n",
            "49693       49694                          BURRITO- STEAK & CHEESE        38   \n",
            "\n",
            "       department_id                               product_name_lower  \n",
            "71                21                                              NaN  \n",
            "109               21                                              NaN  \n",
            "296               21                                              NaN  \n",
            "416               21                                              NaN  \n",
            "436               21                                              NaN  \n",
            "...              ...                                              ...  \n",
            "49689              7                    high performance energy drink  \n",
            "49690             14                    original pancake & waffle mix  \n",
            "49691             14  organic instant oatmeal light maple brown sugar  \n",
            "49692             11                           spring water body wash  \n",
            "49693              1                          burrito- steak & cheese  \n",
            "\n",
            "[1361 rows x 5 columns]\n"
          ]
        }
      ],
      "source": [
        "# Verifique apenas se há nomes de produtos duplicados (converta os nomes para minúsculas para uma comparação melhor)\n",
        "df_products['product_name_lower'] = df_products['product_name'].str.lower()\n",
        "duplicados_product_names = df_products[df_products.duplicated(subset=['product_name_lower'])]\n",
        "\n",
        "# Imprimir os nomes de produtos duplicados\n",
        "print(duplicados_product_names)"
      ]
    },
    {
      "cell_type": "code",
      "execution_count": 27,
      "id": "01efd02e",
      "metadata": {
        "id": "01efd02e",
        "colab": {
          "base_uri": "https://localhost:8080/"
        },
        "outputId": "732339b9-944b-4d3e-ae4a-5b9cf6802119"
      },
      "outputs": [
        {
          "output_type": "stream",
          "name": "stdout",
          "text": [
            "       product_id                                     product_name  aisle_id  \\\n",
            "2058         2059                                  Biotin 1000 Mcg        47   \n",
            "5455         5456                 Green Tea With Ginseng and Honey        96   \n",
            "5558         5559                           Cream Of Mushroom Soup        69   \n",
            "7558         7559                        Cinnamon Rolls with Icing       105   \n",
            "9037         9038                           American Cheese slices        21   \n",
            "...           ...                                              ...       ...   \n",
            "49689       49690                    HIGH PERFORMANCE ENERGY DRINK        64   \n",
            "49690       49691                    ORIGINAL PANCAKE & WAFFLE MIX       130   \n",
            "49691       49692  ORGANIC INSTANT OATMEAL LIGHT MAPLE BROWN SUGAR       130   \n",
            "49692       49693                           SPRING WATER BODY WASH       127   \n",
            "49693       49694                          BURRITO- STEAK & CHEESE        38   \n",
            "\n",
            "       department_id                               product_name_lower  \n",
            "2058              11                                  biotin 1000 mcg  \n",
            "5455              20                 green tea with ginseng and honey  \n",
            "5558              15                           cream of mushroom soup  \n",
            "7558              13                        cinnamon rolls with icing  \n",
            "9037              16                           american cheese slices  \n",
            "...              ...                                              ...  \n",
            "49689              7                    high performance energy drink  \n",
            "49690             14                    original pancake & waffle mix  \n",
            "49691             14  organic instant oatmeal light maple brown sugar  \n",
            "49692             11                           spring water body wash  \n",
            "49693              1                          burrito- steak & cheese  \n",
            "\n",
            "[104 rows x 5 columns]\n"
          ]
        }
      ],
      "source": [
        "# Verifique os nomes de produtos duplicados que não estão faltando\n",
        "duplicados_product_names = df_products[df_products['product_name'].str.lower().notna() & df_products['product_name'].str.lower().duplicated()]\n",
        "print(duplicados_product_names)"
      ]
    },
    {
      "cell_type": "markdown",
      "id": "9da8d293",
      "metadata": {
        "id": "9da8d293"
      },
      "source": [
        "Descreva brevemente suas conclusões e o que você fez com elas."
      ]
    },
    {
      "cell_type": "markdown",
      "id": "60f30db1",
      "metadata": {
        "id": "60f30db1"
      },
      "source": [
        "### DataFrame `departments`"
      ]
    },
    {
      "cell_type": "code",
      "execution_count": 28,
      "id": "fb410ad4-0fbf-4b80-bb09-23fdea79afe3",
      "metadata": {
        "id": "fb410ad4-0fbf-4b80-bb09-23fdea79afe3",
        "colab": {
          "base_uri": "https://localhost:8080/"
        },
        "outputId": "d2c70598-9f7a-46d8-8c32-cf43e996a8d8"
      },
      "outputs": [
        {
          "output_type": "stream",
          "name": "stdout",
          "text": [
            "Empty DataFrame\n",
            "Columns: [department_id, department]\n",
            "Index: []\n"
          ]
        }
      ],
      "source": [
        "# Verifique se há linhas completamente duplicadas\n",
        "linhas_duplicadas_departaments = df_departments[df_departments.duplicated()]\n",
        "print(linhas_duplicadas_departaments)"
      ]
    },
    {
      "cell_type": "code",
      "execution_count": 29,
      "id": "332b12bb",
      "metadata": {
        "id": "332b12bb",
        "colab": {
          "base_uri": "https://localhost:8080/",
          "height": 206
        },
        "outputId": "fda28cbc-7f19-41e5-c3a5-78baf0213831"
      },
      "outputs": [
        {
          "output_type": "execute_result",
          "data": {
            "text/plain": [
              "   department_id department\n",
              "0              1     frozen\n",
              "1              2      other\n",
              "2              3     bakery\n",
              "3              4    produce\n",
              "4              5    alcohol"
            ],
            "text/html": [
              "\n",
              "  <div id=\"df-502593f6-7a9d-4b96-a856-0cf4f32b623f\" class=\"colab-df-container\">\n",
              "    <div>\n",
              "<style scoped>\n",
              "    .dataframe tbody tr th:only-of-type {\n",
              "        vertical-align: middle;\n",
              "    }\n",
              "\n",
              "    .dataframe tbody tr th {\n",
              "        vertical-align: top;\n",
              "    }\n",
              "\n",
              "    .dataframe thead th {\n",
              "        text-align: right;\n",
              "    }\n",
              "</style>\n",
              "<table border=\"1\" class=\"dataframe\">\n",
              "  <thead>\n",
              "    <tr style=\"text-align: right;\">\n",
              "      <th></th>\n",
              "      <th>department_id</th>\n",
              "      <th>department</th>\n",
              "    </tr>\n",
              "  </thead>\n",
              "  <tbody>\n",
              "    <tr>\n",
              "      <th>0</th>\n",
              "      <td>1</td>\n",
              "      <td>frozen</td>\n",
              "    </tr>\n",
              "    <tr>\n",
              "      <th>1</th>\n",
              "      <td>2</td>\n",
              "      <td>other</td>\n",
              "    </tr>\n",
              "    <tr>\n",
              "      <th>2</th>\n",
              "      <td>3</td>\n",
              "      <td>bakery</td>\n",
              "    </tr>\n",
              "    <tr>\n",
              "      <th>3</th>\n",
              "      <td>4</td>\n",
              "      <td>produce</td>\n",
              "    </tr>\n",
              "    <tr>\n",
              "      <th>4</th>\n",
              "      <td>5</td>\n",
              "      <td>alcohol</td>\n",
              "    </tr>\n",
              "  </tbody>\n",
              "</table>\n",
              "</div>\n",
              "    <div class=\"colab-df-buttons\">\n",
              "\n",
              "  <div class=\"colab-df-container\">\n",
              "    <button class=\"colab-df-convert\" onclick=\"convertToInteractive('df-502593f6-7a9d-4b96-a856-0cf4f32b623f')\"\n",
              "            title=\"Convert this dataframe to an interactive table.\"\n",
              "            style=\"display:none;\">\n",
              "\n",
              "  <svg xmlns=\"http://www.w3.org/2000/svg\" height=\"24px\" viewBox=\"0 -960 960 960\">\n",
              "    <path d=\"M120-120v-720h720v720H120Zm60-500h600v-160H180v160Zm220 220h160v-160H400v160Zm0 220h160v-160H400v160ZM180-400h160v-160H180v160Zm440 0h160v-160H620v160ZM180-180h160v-160H180v160Zm440 0h160v-160H620v160Z\"/>\n",
              "  </svg>\n",
              "    </button>\n",
              "\n",
              "  <style>\n",
              "    .colab-df-container {\n",
              "      display:flex;\n",
              "      gap: 12px;\n",
              "    }\n",
              "\n",
              "    .colab-df-convert {\n",
              "      background-color: #E8F0FE;\n",
              "      border: none;\n",
              "      border-radius: 50%;\n",
              "      cursor: pointer;\n",
              "      display: none;\n",
              "      fill: #1967D2;\n",
              "      height: 32px;\n",
              "      padding: 0 0 0 0;\n",
              "      width: 32px;\n",
              "    }\n",
              "\n",
              "    .colab-df-convert:hover {\n",
              "      background-color: #E2EBFA;\n",
              "      box-shadow: 0px 1px 2px rgba(60, 64, 67, 0.3), 0px 1px 3px 1px rgba(60, 64, 67, 0.15);\n",
              "      fill: #174EA6;\n",
              "    }\n",
              "\n",
              "    .colab-df-buttons div {\n",
              "      margin-bottom: 4px;\n",
              "    }\n",
              "\n",
              "    [theme=dark] .colab-df-convert {\n",
              "      background-color: #3B4455;\n",
              "      fill: #D2E3FC;\n",
              "    }\n",
              "\n",
              "    [theme=dark] .colab-df-convert:hover {\n",
              "      background-color: #434B5C;\n",
              "      box-shadow: 0px 1px 3px 1px rgba(0, 0, 0, 0.15);\n",
              "      filter: drop-shadow(0px 1px 2px rgba(0, 0, 0, 0.3));\n",
              "      fill: #FFFFFF;\n",
              "    }\n",
              "  </style>\n",
              "\n",
              "    <script>\n",
              "      const buttonEl =\n",
              "        document.querySelector('#df-502593f6-7a9d-4b96-a856-0cf4f32b623f button.colab-df-convert');\n",
              "      buttonEl.style.display =\n",
              "        google.colab.kernel.accessAllowed ? 'block' : 'none';\n",
              "\n",
              "      async function convertToInteractive(key) {\n",
              "        const element = document.querySelector('#df-502593f6-7a9d-4b96-a856-0cf4f32b623f');\n",
              "        const dataTable =\n",
              "          await google.colab.kernel.invokeFunction('convertToInteractive',\n",
              "                                                    [key], {});\n",
              "        if (!dataTable) return;\n",
              "\n",
              "        const docLinkHtml = 'Like what you see? Visit the ' +\n",
              "          '<a target=\"_blank\" href=https://colab.research.google.com/notebooks/data_table.ipynb>data table notebook</a>'\n",
              "          + ' to learn more about interactive tables.';\n",
              "        element.innerHTML = '';\n",
              "        dataTable['output_type'] = 'display_data';\n",
              "        await google.colab.output.renderOutput(dataTable, element);\n",
              "        const docLink = document.createElement('div');\n",
              "        docLink.innerHTML = docLinkHtml;\n",
              "        element.appendChild(docLink);\n",
              "      }\n",
              "    </script>\n",
              "  </div>\n",
              "\n",
              "\n",
              "<div id=\"df-4a1c294b-aaaa-4922-b645-c37e584d6602\">\n",
              "  <button class=\"colab-df-quickchart\" onclick=\"quickchart('df-4a1c294b-aaaa-4922-b645-c37e584d6602')\"\n",
              "            title=\"Suggest charts\"\n",
              "            style=\"display:none;\">\n",
              "\n",
              "<svg xmlns=\"http://www.w3.org/2000/svg\" height=\"24px\"viewBox=\"0 0 24 24\"\n",
              "     width=\"24px\">\n",
              "    <g>\n",
              "        <path d=\"M19 3H5c-1.1 0-2 .9-2 2v14c0 1.1.9 2 2 2h14c1.1 0 2-.9 2-2V5c0-1.1-.9-2-2-2zM9 17H7v-7h2v7zm4 0h-2V7h2v10zm4 0h-2v-4h2v4z\"/>\n",
              "    </g>\n",
              "</svg>\n",
              "  </button>\n",
              "\n",
              "<style>\n",
              "  .colab-df-quickchart {\n",
              "      --bg-color: #E8F0FE;\n",
              "      --fill-color: #1967D2;\n",
              "      --hover-bg-color: #E2EBFA;\n",
              "      --hover-fill-color: #174EA6;\n",
              "      --disabled-fill-color: #AAA;\n",
              "      --disabled-bg-color: #DDD;\n",
              "  }\n",
              "\n",
              "  [theme=dark] .colab-df-quickchart {\n",
              "      --bg-color: #3B4455;\n",
              "      --fill-color: #D2E3FC;\n",
              "      --hover-bg-color: #434B5C;\n",
              "      --hover-fill-color: #FFFFFF;\n",
              "      --disabled-bg-color: #3B4455;\n",
              "      --disabled-fill-color: #666;\n",
              "  }\n",
              "\n",
              "  .colab-df-quickchart {\n",
              "    background-color: var(--bg-color);\n",
              "    border: none;\n",
              "    border-radius: 50%;\n",
              "    cursor: pointer;\n",
              "    display: none;\n",
              "    fill: var(--fill-color);\n",
              "    height: 32px;\n",
              "    padding: 0;\n",
              "    width: 32px;\n",
              "  }\n",
              "\n",
              "  .colab-df-quickchart:hover {\n",
              "    background-color: var(--hover-bg-color);\n",
              "    box-shadow: 0 1px 2px rgba(60, 64, 67, 0.3), 0 1px 3px 1px rgba(60, 64, 67, 0.15);\n",
              "    fill: var(--button-hover-fill-color);\n",
              "  }\n",
              "\n",
              "  .colab-df-quickchart-complete:disabled,\n",
              "  .colab-df-quickchart-complete:disabled:hover {\n",
              "    background-color: var(--disabled-bg-color);\n",
              "    fill: var(--disabled-fill-color);\n",
              "    box-shadow: none;\n",
              "  }\n",
              "\n",
              "  .colab-df-spinner {\n",
              "    border: 2px solid var(--fill-color);\n",
              "    border-color: transparent;\n",
              "    border-bottom-color: var(--fill-color);\n",
              "    animation:\n",
              "      spin 1s steps(1) infinite;\n",
              "  }\n",
              "\n",
              "  @keyframes spin {\n",
              "    0% {\n",
              "      border-color: transparent;\n",
              "      border-bottom-color: var(--fill-color);\n",
              "      border-left-color: var(--fill-color);\n",
              "    }\n",
              "    20% {\n",
              "      border-color: transparent;\n",
              "      border-left-color: var(--fill-color);\n",
              "      border-top-color: var(--fill-color);\n",
              "    }\n",
              "    30% {\n",
              "      border-color: transparent;\n",
              "      border-left-color: var(--fill-color);\n",
              "      border-top-color: var(--fill-color);\n",
              "      border-right-color: var(--fill-color);\n",
              "    }\n",
              "    40% {\n",
              "      border-color: transparent;\n",
              "      border-right-color: var(--fill-color);\n",
              "      border-top-color: var(--fill-color);\n",
              "    }\n",
              "    60% {\n",
              "      border-color: transparent;\n",
              "      border-right-color: var(--fill-color);\n",
              "    }\n",
              "    80% {\n",
              "      border-color: transparent;\n",
              "      border-right-color: var(--fill-color);\n",
              "      border-bottom-color: var(--fill-color);\n",
              "    }\n",
              "    90% {\n",
              "      border-color: transparent;\n",
              "      border-bottom-color: var(--fill-color);\n",
              "    }\n",
              "  }\n",
              "</style>\n",
              "\n",
              "  <script>\n",
              "    async function quickchart(key) {\n",
              "      const quickchartButtonEl =\n",
              "        document.querySelector('#' + key + ' button');\n",
              "      quickchartButtonEl.disabled = true;  // To prevent multiple clicks.\n",
              "      quickchartButtonEl.classList.add('colab-df-spinner');\n",
              "      try {\n",
              "        const charts = await google.colab.kernel.invokeFunction(\n",
              "            'suggestCharts', [key], {});\n",
              "      } catch (error) {\n",
              "        console.error('Error during call to suggestCharts:', error);\n",
              "      }\n",
              "      quickchartButtonEl.classList.remove('colab-df-spinner');\n",
              "      quickchartButtonEl.classList.add('colab-df-quickchart-complete');\n",
              "    }\n",
              "    (() => {\n",
              "      let quickchartButtonEl =\n",
              "        document.querySelector('#df-4a1c294b-aaaa-4922-b645-c37e584d6602 button');\n",
              "      quickchartButtonEl.style.display =\n",
              "        google.colab.kernel.accessAllowed ? 'block' : 'none';\n",
              "    })();\n",
              "  </script>\n",
              "</div>\n",
              "\n",
              "    </div>\n",
              "  </div>\n"
            ],
            "application/vnd.google.colaboratory.intrinsic+json": {
              "type": "dataframe",
              "variable_name": "df_departments",
              "summary": "{\n  \"name\": \"df_departments\",\n  \"rows\": 21,\n  \"fields\": [\n    {\n      \"column\": \"department_id\",\n      \"properties\": {\n        \"dtype\": \"number\",\n        \"std\": 6,\n        \"min\": 1,\n        \"max\": 21,\n        \"num_unique_values\": 21,\n        \"samples\": [\n          1,\n          18,\n          16\n        ],\n        \"semantic_type\": \"\",\n        \"description\": \"\"\n      }\n    },\n    {\n      \"column\": \"department\",\n      \"properties\": {\n        \"dtype\": \"string\",\n        \"num_unique_values\": 21,\n        \"samples\": [\n          \"frozen\",\n          \"babies\",\n          \"dairy eggs\"\n        ],\n        \"semantic_type\": \"\",\n        \"description\": \"\"\n      }\n    }\n  ]\n}"
            }
          },
          "metadata": {},
          "execution_count": 29
        }
      ],
      "source": [
        "# Verifique apenas se há IDs dos produtos duplicados (verificando dataset)\n",
        "df_departments.head()"
      ]
    },
    {
      "cell_type": "code",
      "source": [
        "# Verifique apenas se há IDs dos produtos duplicados\n",
        "ids_produtos_duplicados = df_departments[df_departments.duplicated(subset=['department_id'])]\n",
        "print(ids_produtos_duplicados)"
      ],
      "metadata": {
        "colab": {
          "base_uri": "https://localhost:8080/"
        },
        "id": "5dy37TzxHfCJ",
        "outputId": "10f00eaa-dae5-4f45-d250-2a4cc4751acc"
      },
      "id": "5dy37TzxHfCJ",
      "execution_count": 30,
      "outputs": [
        {
          "output_type": "stream",
          "name": "stdout",
          "text": [
            "Empty DataFrame\n",
            "Columns: [department_id, department]\n",
            "Index: []\n"
          ]
        }
      ]
    },
    {
      "cell_type": "markdown",
      "id": "bd30d78e",
      "metadata": {
        "id": "bd30d78e"
      },
      "source": [
        "Descreva brevemente suas conclusões e o que você fez com elas."
      ]
    },
    {
      "cell_type": "markdown",
      "id": "889349c1",
      "metadata": {
        "id": "889349c1"
      },
      "source": [
        "### DataFrame `aisles`"
      ]
    },
    {
      "cell_type": "code",
      "execution_count": 31,
      "id": "9da89fb9-4679-40f5-ad0d-c34df753a3f8",
      "metadata": {
        "id": "9da89fb9-4679-40f5-ad0d-c34df753a3f8",
        "colab": {
          "base_uri": "https://localhost:8080/"
        },
        "outputId": "24c7bb3a-2e29-4086-e10f-a45f586a2a27"
      },
      "outputs": [
        {
          "output_type": "stream",
          "name": "stdout",
          "text": [
            "Empty DataFrame\n",
            "Columns: [aisle_id, aisle]\n",
            "Index: []\n"
          ]
        }
      ],
      "source": [
        "# Verifique se há linhas completamente duplicadas\n",
        "linhas_duplicadas_aisles = df_aisles[df_aisles.duplicated()]\n",
        "print(linhas_duplicadas_aisles)"
      ]
    },
    {
      "cell_type": "code",
      "source": [
        "df_aisles.head()"
      ],
      "metadata": {
        "colab": {
          "base_uri": "https://localhost:8080/",
          "height": 206
        },
        "id": "aRFflPSZa9Tt",
        "outputId": "8c5bb22e-431b-4aa6-ee40-f78841f992b3"
      },
      "id": "aRFflPSZa9Tt",
      "execution_count": 32,
      "outputs": [
        {
          "output_type": "execute_result",
          "data": {
            "text/plain": [
              "   aisle_id                       aisle\n",
              "0         1       prepared soups salads\n",
              "1         2           specialty cheeses\n",
              "2         3         energy granola bars\n",
              "3         4               instant foods\n",
              "4         5  marinades meat preparation"
            ],
            "text/html": [
              "\n",
              "  <div id=\"df-9414df7b-ab76-4942-b2c4-a39891afbf7d\" class=\"colab-df-container\">\n",
              "    <div>\n",
              "<style scoped>\n",
              "    .dataframe tbody tr th:only-of-type {\n",
              "        vertical-align: middle;\n",
              "    }\n",
              "\n",
              "    .dataframe tbody tr th {\n",
              "        vertical-align: top;\n",
              "    }\n",
              "\n",
              "    .dataframe thead th {\n",
              "        text-align: right;\n",
              "    }\n",
              "</style>\n",
              "<table border=\"1\" class=\"dataframe\">\n",
              "  <thead>\n",
              "    <tr style=\"text-align: right;\">\n",
              "      <th></th>\n",
              "      <th>aisle_id</th>\n",
              "      <th>aisle</th>\n",
              "    </tr>\n",
              "  </thead>\n",
              "  <tbody>\n",
              "    <tr>\n",
              "      <th>0</th>\n",
              "      <td>1</td>\n",
              "      <td>prepared soups salads</td>\n",
              "    </tr>\n",
              "    <tr>\n",
              "      <th>1</th>\n",
              "      <td>2</td>\n",
              "      <td>specialty cheeses</td>\n",
              "    </tr>\n",
              "    <tr>\n",
              "      <th>2</th>\n",
              "      <td>3</td>\n",
              "      <td>energy granola bars</td>\n",
              "    </tr>\n",
              "    <tr>\n",
              "      <th>3</th>\n",
              "      <td>4</td>\n",
              "      <td>instant foods</td>\n",
              "    </tr>\n",
              "    <tr>\n",
              "      <th>4</th>\n",
              "      <td>5</td>\n",
              "      <td>marinades meat preparation</td>\n",
              "    </tr>\n",
              "  </tbody>\n",
              "</table>\n",
              "</div>\n",
              "    <div class=\"colab-df-buttons\">\n",
              "\n",
              "  <div class=\"colab-df-container\">\n",
              "    <button class=\"colab-df-convert\" onclick=\"convertToInteractive('df-9414df7b-ab76-4942-b2c4-a39891afbf7d')\"\n",
              "            title=\"Convert this dataframe to an interactive table.\"\n",
              "            style=\"display:none;\">\n",
              "\n",
              "  <svg xmlns=\"http://www.w3.org/2000/svg\" height=\"24px\" viewBox=\"0 -960 960 960\">\n",
              "    <path d=\"M120-120v-720h720v720H120Zm60-500h600v-160H180v160Zm220 220h160v-160H400v160Zm0 220h160v-160H400v160ZM180-400h160v-160H180v160Zm440 0h160v-160H620v160ZM180-180h160v-160H180v160Zm440 0h160v-160H620v160Z\"/>\n",
              "  </svg>\n",
              "    </button>\n",
              "\n",
              "  <style>\n",
              "    .colab-df-container {\n",
              "      display:flex;\n",
              "      gap: 12px;\n",
              "    }\n",
              "\n",
              "    .colab-df-convert {\n",
              "      background-color: #E8F0FE;\n",
              "      border: none;\n",
              "      border-radius: 50%;\n",
              "      cursor: pointer;\n",
              "      display: none;\n",
              "      fill: #1967D2;\n",
              "      height: 32px;\n",
              "      padding: 0 0 0 0;\n",
              "      width: 32px;\n",
              "    }\n",
              "\n",
              "    .colab-df-convert:hover {\n",
              "      background-color: #E2EBFA;\n",
              "      box-shadow: 0px 1px 2px rgba(60, 64, 67, 0.3), 0px 1px 3px 1px rgba(60, 64, 67, 0.15);\n",
              "      fill: #174EA6;\n",
              "    }\n",
              "\n",
              "    .colab-df-buttons div {\n",
              "      margin-bottom: 4px;\n",
              "    }\n",
              "\n",
              "    [theme=dark] .colab-df-convert {\n",
              "      background-color: #3B4455;\n",
              "      fill: #D2E3FC;\n",
              "    }\n",
              "\n",
              "    [theme=dark] .colab-df-convert:hover {\n",
              "      background-color: #434B5C;\n",
              "      box-shadow: 0px 1px 3px 1px rgba(0, 0, 0, 0.15);\n",
              "      filter: drop-shadow(0px 1px 2px rgba(0, 0, 0, 0.3));\n",
              "      fill: #FFFFFF;\n",
              "    }\n",
              "  </style>\n",
              "\n",
              "    <script>\n",
              "      const buttonEl =\n",
              "        document.querySelector('#df-9414df7b-ab76-4942-b2c4-a39891afbf7d button.colab-df-convert');\n",
              "      buttonEl.style.display =\n",
              "        google.colab.kernel.accessAllowed ? 'block' : 'none';\n",
              "\n",
              "      async function convertToInteractive(key) {\n",
              "        const element = document.querySelector('#df-9414df7b-ab76-4942-b2c4-a39891afbf7d');\n",
              "        const dataTable =\n",
              "          await google.colab.kernel.invokeFunction('convertToInteractive',\n",
              "                                                    [key], {});\n",
              "        if (!dataTable) return;\n",
              "\n",
              "        const docLinkHtml = 'Like what you see? Visit the ' +\n",
              "          '<a target=\"_blank\" href=https://colab.research.google.com/notebooks/data_table.ipynb>data table notebook</a>'\n",
              "          + ' to learn more about interactive tables.';\n",
              "        element.innerHTML = '';\n",
              "        dataTable['output_type'] = 'display_data';\n",
              "        await google.colab.output.renderOutput(dataTable, element);\n",
              "        const docLink = document.createElement('div');\n",
              "        docLink.innerHTML = docLinkHtml;\n",
              "        element.appendChild(docLink);\n",
              "      }\n",
              "    </script>\n",
              "  </div>\n",
              "\n",
              "\n",
              "<div id=\"df-c92183d8-061b-4ca8-ab9d-bc504884e26e\">\n",
              "  <button class=\"colab-df-quickchart\" onclick=\"quickchart('df-c92183d8-061b-4ca8-ab9d-bc504884e26e')\"\n",
              "            title=\"Suggest charts\"\n",
              "            style=\"display:none;\">\n",
              "\n",
              "<svg xmlns=\"http://www.w3.org/2000/svg\" height=\"24px\"viewBox=\"0 0 24 24\"\n",
              "     width=\"24px\">\n",
              "    <g>\n",
              "        <path d=\"M19 3H5c-1.1 0-2 .9-2 2v14c0 1.1.9 2 2 2h14c1.1 0 2-.9 2-2V5c0-1.1-.9-2-2-2zM9 17H7v-7h2v7zm4 0h-2V7h2v10zm4 0h-2v-4h2v4z\"/>\n",
              "    </g>\n",
              "</svg>\n",
              "  </button>\n",
              "\n",
              "<style>\n",
              "  .colab-df-quickchart {\n",
              "      --bg-color: #E8F0FE;\n",
              "      --fill-color: #1967D2;\n",
              "      --hover-bg-color: #E2EBFA;\n",
              "      --hover-fill-color: #174EA6;\n",
              "      --disabled-fill-color: #AAA;\n",
              "      --disabled-bg-color: #DDD;\n",
              "  }\n",
              "\n",
              "  [theme=dark] .colab-df-quickchart {\n",
              "      --bg-color: #3B4455;\n",
              "      --fill-color: #D2E3FC;\n",
              "      --hover-bg-color: #434B5C;\n",
              "      --hover-fill-color: #FFFFFF;\n",
              "      --disabled-bg-color: #3B4455;\n",
              "      --disabled-fill-color: #666;\n",
              "  }\n",
              "\n",
              "  .colab-df-quickchart {\n",
              "    background-color: var(--bg-color);\n",
              "    border: none;\n",
              "    border-radius: 50%;\n",
              "    cursor: pointer;\n",
              "    display: none;\n",
              "    fill: var(--fill-color);\n",
              "    height: 32px;\n",
              "    padding: 0;\n",
              "    width: 32px;\n",
              "  }\n",
              "\n",
              "  .colab-df-quickchart:hover {\n",
              "    background-color: var(--hover-bg-color);\n",
              "    box-shadow: 0 1px 2px rgba(60, 64, 67, 0.3), 0 1px 3px 1px rgba(60, 64, 67, 0.15);\n",
              "    fill: var(--button-hover-fill-color);\n",
              "  }\n",
              "\n",
              "  .colab-df-quickchart-complete:disabled,\n",
              "  .colab-df-quickchart-complete:disabled:hover {\n",
              "    background-color: var(--disabled-bg-color);\n",
              "    fill: var(--disabled-fill-color);\n",
              "    box-shadow: none;\n",
              "  }\n",
              "\n",
              "  .colab-df-spinner {\n",
              "    border: 2px solid var(--fill-color);\n",
              "    border-color: transparent;\n",
              "    border-bottom-color: var(--fill-color);\n",
              "    animation:\n",
              "      spin 1s steps(1) infinite;\n",
              "  }\n",
              "\n",
              "  @keyframes spin {\n",
              "    0% {\n",
              "      border-color: transparent;\n",
              "      border-bottom-color: var(--fill-color);\n",
              "      border-left-color: var(--fill-color);\n",
              "    }\n",
              "    20% {\n",
              "      border-color: transparent;\n",
              "      border-left-color: var(--fill-color);\n",
              "      border-top-color: var(--fill-color);\n",
              "    }\n",
              "    30% {\n",
              "      border-color: transparent;\n",
              "      border-left-color: var(--fill-color);\n",
              "      border-top-color: var(--fill-color);\n",
              "      border-right-color: var(--fill-color);\n",
              "    }\n",
              "    40% {\n",
              "      border-color: transparent;\n",
              "      border-right-color: var(--fill-color);\n",
              "      border-top-color: var(--fill-color);\n",
              "    }\n",
              "    60% {\n",
              "      border-color: transparent;\n",
              "      border-right-color: var(--fill-color);\n",
              "    }\n",
              "    80% {\n",
              "      border-color: transparent;\n",
              "      border-right-color: var(--fill-color);\n",
              "      border-bottom-color: var(--fill-color);\n",
              "    }\n",
              "    90% {\n",
              "      border-color: transparent;\n",
              "      border-bottom-color: var(--fill-color);\n",
              "    }\n",
              "  }\n",
              "</style>\n",
              "\n",
              "  <script>\n",
              "    async function quickchart(key) {\n",
              "      const quickchartButtonEl =\n",
              "        document.querySelector('#' + key + ' button');\n",
              "      quickchartButtonEl.disabled = true;  // To prevent multiple clicks.\n",
              "      quickchartButtonEl.classList.add('colab-df-spinner');\n",
              "      try {\n",
              "        const charts = await google.colab.kernel.invokeFunction(\n",
              "            'suggestCharts', [key], {});\n",
              "      } catch (error) {\n",
              "        console.error('Error during call to suggestCharts:', error);\n",
              "      }\n",
              "      quickchartButtonEl.classList.remove('colab-df-spinner');\n",
              "      quickchartButtonEl.classList.add('colab-df-quickchart-complete');\n",
              "    }\n",
              "    (() => {\n",
              "      let quickchartButtonEl =\n",
              "        document.querySelector('#df-c92183d8-061b-4ca8-ab9d-bc504884e26e button');\n",
              "      quickchartButtonEl.style.display =\n",
              "        google.colab.kernel.accessAllowed ? 'block' : 'none';\n",
              "    })();\n",
              "  </script>\n",
              "</div>\n",
              "\n",
              "    </div>\n",
              "  </div>\n"
            ],
            "application/vnd.google.colaboratory.intrinsic+json": {
              "type": "dataframe",
              "variable_name": "df_aisles",
              "summary": "{\n  \"name\": \"df_aisles\",\n  \"rows\": 134,\n  \"fields\": [\n    {\n      \"column\": \"aisle_id\",\n      \"properties\": {\n        \"dtype\": \"number\",\n        \"std\": 38,\n        \"min\": 1,\n        \"max\": 134,\n        \"num_unique_values\": 134,\n        \"samples\": [\n          128,\n          67,\n          105\n        ],\n        \"semantic_type\": \"\",\n        \"description\": \"\"\n      }\n    },\n    {\n      \"column\": \"aisle\",\n      \"properties\": {\n        \"dtype\": \"string\",\n        \"num_unique_values\": 134,\n        \"samples\": [\n          \"tortillas flat bread\",\n          \"fresh dips tapenades\",\n          \"doughs gelatins bake mixes\"\n        ],\n        \"semantic_type\": \"\",\n        \"description\": \"\"\n      }\n    }\n  ]\n}"
            }
          },
          "metadata": {},
          "execution_count": 32
        }
      ]
    },
    {
      "cell_type": "code",
      "execution_count": 33,
      "id": "da7c2822",
      "metadata": {
        "id": "da7c2822",
        "colab": {
          "base_uri": "https://localhost:8080/"
        },
        "outputId": "ec13947e-c4f0-4419-d4ce-657100c29318"
      },
      "outputs": [
        {
          "output_type": "stream",
          "name": "stdout",
          "text": [
            "Empty DataFrame\n",
            "Columns: [aisle_id, aisle]\n",
            "Index: []\n"
          ]
        }
      ],
      "source": [
        "# Verifique apenas se há IDs dos produtos duplicados\n",
        "ids_duplicados_aisles = df_aisles[df_aisles.duplicated(subset=['aisle_id'])]\n",
        "print(ids_duplicados_aisles)"
      ]
    },
    {
      "cell_type": "markdown",
      "id": "ac63826f",
      "metadata": {
        "id": "ac63826f"
      },
      "source": [
        "Descreva brevemente suas conclusões e o que você fez com elas."
      ]
    },
    {
      "cell_type": "markdown",
      "id": "274cd06a",
      "metadata": {
        "id": "274cd06a"
      },
      "source": [
        "### DataFrame `order_products`"
      ]
    },
    {
      "cell_type": "code",
      "source": [
        "df_order_products.head()"
      ],
      "metadata": {
        "colab": {
          "base_uri": "https://localhost:8080/",
          "height": 206
        },
        "id": "-x50_CT5er5i",
        "outputId": "50be2da0-718a-4b9d-83fa-e0259e586931"
      },
      "id": "-x50_CT5er5i",
      "execution_count": 34,
      "outputs": [
        {
          "output_type": "execute_result",
          "data": {
            "text/plain": [
              "   order_id  product_id  add_to_cart_order  reordered\n",
              "0   2141543       11440               17.0          0\n",
              "1    567889        1560                1.0          1\n",
              "2   2261212       26683                1.0          1\n",
              "3    491251        8670               35.0          1\n",
              "4   2571142        1940                5.0          1"
            ],
            "text/html": [
              "\n",
              "  <div id=\"df-d58852eb-2fd3-4ffa-9c53-d0c3e8e31bdf\" class=\"colab-df-container\">\n",
              "    <div>\n",
              "<style scoped>\n",
              "    .dataframe tbody tr th:only-of-type {\n",
              "        vertical-align: middle;\n",
              "    }\n",
              "\n",
              "    .dataframe tbody tr th {\n",
              "        vertical-align: top;\n",
              "    }\n",
              "\n",
              "    .dataframe thead th {\n",
              "        text-align: right;\n",
              "    }\n",
              "</style>\n",
              "<table border=\"1\" class=\"dataframe\">\n",
              "  <thead>\n",
              "    <tr style=\"text-align: right;\">\n",
              "      <th></th>\n",
              "      <th>order_id</th>\n",
              "      <th>product_id</th>\n",
              "      <th>add_to_cart_order</th>\n",
              "      <th>reordered</th>\n",
              "    </tr>\n",
              "  </thead>\n",
              "  <tbody>\n",
              "    <tr>\n",
              "      <th>0</th>\n",
              "      <td>2141543</td>\n",
              "      <td>11440</td>\n",
              "      <td>17.0</td>\n",
              "      <td>0</td>\n",
              "    </tr>\n",
              "    <tr>\n",
              "      <th>1</th>\n",
              "      <td>567889</td>\n",
              "      <td>1560</td>\n",
              "      <td>1.0</td>\n",
              "      <td>1</td>\n",
              "    </tr>\n",
              "    <tr>\n",
              "      <th>2</th>\n",
              "      <td>2261212</td>\n",
              "      <td>26683</td>\n",
              "      <td>1.0</td>\n",
              "      <td>1</td>\n",
              "    </tr>\n",
              "    <tr>\n",
              "      <th>3</th>\n",
              "      <td>491251</td>\n",
              "      <td>8670</td>\n",
              "      <td>35.0</td>\n",
              "      <td>1</td>\n",
              "    </tr>\n",
              "    <tr>\n",
              "      <th>4</th>\n",
              "      <td>2571142</td>\n",
              "      <td>1940</td>\n",
              "      <td>5.0</td>\n",
              "      <td>1</td>\n",
              "    </tr>\n",
              "  </tbody>\n",
              "</table>\n",
              "</div>\n",
              "    <div class=\"colab-df-buttons\">\n",
              "\n",
              "  <div class=\"colab-df-container\">\n",
              "    <button class=\"colab-df-convert\" onclick=\"convertToInteractive('df-d58852eb-2fd3-4ffa-9c53-d0c3e8e31bdf')\"\n",
              "            title=\"Convert this dataframe to an interactive table.\"\n",
              "            style=\"display:none;\">\n",
              "\n",
              "  <svg xmlns=\"http://www.w3.org/2000/svg\" height=\"24px\" viewBox=\"0 -960 960 960\">\n",
              "    <path d=\"M120-120v-720h720v720H120Zm60-500h600v-160H180v160Zm220 220h160v-160H400v160Zm0 220h160v-160H400v160ZM180-400h160v-160H180v160Zm440 0h160v-160H620v160ZM180-180h160v-160H180v160Zm440 0h160v-160H620v160Z\"/>\n",
              "  </svg>\n",
              "    </button>\n",
              "\n",
              "  <style>\n",
              "    .colab-df-container {\n",
              "      display:flex;\n",
              "      gap: 12px;\n",
              "    }\n",
              "\n",
              "    .colab-df-convert {\n",
              "      background-color: #E8F0FE;\n",
              "      border: none;\n",
              "      border-radius: 50%;\n",
              "      cursor: pointer;\n",
              "      display: none;\n",
              "      fill: #1967D2;\n",
              "      height: 32px;\n",
              "      padding: 0 0 0 0;\n",
              "      width: 32px;\n",
              "    }\n",
              "\n",
              "    .colab-df-convert:hover {\n",
              "      background-color: #E2EBFA;\n",
              "      box-shadow: 0px 1px 2px rgba(60, 64, 67, 0.3), 0px 1px 3px 1px rgba(60, 64, 67, 0.15);\n",
              "      fill: #174EA6;\n",
              "    }\n",
              "\n",
              "    .colab-df-buttons div {\n",
              "      margin-bottom: 4px;\n",
              "    }\n",
              "\n",
              "    [theme=dark] .colab-df-convert {\n",
              "      background-color: #3B4455;\n",
              "      fill: #D2E3FC;\n",
              "    }\n",
              "\n",
              "    [theme=dark] .colab-df-convert:hover {\n",
              "      background-color: #434B5C;\n",
              "      box-shadow: 0px 1px 3px 1px rgba(0, 0, 0, 0.15);\n",
              "      filter: drop-shadow(0px 1px 2px rgba(0, 0, 0, 0.3));\n",
              "      fill: #FFFFFF;\n",
              "    }\n",
              "  </style>\n",
              "\n",
              "    <script>\n",
              "      const buttonEl =\n",
              "        document.querySelector('#df-d58852eb-2fd3-4ffa-9c53-d0c3e8e31bdf button.colab-df-convert');\n",
              "      buttonEl.style.display =\n",
              "        google.colab.kernel.accessAllowed ? 'block' : 'none';\n",
              "\n",
              "      async function convertToInteractive(key) {\n",
              "        const element = document.querySelector('#df-d58852eb-2fd3-4ffa-9c53-d0c3e8e31bdf');\n",
              "        const dataTable =\n",
              "          await google.colab.kernel.invokeFunction('convertToInteractive',\n",
              "                                                    [key], {});\n",
              "        if (!dataTable) return;\n",
              "\n",
              "        const docLinkHtml = 'Like what you see? Visit the ' +\n",
              "          '<a target=\"_blank\" href=https://colab.research.google.com/notebooks/data_table.ipynb>data table notebook</a>'\n",
              "          + ' to learn more about interactive tables.';\n",
              "        element.innerHTML = '';\n",
              "        dataTable['output_type'] = 'display_data';\n",
              "        await google.colab.output.renderOutput(dataTable, element);\n",
              "        const docLink = document.createElement('div');\n",
              "        docLink.innerHTML = docLinkHtml;\n",
              "        element.appendChild(docLink);\n",
              "      }\n",
              "    </script>\n",
              "  </div>\n",
              "\n",
              "\n",
              "<div id=\"df-95fab163-f9cc-4fa6-b94f-2b54a2072b7d\">\n",
              "  <button class=\"colab-df-quickchart\" onclick=\"quickchart('df-95fab163-f9cc-4fa6-b94f-2b54a2072b7d')\"\n",
              "            title=\"Suggest charts\"\n",
              "            style=\"display:none;\">\n",
              "\n",
              "<svg xmlns=\"http://www.w3.org/2000/svg\" height=\"24px\"viewBox=\"0 0 24 24\"\n",
              "     width=\"24px\">\n",
              "    <g>\n",
              "        <path d=\"M19 3H5c-1.1 0-2 .9-2 2v14c0 1.1.9 2 2 2h14c1.1 0 2-.9 2-2V5c0-1.1-.9-2-2-2zM9 17H7v-7h2v7zm4 0h-2V7h2v10zm4 0h-2v-4h2v4z\"/>\n",
              "    </g>\n",
              "</svg>\n",
              "  </button>\n",
              "\n",
              "<style>\n",
              "  .colab-df-quickchart {\n",
              "      --bg-color: #E8F0FE;\n",
              "      --fill-color: #1967D2;\n",
              "      --hover-bg-color: #E2EBFA;\n",
              "      --hover-fill-color: #174EA6;\n",
              "      --disabled-fill-color: #AAA;\n",
              "      --disabled-bg-color: #DDD;\n",
              "  }\n",
              "\n",
              "  [theme=dark] .colab-df-quickchart {\n",
              "      --bg-color: #3B4455;\n",
              "      --fill-color: #D2E3FC;\n",
              "      --hover-bg-color: #434B5C;\n",
              "      --hover-fill-color: #FFFFFF;\n",
              "      --disabled-bg-color: #3B4455;\n",
              "      --disabled-fill-color: #666;\n",
              "  }\n",
              "\n",
              "  .colab-df-quickchart {\n",
              "    background-color: var(--bg-color);\n",
              "    border: none;\n",
              "    border-radius: 50%;\n",
              "    cursor: pointer;\n",
              "    display: none;\n",
              "    fill: var(--fill-color);\n",
              "    height: 32px;\n",
              "    padding: 0;\n",
              "    width: 32px;\n",
              "  }\n",
              "\n",
              "  .colab-df-quickchart:hover {\n",
              "    background-color: var(--hover-bg-color);\n",
              "    box-shadow: 0 1px 2px rgba(60, 64, 67, 0.3), 0 1px 3px 1px rgba(60, 64, 67, 0.15);\n",
              "    fill: var(--button-hover-fill-color);\n",
              "  }\n",
              "\n",
              "  .colab-df-quickchart-complete:disabled,\n",
              "  .colab-df-quickchart-complete:disabled:hover {\n",
              "    background-color: var(--disabled-bg-color);\n",
              "    fill: var(--disabled-fill-color);\n",
              "    box-shadow: none;\n",
              "  }\n",
              "\n",
              "  .colab-df-spinner {\n",
              "    border: 2px solid var(--fill-color);\n",
              "    border-color: transparent;\n",
              "    border-bottom-color: var(--fill-color);\n",
              "    animation:\n",
              "      spin 1s steps(1) infinite;\n",
              "  }\n",
              "\n",
              "  @keyframes spin {\n",
              "    0% {\n",
              "      border-color: transparent;\n",
              "      border-bottom-color: var(--fill-color);\n",
              "      border-left-color: var(--fill-color);\n",
              "    }\n",
              "    20% {\n",
              "      border-color: transparent;\n",
              "      border-left-color: var(--fill-color);\n",
              "      border-top-color: var(--fill-color);\n",
              "    }\n",
              "    30% {\n",
              "      border-color: transparent;\n",
              "      border-left-color: var(--fill-color);\n",
              "      border-top-color: var(--fill-color);\n",
              "      border-right-color: var(--fill-color);\n",
              "    }\n",
              "    40% {\n",
              "      border-color: transparent;\n",
              "      border-right-color: var(--fill-color);\n",
              "      border-top-color: var(--fill-color);\n",
              "    }\n",
              "    60% {\n",
              "      border-color: transparent;\n",
              "      border-right-color: var(--fill-color);\n",
              "    }\n",
              "    80% {\n",
              "      border-color: transparent;\n",
              "      border-right-color: var(--fill-color);\n",
              "      border-bottom-color: var(--fill-color);\n",
              "    }\n",
              "    90% {\n",
              "      border-color: transparent;\n",
              "      border-bottom-color: var(--fill-color);\n",
              "    }\n",
              "  }\n",
              "</style>\n",
              "\n",
              "  <script>\n",
              "    async function quickchart(key) {\n",
              "      const quickchartButtonEl =\n",
              "        document.querySelector('#' + key + ' button');\n",
              "      quickchartButtonEl.disabled = true;  // To prevent multiple clicks.\n",
              "      quickchartButtonEl.classList.add('colab-df-spinner');\n",
              "      try {\n",
              "        const charts = await google.colab.kernel.invokeFunction(\n",
              "            'suggestCharts', [key], {});\n",
              "      } catch (error) {\n",
              "        console.error('Error during call to suggestCharts:', error);\n",
              "      }\n",
              "      quickchartButtonEl.classList.remove('colab-df-spinner');\n",
              "      quickchartButtonEl.classList.add('colab-df-quickchart-complete');\n",
              "    }\n",
              "    (() => {\n",
              "      let quickchartButtonEl =\n",
              "        document.querySelector('#df-95fab163-f9cc-4fa6-b94f-2b54a2072b7d button');\n",
              "      quickchartButtonEl.style.display =\n",
              "        google.colab.kernel.accessAllowed ? 'block' : 'none';\n",
              "    })();\n",
              "  </script>\n",
              "</div>\n",
              "\n",
              "    </div>\n",
              "  </div>\n"
            ],
            "application/vnd.google.colaboratory.intrinsic+json": {
              "type": "dataframe",
              "variable_name": "df_order_products"
            }
          },
          "metadata": {},
          "execution_count": 34
        }
      ]
    },
    {
      "cell_type": "code",
      "execution_count": 35,
      "id": "52326689-84a8-4b8f-a881-7c68780f62c9",
      "metadata": {
        "id": "52326689-84a8-4b8f-a881-7c68780f62c9",
        "colab": {
          "base_uri": "https://localhost:8080/"
        },
        "outputId": "c0505870-0e3d-4b07-ae6a-72e1afce4779"
      },
      "outputs": [
        {
          "output_type": "stream",
          "name": "stdout",
          "text": [
            "Empty DataFrame\n",
            "Columns: [order_id, product_id, add_to_cart_order, reordered]\n",
            "Index: []\n"
          ]
        }
      ],
      "source": [
        "# Verifique se há linhas completamente duplicadas\n",
        "duplicados_order_products = df_order_products[df_order_products.duplicated()]\n",
        "print(duplicados_order_products)"
      ]
    },
    {
      "cell_type": "code",
      "execution_count": 36,
      "id": "7b861391",
      "metadata": {
        "id": "7b861391",
        "colab": {
          "base_uri": "https://localhost:8080/"
        },
        "outputId": "ef519de7-8883-4f21-dc72-d6dd842ca379"
      },
      "outputs": [
        {
          "output_type": "stream",
          "name": "stdout",
          "text": [
            "Empty DataFrame\n",
            "Columns: [order_id, product_id, add_to_cart_order, reordered]\n",
            "Index: []\n"
          ]
        }
      ],
      "source": [
        "# Verifique mais uma vez se há outros casos complicados de duplicados (Verificar duplicados em todas as colunas)\n",
        "\n",
        "duplicados_completos = df_order_products[df_order_products.duplicated(subset=['order_id','product_id','add_to_cart_order','reordered'])]\n",
        "\n",
        "# Imprimir duplicados em todas as colunas\n",
        "print(duplicados_completos)"
      ]
    },
    {
      "cell_type": "markdown",
      "id": "0b890492",
      "metadata": {
        "id": "0b890492"
      },
      "source": [
        "Descreva brevemente suas conclusões e o que você fez com elas."
      ]
    },
    {
      "cell_type": "markdown",
      "id": "1e46de76",
      "metadata": {
        "id": "1e46de76"
      },
      "source": [
        "## Encontre e remova valores ausentes\n",
        "\n",
        "\n",
        "Ao processarmos valores duplicados, observamos que também temos valores ausentes que precisamos investigar nas seguintes colunas:\n",
        "\n",
        "*\tA coluna `'product_name'` da tabela products.\n",
        "*\tA coluna `'days_since_prior_order'` da tabela orders.\n",
        "*\tA coluna `'add_to_cart_order'` da tabela order_products.\n"
      ]
    },
    {
      "cell_type": "markdown",
      "id": "c0aebd78",
      "metadata": {
        "id": "c0aebd78"
      },
      "source": [
        "### DataFrame `products`"
      ]
    },
    {
      "cell_type": "code",
      "execution_count": 37,
      "id": "fe4a8b0f",
      "metadata": {
        "id": "fe4a8b0f",
        "colab": {
          "base_uri": "https://localhost:8080/",
          "height": 206
        },
        "outputId": "4c3bb1ec-71fc-4f08-f006-e750b4136166"
      },
      "outputs": [
        {
          "output_type": "execute_result",
          "data": {
            "text/plain": [
              "   product_id                                       product_name  aisle_id  \\\n",
              "0           1                         Chocolate Sandwich Cookies        61   \n",
              "1           2                                   All-Seasons Salt       104   \n",
              "2           3               Robust Golden Unsweetened Oolong Tea        94   \n",
              "3           4  Smart Ones Classic Favorites Mini Rigatoni Wit...        38   \n",
              "4           5                          Green Chile Anytime Sauce         5   \n",
              "\n",
              "   department_id                                 product_name_lower  \n",
              "0             19                         chocolate sandwich cookies  \n",
              "1             13                                   all-seasons salt  \n",
              "2              7               robust golden unsweetened oolong tea  \n",
              "3              1  smart ones classic favorites mini rigatoni wit...  \n",
              "4             13                          green chile anytime sauce  "
            ],
            "text/html": [
              "\n",
              "  <div id=\"df-af8be4ce-7d80-4499-a54d-d73a0879485c\" class=\"colab-df-container\">\n",
              "    <div>\n",
              "<style scoped>\n",
              "    .dataframe tbody tr th:only-of-type {\n",
              "        vertical-align: middle;\n",
              "    }\n",
              "\n",
              "    .dataframe tbody tr th {\n",
              "        vertical-align: top;\n",
              "    }\n",
              "\n",
              "    .dataframe thead th {\n",
              "        text-align: right;\n",
              "    }\n",
              "</style>\n",
              "<table border=\"1\" class=\"dataframe\">\n",
              "  <thead>\n",
              "    <tr style=\"text-align: right;\">\n",
              "      <th></th>\n",
              "      <th>product_id</th>\n",
              "      <th>product_name</th>\n",
              "      <th>aisle_id</th>\n",
              "      <th>department_id</th>\n",
              "      <th>product_name_lower</th>\n",
              "    </tr>\n",
              "  </thead>\n",
              "  <tbody>\n",
              "    <tr>\n",
              "      <th>0</th>\n",
              "      <td>1</td>\n",
              "      <td>Chocolate Sandwich Cookies</td>\n",
              "      <td>61</td>\n",
              "      <td>19</td>\n",
              "      <td>chocolate sandwich cookies</td>\n",
              "    </tr>\n",
              "    <tr>\n",
              "      <th>1</th>\n",
              "      <td>2</td>\n",
              "      <td>All-Seasons Salt</td>\n",
              "      <td>104</td>\n",
              "      <td>13</td>\n",
              "      <td>all-seasons salt</td>\n",
              "    </tr>\n",
              "    <tr>\n",
              "      <th>2</th>\n",
              "      <td>3</td>\n",
              "      <td>Robust Golden Unsweetened Oolong Tea</td>\n",
              "      <td>94</td>\n",
              "      <td>7</td>\n",
              "      <td>robust golden unsweetened oolong tea</td>\n",
              "    </tr>\n",
              "    <tr>\n",
              "      <th>3</th>\n",
              "      <td>4</td>\n",
              "      <td>Smart Ones Classic Favorites Mini Rigatoni Wit...</td>\n",
              "      <td>38</td>\n",
              "      <td>1</td>\n",
              "      <td>smart ones classic favorites mini rigatoni wit...</td>\n",
              "    </tr>\n",
              "    <tr>\n",
              "      <th>4</th>\n",
              "      <td>5</td>\n",
              "      <td>Green Chile Anytime Sauce</td>\n",
              "      <td>5</td>\n",
              "      <td>13</td>\n",
              "      <td>green chile anytime sauce</td>\n",
              "    </tr>\n",
              "  </tbody>\n",
              "</table>\n",
              "</div>\n",
              "    <div class=\"colab-df-buttons\">\n",
              "\n",
              "  <div class=\"colab-df-container\">\n",
              "    <button class=\"colab-df-convert\" onclick=\"convertToInteractive('df-af8be4ce-7d80-4499-a54d-d73a0879485c')\"\n",
              "            title=\"Convert this dataframe to an interactive table.\"\n",
              "            style=\"display:none;\">\n",
              "\n",
              "  <svg xmlns=\"http://www.w3.org/2000/svg\" height=\"24px\" viewBox=\"0 -960 960 960\">\n",
              "    <path d=\"M120-120v-720h720v720H120Zm60-500h600v-160H180v160Zm220 220h160v-160H400v160Zm0 220h160v-160H400v160ZM180-400h160v-160H180v160Zm440 0h160v-160H620v160ZM180-180h160v-160H180v160Zm440 0h160v-160H620v160Z\"/>\n",
              "  </svg>\n",
              "    </button>\n",
              "\n",
              "  <style>\n",
              "    .colab-df-container {\n",
              "      display:flex;\n",
              "      gap: 12px;\n",
              "    }\n",
              "\n",
              "    .colab-df-convert {\n",
              "      background-color: #E8F0FE;\n",
              "      border: none;\n",
              "      border-radius: 50%;\n",
              "      cursor: pointer;\n",
              "      display: none;\n",
              "      fill: #1967D2;\n",
              "      height: 32px;\n",
              "      padding: 0 0 0 0;\n",
              "      width: 32px;\n",
              "    }\n",
              "\n",
              "    .colab-df-convert:hover {\n",
              "      background-color: #E2EBFA;\n",
              "      box-shadow: 0px 1px 2px rgba(60, 64, 67, 0.3), 0px 1px 3px 1px rgba(60, 64, 67, 0.15);\n",
              "      fill: #174EA6;\n",
              "    }\n",
              "\n",
              "    .colab-df-buttons div {\n",
              "      margin-bottom: 4px;\n",
              "    }\n",
              "\n",
              "    [theme=dark] .colab-df-convert {\n",
              "      background-color: #3B4455;\n",
              "      fill: #D2E3FC;\n",
              "    }\n",
              "\n",
              "    [theme=dark] .colab-df-convert:hover {\n",
              "      background-color: #434B5C;\n",
              "      box-shadow: 0px 1px 3px 1px rgba(0, 0, 0, 0.15);\n",
              "      filter: drop-shadow(0px 1px 2px rgba(0, 0, 0, 0.3));\n",
              "      fill: #FFFFFF;\n",
              "    }\n",
              "  </style>\n",
              "\n",
              "    <script>\n",
              "      const buttonEl =\n",
              "        document.querySelector('#df-af8be4ce-7d80-4499-a54d-d73a0879485c button.colab-df-convert');\n",
              "      buttonEl.style.display =\n",
              "        google.colab.kernel.accessAllowed ? 'block' : 'none';\n",
              "\n",
              "      async function convertToInteractive(key) {\n",
              "        const element = document.querySelector('#df-af8be4ce-7d80-4499-a54d-d73a0879485c');\n",
              "        const dataTable =\n",
              "          await google.colab.kernel.invokeFunction('convertToInteractive',\n",
              "                                                    [key], {});\n",
              "        if (!dataTable) return;\n",
              "\n",
              "        const docLinkHtml = 'Like what you see? Visit the ' +\n",
              "          '<a target=\"_blank\" href=https://colab.research.google.com/notebooks/data_table.ipynb>data table notebook</a>'\n",
              "          + ' to learn more about interactive tables.';\n",
              "        element.innerHTML = '';\n",
              "        dataTable['output_type'] = 'display_data';\n",
              "        await google.colab.output.renderOutput(dataTable, element);\n",
              "        const docLink = document.createElement('div');\n",
              "        docLink.innerHTML = docLinkHtml;\n",
              "        element.appendChild(docLink);\n",
              "      }\n",
              "    </script>\n",
              "  </div>\n",
              "\n",
              "\n",
              "<div id=\"df-f3e15004-5419-4406-88db-b5982e9893d2\">\n",
              "  <button class=\"colab-df-quickchart\" onclick=\"quickchart('df-f3e15004-5419-4406-88db-b5982e9893d2')\"\n",
              "            title=\"Suggest charts\"\n",
              "            style=\"display:none;\">\n",
              "\n",
              "<svg xmlns=\"http://www.w3.org/2000/svg\" height=\"24px\"viewBox=\"0 0 24 24\"\n",
              "     width=\"24px\">\n",
              "    <g>\n",
              "        <path d=\"M19 3H5c-1.1 0-2 .9-2 2v14c0 1.1.9 2 2 2h14c1.1 0 2-.9 2-2V5c0-1.1-.9-2-2-2zM9 17H7v-7h2v7zm4 0h-2V7h2v10zm4 0h-2v-4h2v4z\"/>\n",
              "    </g>\n",
              "</svg>\n",
              "  </button>\n",
              "\n",
              "<style>\n",
              "  .colab-df-quickchart {\n",
              "      --bg-color: #E8F0FE;\n",
              "      --fill-color: #1967D2;\n",
              "      --hover-bg-color: #E2EBFA;\n",
              "      --hover-fill-color: #174EA6;\n",
              "      --disabled-fill-color: #AAA;\n",
              "      --disabled-bg-color: #DDD;\n",
              "  }\n",
              "\n",
              "  [theme=dark] .colab-df-quickchart {\n",
              "      --bg-color: #3B4455;\n",
              "      --fill-color: #D2E3FC;\n",
              "      --hover-bg-color: #434B5C;\n",
              "      --hover-fill-color: #FFFFFF;\n",
              "      --disabled-bg-color: #3B4455;\n",
              "      --disabled-fill-color: #666;\n",
              "  }\n",
              "\n",
              "  .colab-df-quickchart {\n",
              "    background-color: var(--bg-color);\n",
              "    border: none;\n",
              "    border-radius: 50%;\n",
              "    cursor: pointer;\n",
              "    display: none;\n",
              "    fill: var(--fill-color);\n",
              "    height: 32px;\n",
              "    padding: 0;\n",
              "    width: 32px;\n",
              "  }\n",
              "\n",
              "  .colab-df-quickchart:hover {\n",
              "    background-color: var(--hover-bg-color);\n",
              "    box-shadow: 0 1px 2px rgba(60, 64, 67, 0.3), 0 1px 3px 1px rgba(60, 64, 67, 0.15);\n",
              "    fill: var(--button-hover-fill-color);\n",
              "  }\n",
              "\n",
              "  .colab-df-quickchart-complete:disabled,\n",
              "  .colab-df-quickchart-complete:disabled:hover {\n",
              "    background-color: var(--disabled-bg-color);\n",
              "    fill: var(--disabled-fill-color);\n",
              "    box-shadow: none;\n",
              "  }\n",
              "\n",
              "  .colab-df-spinner {\n",
              "    border: 2px solid var(--fill-color);\n",
              "    border-color: transparent;\n",
              "    border-bottom-color: var(--fill-color);\n",
              "    animation:\n",
              "      spin 1s steps(1) infinite;\n",
              "  }\n",
              "\n",
              "  @keyframes spin {\n",
              "    0% {\n",
              "      border-color: transparent;\n",
              "      border-bottom-color: var(--fill-color);\n",
              "      border-left-color: var(--fill-color);\n",
              "    }\n",
              "    20% {\n",
              "      border-color: transparent;\n",
              "      border-left-color: var(--fill-color);\n",
              "      border-top-color: var(--fill-color);\n",
              "    }\n",
              "    30% {\n",
              "      border-color: transparent;\n",
              "      border-left-color: var(--fill-color);\n",
              "      border-top-color: var(--fill-color);\n",
              "      border-right-color: var(--fill-color);\n",
              "    }\n",
              "    40% {\n",
              "      border-color: transparent;\n",
              "      border-right-color: var(--fill-color);\n",
              "      border-top-color: var(--fill-color);\n",
              "    }\n",
              "    60% {\n",
              "      border-color: transparent;\n",
              "      border-right-color: var(--fill-color);\n",
              "    }\n",
              "    80% {\n",
              "      border-color: transparent;\n",
              "      border-right-color: var(--fill-color);\n",
              "      border-bottom-color: var(--fill-color);\n",
              "    }\n",
              "    90% {\n",
              "      border-color: transparent;\n",
              "      border-bottom-color: var(--fill-color);\n",
              "    }\n",
              "  }\n",
              "</style>\n",
              "\n",
              "  <script>\n",
              "    async function quickchart(key) {\n",
              "      const quickchartButtonEl =\n",
              "        document.querySelector('#' + key + ' button');\n",
              "      quickchartButtonEl.disabled = true;  // To prevent multiple clicks.\n",
              "      quickchartButtonEl.classList.add('colab-df-spinner');\n",
              "      try {\n",
              "        const charts = await google.colab.kernel.invokeFunction(\n",
              "            'suggestCharts', [key], {});\n",
              "      } catch (error) {\n",
              "        console.error('Error during call to suggestCharts:', error);\n",
              "      }\n",
              "      quickchartButtonEl.classList.remove('colab-df-spinner');\n",
              "      quickchartButtonEl.classList.add('colab-df-quickchart-complete');\n",
              "    }\n",
              "    (() => {\n",
              "      let quickchartButtonEl =\n",
              "        document.querySelector('#df-f3e15004-5419-4406-88db-b5982e9893d2 button');\n",
              "      quickchartButtonEl.style.display =\n",
              "        google.colab.kernel.accessAllowed ? 'block' : 'none';\n",
              "    })();\n",
              "  </script>\n",
              "</div>\n",
              "\n",
              "    </div>\n",
              "  </div>\n"
            ],
            "application/vnd.google.colaboratory.intrinsic+json": {
              "type": "dataframe",
              "variable_name": "df_products",
              "summary": "{\n  \"name\": \"df_products\",\n  \"rows\": 49694,\n  \"fields\": [\n    {\n      \"column\": \"product_id\",\n      \"properties\": {\n        \"dtype\": \"number\",\n        \"std\": 14345,\n        \"min\": 1,\n        \"max\": 49694,\n        \"num_unique_values\": 49694,\n        \"samples\": [\n          11903,\n          4163,\n          17737\n        ],\n        \"semantic_type\": \"\",\n        \"description\": \"\"\n      }\n    },\n    {\n      \"column\": \"product_name\",\n      \"properties\": {\n        \"dtype\": \"string\",\n        \"num_unique_values\": 48436,\n        \"samples\": [\n          \"Giant White Sliced Bread\",\n          \"BV Coastal Estates Merlot\",\n          \"Rich & Creamy Mocha Coffee Beverage\"\n        ],\n        \"semantic_type\": \"\",\n        \"description\": \"\"\n      }\n    },\n    {\n      \"column\": \"aisle_id\",\n      \"properties\": {\n        \"dtype\": \"number\",\n        \"std\": 38,\n        \"min\": 1,\n        \"max\": 134,\n        \"num_unique_values\": 134,\n        \"samples\": [\n          18,\n          13,\n          85\n        ],\n        \"semantic_type\": \"\",\n        \"description\": \"\"\n      }\n    },\n    {\n      \"column\": \"department_id\",\n      \"properties\": {\n        \"dtype\": \"number\",\n        \"std\": 5,\n        \"min\": 1,\n        \"max\": 21,\n        \"num_unique_values\": 21,\n        \"samples\": [\n          19,\n          5,\n          6\n        ],\n        \"semantic_type\": \"\",\n        \"description\": \"\"\n      }\n    },\n    {\n      \"column\": \"product_name_lower\",\n      \"properties\": {\n        \"dtype\": \"string\",\n        \"num_unique_values\": 48332,\n        \"samples\": [\n          \"soft eating strawberry flavored licorice\",\n          \"bold sloppy joe sauce\",\n          \"sugar free black cherry cough drops\"\n        ],\n        \"semantic_type\": \"\",\n        \"description\": \"\"\n      }\n    }\n  ]\n}"
            }
          },
          "metadata": {},
          "execution_count": 37
        }
      ],
      "source": [
        "#observando dataset\n",
        "df_products.head()"
      ]
    },
    {
      "cell_type": "code",
      "source": [
        "# Encontre valores ausentes na coluna 'product_name'\n",
        "valor_ausente_products = df_products['product_name'].isna().sum()\n",
        "print('valor_ausente_products ')\n"
      ],
      "metadata": {
        "colab": {
          "base_uri": "https://localhost:8080/"
        },
        "id": "JaOqLJhFhGac",
        "outputId": "4fe66f70-db56-48e9-8ba3-0bb132d37fa8"
      },
      "id": "JaOqLJhFhGac",
      "execution_count": 38,
      "outputs": [
        {
          "output_type": "stream",
          "name": "stdout",
          "text": [
            "valor_ausente_products \n"
          ]
        }
      ]
    },
    {
      "cell_type": "markdown",
      "id": "-A6x1AbJhjkp",
      "metadata": {
        "id": "-A6x1AbJhjkp"
      },
      "source": [
        "Descreva brevemente suas conclusões."
      ]
    },
    {
      "cell_type": "code",
      "execution_count": 39,
      "id": "e96167bc",
      "metadata": {
        "id": "e96167bc"
      },
      "outputs": [],
      "source": [
        "# Todos os nomes de produtos ausentes estão associados com a seção de ID 100?\n",
        "#não ha valores ausentes"
      ]
    },
    {
      "cell_type": "markdown",
      "id": "WRpIfXRphpSL",
      "metadata": {
        "id": "WRpIfXRphpSL"
      },
      "source": [
        "Descreva brevemente suas conclusões."
      ]
    },
    {
      "cell_type": "code",
      "execution_count": 40,
      "id": "8fd0a541",
      "metadata": {
        "id": "8fd0a541"
      },
      "outputs": [],
      "source": [
        "# Todos os nomes de produtos ausentes estão associados com o departamento de ID 21?"
      ]
    },
    {
      "cell_type": "markdown",
      "id": "qDpdYn1Fht_I",
      "metadata": {
        "id": "qDpdYn1Fht_I"
      },
      "source": [
        "Descreva brevemente suas conclusões."
      ]
    },
    {
      "cell_type": "code",
      "execution_count": 41,
      "id": "325c3464",
      "metadata": {
        "id": "325c3464"
      },
      "outputs": [],
      "source": [
        "# Use as tabelas de departamentos e seções para verificar os dados da seção ID 100 e do departamento ID 21."
      ]
    },
    {
      "cell_type": "markdown",
      "id": "nqhSTUPhhvEJ",
      "metadata": {
        "id": "nqhSTUPhhvEJ"
      },
      "source": [
        "Descreva brevemente suas conclusões."
      ]
    },
    {
      "cell_type": "code",
      "execution_count": 42,
      "id": "6b295120",
      "metadata": {
        "id": "6b295120"
      },
      "outputs": [],
      "source": [
        "# Preencha nomes de produtos ausentes com 'Unknown'"
      ]
    },
    {
      "cell_type": "markdown",
      "id": "fc70e5ad",
      "metadata": {
        "id": "fc70e5ad"
      },
      "source": [
        "Descreva brevemente suas conclusões e o que você fez com elas."
      ]
    },
    {
      "cell_type": "markdown",
      "id": "7eb45c86",
      "metadata": {
        "id": "7eb45c86"
      },
      "source": [
        "### DataFrame `orders`"
      ]
    },
    {
      "cell_type": "code",
      "execution_count": 43,
      "id": "93e41d96",
      "metadata": {
        "id": "93e41d96",
        "colab": {
          "base_uri": "https://localhost:8080/",
          "height": 210
        },
        "outputId": "bbb42485-2e21-46d1-cb37-b52e51fa324a"
      },
      "outputs": [
        {
          "output_type": "execute_result",
          "data": {
            "text/plain": [
              "order_id               0\n",
              "product_id             0\n",
              "add_to_cart_order    836\n",
              "reordered              0\n",
              "dtype: int64"
            ],
            "text/html": [
              "<div>\n",
              "<style scoped>\n",
              "    .dataframe tbody tr th:only-of-type {\n",
              "        vertical-align: middle;\n",
              "    }\n",
              "\n",
              "    .dataframe tbody tr th {\n",
              "        vertical-align: top;\n",
              "    }\n",
              "\n",
              "    .dataframe thead th {\n",
              "        text-align: right;\n",
              "    }\n",
              "</style>\n",
              "<table border=\"1\" class=\"dataframe\">\n",
              "  <thead>\n",
              "    <tr style=\"text-align: right;\">\n",
              "      <th></th>\n",
              "      <th>0</th>\n",
              "    </tr>\n",
              "  </thead>\n",
              "  <tbody>\n",
              "    <tr>\n",
              "      <th>order_id</th>\n",
              "      <td>0</td>\n",
              "    </tr>\n",
              "    <tr>\n",
              "      <th>product_id</th>\n",
              "      <td>0</td>\n",
              "    </tr>\n",
              "    <tr>\n",
              "      <th>add_to_cart_order</th>\n",
              "      <td>836</td>\n",
              "    </tr>\n",
              "    <tr>\n",
              "      <th>reordered</th>\n",
              "      <td>0</td>\n",
              "    </tr>\n",
              "  </tbody>\n",
              "</table>\n",
              "</div><br><label><b>dtype:</b> int64</label>"
            ]
          },
          "metadata": {},
          "execution_count": 43
        }
      ],
      "source": [
        "# Encontre os valores ausentes\n",
        "df_order_products.isna().sum()"
      ]
    },
    {
      "cell_type": "code",
      "source": [
        "# Encontre os valores ausentes\n",
        "ausente_orders_products = df_order_products[df_order_products.isna()]\n",
        "print(ausente_orders_products)"
      ],
      "metadata": {
        "colab": {
          "base_uri": "https://localhost:8080/"
        },
        "id": "WF6zjO-EmwiA",
        "outputId": "3e77dcbd-cd69-4ae0-cc09-cf15b8c91a74"
      },
      "id": "WF6zjO-EmwiA",
      "execution_count": 44,
      "outputs": [
        {
          "output_type": "stream",
          "name": "stdout",
          "text": [
            "         order_id  product_id  add_to_cart_order  reordered\n",
            "0             NaN         NaN                NaN        NaN\n",
            "1             NaN         NaN                NaN        NaN\n",
            "2             NaN         NaN                NaN        NaN\n",
            "3             NaN         NaN                NaN        NaN\n",
            "4             NaN         NaN                NaN        NaN\n",
            "...           ...         ...                ...        ...\n",
            "4545002       NaN         NaN                NaN        NaN\n",
            "4545003       NaN         NaN                NaN        NaN\n",
            "4545004       NaN         NaN                NaN        NaN\n",
            "4545005       NaN         NaN                NaN        NaN\n",
            "4545006       NaN         NaN                NaN        NaN\n",
            "\n",
            "[4545007 rows x 4 columns]\n"
          ]
        }
      ]
    },
    {
      "cell_type": "code",
      "execution_count": 45,
      "id": "166e5a86",
      "metadata": {
        "id": "166e5a86"
      },
      "outputs": [],
      "source": [
        "# Há valores ausentes para os clientes que não estão fazendo o primeiro pedido?"
      ]
    },
    {
      "cell_type": "markdown",
      "id": "4e23d089",
      "metadata": {
        "id": "4e23d089"
      },
      "source": [
        "Descreva brevemente suas conclusões e o que você fez com elas."
      ]
    },
    {
      "cell_type": "markdown",
      "id": "69dc9ca4",
      "metadata": {
        "id": "69dc9ca4"
      },
      "source": [
        "### DataFrame `order_products`"
      ]
    },
    {
      "cell_type": "code",
      "execution_count": 46,
      "id": "b8240253",
      "metadata": {
        "id": "b8240253"
      },
      "outputs": [],
      "source": [
        "# Encontre os valores ausentes"
      ]
    },
    {
      "cell_type": "code",
      "execution_count": 47,
      "id": "9a78e5ee",
      "metadata": {
        "id": "9a78e5ee"
      },
      "outputs": [],
      "source": [
        "# Quais são os valores mínimo e máximo dessa coluna?"
      ]
    },
    {
      "cell_type": "markdown",
      "id": "-Z2Ja215jW78",
      "metadata": {
        "id": "-Z2Ja215jW78"
      },
      "source": [
        "Descreva brevemente suas conclusões."
      ]
    },
    {
      "cell_type": "code",
      "execution_count": 48,
      "id": "ab9d0c2b",
      "metadata": {
        "id": "ab9d0c2b"
      },
      "outputs": [],
      "source": [
        "# Salve todos os IDs dos pedidos com pelo menos um valor ausente em 'add_to_cart_order'"
      ]
    },
    {
      "cell_type": "code",
      "execution_count": 49,
      "id": "54c31695",
      "metadata": {
        "id": "54c31695"
      },
      "outputs": [],
      "source": [
        "# Todos os pedidos com valores ausentes contêm mais de 64 produtos?\n",
        "# Agrupe os pedidos com dados ausentes por ID de pedido\n",
        "# Conte o número de 'product_id' em cada pedido e verifique o valor mínimo da contagem\n"
      ]
    },
    {
      "cell_type": "markdown",
      "id": "p9V6pddtjglj",
      "metadata": {
        "id": "p9V6pddtjglj"
      },
      "source": [
        "Descreva brevemente suas conclusões."
      ]
    },
    {
      "cell_type": "code",
      "execution_count": 50,
      "id": "7a987d08",
      "metadata": {
        "id": "7a987d08"
      },
      "outputs": [],
      "source": [
        "# Substitua valores ausentes na coluna 'add_to_cart_order' por 999 e converta a coluna para o tipo integer"
      ]
    },
    {
      "cell_type": "markdown",
      "id": "fea4bcc7",
      "metadata": {
        "id": "fea4bcc7"
      },
      "source": [
        "Descreva brevemente suas conclusões e o que você fez com elas."
      ]
    },
    {
      "cell_type": "markdown",
      "id": "RnplPFY1gSrb",
      "metadata": {
        "id": "RnplPFY1gSrb"
      },
      "source": [
        "## Conclusões\n",
        "\n",
        "Escreva aqui suas conclusões intermediárias da Etapa 2. Preparação de dados"
      ]
    },
    {
      "cell_type": "markdown",
      "id": "UjrOIwTcz3ri",
      "metadata": {
        "id": "UjrOIwTcz3ri"
      },
      "source": [
        "# Etapa 3. Análise de dados\n",
        "\n",
        "Quando os dados estiverem processados ​​e prontos, execute a seguinte análise:"
      ]
    },
    {
      "cell_type": "markdown",
      "id": "turkish-kidney",
      "metadata": {
        "id": "turkish-kidney"
      },
      "source": [
        "# [A] Fácil (é necessário concluir tudo para passar)\n",
        "\n",
        "1.\tVerifique se os valores nas colunas `'order_hour_of_day'` e `'order_dow'` na tabela `orders` fazem sentido (ou seja, os valores da coluna  `'order_hour_of_day'` variam de 0 a 23 e os da `'order_dow'` variam de 0 a 6).\n",
        "2.\tCrie um gráfico que mostre quantas pessoas fazem pedidos por cada hora do dia.\n",
        "3.\tCrie um gráfico que mostre em que dia da semana as pessoas fazem compras.\n",
        "4.\tCrie um gráfico que mostre quanto tempo as pessoas esperam até fazer seu próximo pedido e comente sobre os valores mínimo e máximo.\n"
      ]
    },
    {
      "cell_type": "markdown",
      "id": "short-capability",
      "metadata": {
        "id": "short-capability"
      },
      "source": [
        "### [A1] Verifique se os valores fazem sentido"
      ]
    },
    {
      "cell_type": "code",
      "execution_count": 50,
      "id": "growing-fruit",
      "metadata": {
        "id": "growing-fruit"
      },
      "outputs": [],
      "source": []
    },
    {
      "cell_type": "code",
      "execution_count": 50,
      "id": "accessory-malaysia",
      "metadata": {
        "id": "accessory-malaysia"
      },
      "outputs": [],
      "source": []
    },
    {
      "cell_type": "markdown",
      "id": "hmR2GNQ6lCsX",
      "metadata": {
        "id": "hmR2GNQ6lCsX"
      },
      "source": [
        "Escreva suas conclusões aqui"
      ]
    },
    {
      "cell_type": "markdown",
      "id": "a6743a70",
      "metadata": {
        "id": "a6743a70"
      },
      "source": [
        "### [A2] Quantas pessoas fazem pedidos a cada hora do dia?"
      ]
    },
    {
      "cell_type": "code",
      "execution_count": 50,
      "id": "a36cca27",
      "metadata": {
        "id": "a36cca27"
      },
      "outputs": [],
      "source": []
    },
    {
      "cell_type": "markdown",
      "id": "11270eed",
      "metadata": {
        "id": "11270eed"
      },
      "source": [
        "Escreva suas conclusões aqui"
      ]
    },
    {
      "cell_type": "markdown",
      "id": "documented-command",
      "metadata": {
        "id": "documented-command"
      },
      "source": [
        "### [A3] Em que dia da semana as pessoas fazem compras?"
      ]
    },
    {
      "cell_type": "code",
      "execution_count": 50,
      "id": "chief-digit",
      "metadata": {
        "id": "chief-digit"
      },
      "outputs": [],
      "source": []
    },
    {
      "cell_type": "markdown",
      "id": "dominant-lightning",
      "metadata": {
        "id": "dominant-lightning"
      },
      "source": [
        "Escreva suas conclusões aqui"
      ]
    },
    {
      "cell_type": "markdown",
      "id": "cutting-concert",
      "metadata": {
        "id": "cutting-concert"
      },
      "source": [
        "### [A4] Quanto tempo as pessoas esperam até fazer outro pedido?"
      ]
    },
    {
      "cell_type": "markdown",
      "id": "discrete-vertex",
      "metadata": {
        "id": "discrete-vertex"
      },
      "source": [
        "Escreva suas conclusões aqui"
      ]
    },
    {
      "cell_type": "code",
      "execution_count": 50,
      "id": "gMOIimGd5VNb",
      "metadata": {
        "id": "gMOIimGd5VNb"
      },
      "outputs": [],
      "source": []
    },
    {
      "cell_type": "markdown",
      "id": "tight-staff",
      "metadata": {
        "id": "tight-staff"
      },
      "source": [
        "# [B] Médio (é necessário concluir tudo para passar)\n",
        "\n",
        "1.\tHá alguma diferença nas distribuições de `'order_hour_of_day'` nas quartas e sábados? Construa gráficos de barras para ambos os dias no mesmo gráfico e descreva as diferenças que você notou.\n",
        "2.\tConstrua um gráfico de distribuição para o número de pedidos que os clientes fazem (ou seja, quantos clientes fizeram apenas 1 pedido, quantos fizeram apenas 2, quantos apenas 3, etc.)\n",
        "3.\tQuais são os 20 produtos comprados com mais frequência? Exiba os IDs e nomes.\n"
      ]
    },
    {
      "cell_type": "markdown",
      "id": "packed-classic",
      "metadata": {
        "id": "packed-classic"
      },
      "source": [
        "### [B1] Diferenças nas quartas e sábados em `'order_hour_of_day'`. Crie gráficos de barras para ambos os dias e descreva as diferenças."
      ]
    },
    {
      "cell_type": "code",
      "execution_count": 50,
      "id": "d89b8403",
      "metadata": {
        "id": "d89b8403"
      },
      "outputs": [],
      "source": []
    },
    {
      "cell_type": "code",
      "execution_count": 50,
      "id": "94e54e8a",
      "metadata": {
        "id": "94e54e8a"
      },
      "outputs": [],
      "source": []
    },
    {
      "cell_type": "code",
      "execution_count": 50,
      "id": "797c90a8",
      "metadata": {
        "id": "797c90a8"
      },
      "outputs": [],
      "source": []
    },
    {
      "cell_type": "code",
      "execution_count": 50,
      "id": "35bcea30",
      "metadata": {
        "id": "35bcea30"
      },
      "outputs": [],
      "source": []
    },
    {
      "cell_type": "markdown",
      "id": "charitable-congo",
      "metadata": {
        "id": "charitable-congo"
      },
      "source": [
        "Escreva suas conclusões aqui"
      ]
    },
    {
      "cell_type": "markdown",
      "id": "e3891143",
      "metadata": {
        "id": "e3891143"
      },
      "source": [
        "### [B2] Qual é a distribuição do número de pedidos por cliente?"
      ]
    },
    {
      "cell_type": "code",
      "execution_count": 50,
      "id": "d8c26c23",
      "metadata": {
        "id": "d8c26c23"
      },
      "outputs": [],
      "source": []
    },
    {
      "cell_type": "code",
      "execution_count": 50,
      "id": "00e69a66",
      "metadata": {
        "id": "00e69a66"
      },
      "outputs": [],
      "source": []
    },
    {
      "cell_type": "markdown",
      "id": "d2eff7d5",
      "metadata": {
        "id": "d2eff7d5"
      },
      "source": [
        "Escreva suas conclusões aqui"
      ]
    },
    {
      "cell_type": "markdown",
      "id": "54a0319c",
      "metadata": {
        "id": "54a0319c"
      },
      "source": [
        "### [B3] Quais são os 20 produtos mais populares? Exiba os IDs e nomes."
      ]
    },
    {
      "cell_type": "code",
      "execution_count": 50,
      "id": "exterior-arizona",
      "metadata": {
        "id": "exterior-arizona",
        "scrolled": true
      },
      "outputs": [],
      "source": []
    },
    {
      "cell_type": "code",
      "execution_count": 50,
      "id": "universal-facial",
      "metadata": {
        "id": "universal-facial"
      },
      "outputs": [],
      "source": []
    },
    {
      "cell_type": "code",
      "execution_count": 50,
      "id": "bbcdd20b",
      "metadata": {
        "id": "bbcdd20b"
      },
      "outputs": [],
      "source": []
    },
    {
      "cell_type": "markdown",
      "id": "7df00f47",
      "metadata": {
        "id": "7df00f47"
      },
      "source": [
        "Escreva suas conclusões aqui"
      ]
    },
    {
      "cell_type": "markdown",
      "id": "gross-theme",
      "metadata": {
        "id": "gross-theme"
      },
      "source": [
        "# [C] Difícil (é necessário concluir pelo menos duas perguntas para passar)\n",
        "\n",
        "1.\tQuantos itens as pessoas normalmente compram em um pedido? Como fica a distribuição?\n",
        "2.\tQuais são os 20 principais itens incluídos mais frequentemente em pedidos repetidos? Exiba os IDs e nomes.\n",
        "3.\tPara cada produto, qual parcela de seus pedidos são repetidos? Crie uma tabela com colunas de ID e nome do produto e a proporção de pedidos repetidos.\n",
        "4.\tPara cada cliente, qual proporção de todos os seus pedidos são repetidos?\n",
        "5.\tQuais são os 20 principais itens que as pessoas colocam nos carrinhos antes de todos os outros? Exiba o ID do produto, nome e o número de vezes que ele foi o primeiro a ser adicionado a um carrinho.\n"
      ]
    },
    {
      "cell_type": "markdown",
      "id": "romantic-deposit",
      "metadata": {
        "id": "romantic-deposit"
      },
      "source": [
        "### [C1] Quantos itens as pessoas normalmente compram em um pedido? Como fica a distribuição?"
      ]
    },
    {
      "cell_type": "code",
      "execution_count": 50,
      "id": "virtual-punch",
      "metadata": {
        "id": "virtual-punch"
      },
      "outputs": [],
      "source": []
    },
    {
      "cell_type": "code",
      "execution_count": 50,
      "id": "sensitive-breathing",
      "metadata": {
        "id": "sensitive-breathing"
      },
      "outputs": [],
      "source": []
    },
    {
      "cell_type": "code",
      "execution_count": 50,
      "id": "completed-frank",
      "metadata": {
        "id": "completed-frank"
      },
      "outputs": [],
      "source": []
    },
    {
      "cell_type": "markdown",
      "id": "designed-mortality",
      "metadata": {
        "id": "designed-mortality"
      },
      "source": [
        "Escreva suas conclusões aqui"
      ]
    },
    {
      "cell_type": "markdown",
      "id": "5e6b5537",
      "metadata": {
        "id": "5e6b5537"
      },
      "source": [
        "### [C2] Quais são os 20 principais itens incluídos mais frequentemente em pedidos repetidos? Exiba os IDs e nomes."
      ]
    },
    {
      "cell_type": "code",
      "execution_count": 50,
      "id": "9374e55a",
      "metadata": {
        "id": "9374e55a"
      },
      "outputs": [],
      "source": []
    },
    {
      "cell_type": "code",
      "execution_count": 50,
      "id": "possible-change",
      "metadata": {
        "id": "possible-change",
        "scrolled": true
      },
      "outputs": [],
      "source": []
    },
    {
      "cell_type": "code",
      "execution_count": 50,
      "id": "professional-surfing",
      "metadata": {
        "id": "professional-surfing",
        "scrolled": true
      },
      "outputs": [],
      "source": []
    },
    {
      "cell_type": "code",
      "execution_count": 50,
      "id": "48dd3658",
      "metadata": {
        "id": "48dd3658"
      },
      "outputs": [],
      "source": []
    },
    {
      "cell_type": "markdown",
      "id": "80e70c74",
      "metadata": {
        "id": "80e70c74"
      },
      "source": [
        "Escreva suas conclusões aqui"
      ]
    },
    {
      "cell_type": "markdown",
      "id": "9d312b14",
      "metadata": {
        "id": "9d312b14"
      },
      "source": [
        "### [C3] Para cada produto, qual parcela de todos os pedidos dele são repetidos?"
      ]
    },
    {
      "cell_type": "code",
      "execution_count": 50,
      "id": "8ae9f4b1",
      "metadata": {
        "id": "8ae9f4b1"
      },
      "outputs": [],
      "source": []
    },
    {
      "cell_type": "code",
      "execution_count": 50,
      "id": "103e7fe1",
      "metadata": {
        "id": "103e7fe1"
      },
      "outputs": [],
      "source": []
    },
    {
      "cell_type": "code",
      "execution_count": 50,
      "id": "social-individual",
      "metadata": {
        "id": "social-individual"
      },
      "outputs": [],
      "source": []
    },
    {
      "cell_type": "markdown",
      "id": "I10dEIAyldcO",
      "metadata": {
        "id": "I10dEIAyldcO"
      },
      "source": [
        "Escreva suas conclusões aqui"
      ]
    },
    {
      "cell_type": "markdown",
      "id": "subject-boxing",
      "metadata": {
        "id": "subject-boxing"
      },
      "source": [
        "### [C4] Para cada cliente, qual proporção de todos os seus pedidos são repetidos?"
      ]
    },
    {
      "cell_type": "code",
      "execution_count": 50,
      "id": "medical-couple",
      "metadata": {
        "id": "medical-couple",
        "scrolled": true
      },
      "outputs": [],
      "source": []
    },
    {
      "cell_type": "code",
      "execution_count": 50,
      "id": "8892e4b4",
      "metadata": {
        "id": "8892e4b4"
      },
      "outputs": [],
      "source": []
    },
    {
      "cell_type": "markdown",
      "id": "BgJSvXDsleXz",
      "metadata": {
        "id": "BgJSvXDsleXz"
      },
      "source": [
        "Escreva suas conclusões aqui"
      ]
    },
    {
      "cell_type": "markdown",
      "id": "92d35137",
      "metadata": {
        "id": "92d35137"
      },
      "source": [
        "### [C5] Quais são os 20 principais itens que as pessoas colocam nos carrinhos antes de todos os outros?"
      ]
    },
    {
      "cell_type": "code",
      "execution_count": 50,
      "id": "0ae57274",
      "metadata": {
        "id": "0ae57274",
        "scrolled": true
      },
      "outputs": [],
      "source": []
    },
    {
      "cell_type": "code",
      "execution_count": 50,
      "id": "forty-netherlands",
      "metadata": {
        "id": "forty-netherlands",
        "scrolled": true
      },
      "outputs": [],
      "source": []
    },
    {
      "cell_type": "code",
      "execution_count": 50,
      "id": "08e41ec2",
      "metadata": {
        "id": "08e41ec2"
      },
      "outputs": [],
      "source": []
    },
    {
      "cell_type": "markdown",
      "id": "28ce9872",
      "metadata": {
        "id": "28ce9872"
      },
      "source": [
        "Escreva suas conclusões aqui"
      ]
    },
    {
      "cell_type": "markdown",
      "id": "TisH_5Cp3wAi",
      "metadata": {
        "id": "TisH_5Cp3wAi"
      },
      "source": [
        "# Conclusão geral do projeto:"
      ]
    },
    {
      "cell_type": "code",
      "execution_count": 50,
      "id": "Nk-4GS7mDwqY",
      "metadata": {
        "id": "Nk-4GS7mDwqY"
      },
      "outputs": [],
      "source": []
    }
  ],
  "metadata": {
    "ExecuteTimeLog": [
      {
        "duration": 14,
        "start_time": "2024-08-21T20:33:31.316Z"
      },
      {
        "duration": 7,
        "start_time": "2024-08-21T20:33:40.172Z"
      },
      {
        "duration": 358,
        "start_time": "2024-08-21T20:33:49.515Z"
      },
      {
        "duration": 535,
        "start_time": "2024-08-21T20:33:54.053Z"
      },
      {
        "duration": 917,
        "start_time": "2024-08-21T20:33:59.535Z"
      },
      {
        "duration": 156,
        "start_time": "2024-08-21T20:34:22.719Z"
      },
      {
        "duration": 491,
        "start_time": "2024-08-25T18:21:05.705Z"
      },
      {
        "duration": 1050,
        "start_time": "2024-08-25T18:21:10.619Z"
      },
      {
        "duration": 125,
        "start_time": "2024-08-25T18:21:24.030Z"
      },
      {
        "duration": 123,
        "start_time": "2024-08-25T18:22:32.646Z"
      },
      {
        "duration": 123,
        "start_time": "2024-08-25T18:26:32.287Z"
      },
      {
        "duration": 121,
        "start_time": "2024-08-25T18:27:33.325Z"
      },
      {
        "duration": 124,
        "start_time": "2024-08-25T18:29:05.846Z"
      },
      {
        "duration": 118,
        "start_time": "2024-08-25T18:29:29.274Z"
      }
    ],
    "colab": {
      "provenance": [],
      "include_colab_link": true
    },
    "kernelspec": {
      "display_name": "Python 3 (ipykernel)",
      "language": "python",
      "name": "python3"
    },
    "language_info": {
      "codemirror_mode": {
        "name": "ipython",
        "version": 3
      },
      "file_extension": ".py",
      "mimetype": "text/x-python",
      "name": "python",
      "nbconvert_exporter": "python",
      "pygments_lexer": "ipython3",
      "version": "3.9.19"
    },
    "toc": {
      "base_numbering": 1,
      "nav_menu": {},
      "number_sections": true,
      "sideBar": true,
      "skip_h1_title": true,
      "title_cell": "Table of Contents",
      "title_sidebar": "Contents",
      "toc_cell": false,
      "toc_position": {},
      "toc_section_display": true,
      "toc_window_display": false
    },
    "vscode": {
      "interpreter": {
        "hash": "01a7be9ec63e704a62cefc5fe7a4756944464ee731be31632bdf42a4cb4688cf"
      }
    }
  },
  "nbformat": 4,
  "nbformat_minor": 5
}